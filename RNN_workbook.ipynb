{
 "cells": [
  {
   "cell_type": "code",
   "execution_count": 293,
   "metadata": {},
   "outputs": [],
   "source": [
    "import pandas as pd\n",
    "import numpy as np\n",
    "import random\n",
    "\n",
    "from sklearn.feature_extraction.text import TfidfVectorizer\n",
    "from sklearn.feature_extraction.text import CountVectorizer\n",
    "from sklearn.model_selection import train_test_split\n",
    "from sklearn.ensemble import RandomForestClassifier\n",
    "from sklearn.naive_bayes import MultinomialNB\n",
    "from sklearn.neighbors import KNeighborsClassifier\n",
    "from sklearn.linear_model import LogisticRegression\n",
    "from sklearn.metrics import accuracy_score, balanced_accuracy_score, precision_score, recall_score, f1_score, confusion_matrix\n",
    "\n",
    "import keras\n",
    "from keras.preprocessing import text, sequence\n",
    "from keras.layers import Input, Dense, LSTM, Embedding, Dropout, Flatten\n",
    "from keras.models import Sequential\n",
    "from keras.optimizers import Adam, rmsprop\n",
    "from keras import regularizers\n",
    "from keras.layers.normalization import BatchNormalization\n",
    "\n",
    "from imblearn.over_sampling import SMOTE\n",
    "from imblearn.over_sampling import SMOTENC\n",
    "\n",
    "from wordcloud import WordCloud\n",
    "import seaborn as sns\n",
    "import matplotlib.pyplot as plt\n",
    "plt.style.use('ggplot')\n",
    "%matplotlib inline\n",
    "\n",
    "from get_labeled_dfs import *\n",
    "from process_text import *"
   ]
  },
  {
   "cell_type": "code",
   "execution_count": 294,
   "metadata": {},
   "outputs": [],
   "source": [
    "# getting data\n",
    "corpus_df, val_corpus_df, emotion_df, val_emotion_df, valence_df, val_valence_df = get_labeled_dfs()\n"
   ]
  },
  {
   "cell_type": "code",
   "execution_count": 295,
   "metadata": {},
   "outputs": [],
   "source": [
    "# using custom class method to process data\n",
    "processor = Process_Text_Data()\n",
    "processor.transform(corpus_df, RNN=True)\n"
   ]
  },
  {
   "cell_type": "code",
   "execution_count": 296,
   "metadata": {},
   "outputs": [
    {
     "data": {
      "text/html": [
       "<div>\n",
       "<style scoped>\n",
       "    .dataframe tbody tr th:only-of-type {\n",
       "        vertical-align: middle;\n",
       "    }\n",
       "\n",
       "    .dataframe tbody tr th {\n",
       "        vertical-align: top;\n",
       "    }\n",
       "\n",
       "    .dataframe thead th {\n",
       "        text-align: right;\n",
       "    }\n",
       "</style>\n",
       "<table border=\"1\" class=\"dataframe\">\n",
       "  <thead>\n",
       "    <tr style=\"text-align: right;\">\n",
       "      <th></th>\n",
       "      <th>text</th>\n",
       "    </tr>\n",
       "  </thead>\n",
       "  <tbody>\n",
       "    <tr>\n",
       "      <th>0</th>\n",
       "      <td>test to predict breast cancer relapse is approved</td>\n",
       "    </tr>\n",
       "    <tr>\n",
       "      <th>1</th>\n",
       "      <td>two hussein allies are hanged iraqi official says</td>\n",
       "    </tr>\n",
       "    <tr>\n",
       "      <th>2</th>\n",
       "      <td>sights and sounds from ces</td>\n",
       "    </tr>\n",
       "    <tr>\n",
       "      <th>3</th>\n",
       "      <td>schuey sees ferrari unveil new car</td>\n",
       "    </tr>\n",
       "    <tr>\n",
       "      <th>4</th>\n",
       "      <td>closings and cancellations top advice on flu o...</td>\n",
       "    </tr>\n",
       "  </tbody>\n",
       "</table>\n",
       "</div>"
      ],
      "text/plain": [
       "                                                text\n",
       "0  test to predict breast cancer relapse is approved\n",
       "1  two hussein allies are hanged iraqi official says\n",
       "2                         sights and sounds from ces\n",
       "3                 schuey sees ferrari unveil new car\n",
       "4  closings and cancellations top advice on flu o..."
      ]
     },
     "execution_count": 296,
     "metadata": {},
     "output_type": "execute_result"
    }
   ],
   "source": [
    "corpus_df.head()\n"
   ]
  },
  {
   "cell_type": "code",
   "execution_count": 297,
   "metadata": {},
   "outputs": [
    {
     "data": {
      "text/html": [
       "<div>\n",
       "<style scoped>\n",
       "    .dataframe tbody tr th:only-of-type {\n",
       "        vertical-align: middle;\n",
       "    }\n",
       "\n",
       "    .dataframe tbody tr th {\n",
       "        vertical-align: top;\n",
       "    }\n",
       "\n",
       "    .dataframe thead th {\n",
       "        text-align: right;\n",
       "    }\n",
       "</style>\n",
       "<table border=\"1\" class=\"dataframe\">\n",
       "  <thead>\n",
       "    <tr style=\"text-align: right;\">\n",
       "      <th></th>\n",
       "      <th>anger</th>\n",
       "      <th>disgust</th>\n",
       "      <th>fear</th>\n",
       "      <th>joy</th>\n",
       "      <th>sadness</th>\n",
       "      <th>surprise</th>\n",
       "      <th>max</th>\n",
       "      <th>label</th>\n",
       "    </tr>\n",
       "  </thead>\n",
       "  <tbody>\n",
       "    <tr>\n",
       "      <th>0</th>\n",
       "      <td>0</td>\n",
       "      <td>0</td>\n",
       "      <td>15</td>\n",
       "      <td>38</td>\n",
       "      <td>9</td>\n",
       "      <td>11</td>\n",
       "      <td>joy</td>\n",
       "      <td>3</td>\n",
       "    </tr>\n",
       "    <tr>\n",
       "      <th>1</th>\n",
       "      <td>24</td>\n",
       "      <td>26</td>\n",
       "      <td>16</td>\n",
       "      <td>13</td>\n",
       "      <td>38</td>\n",
       "      <td>5</td>\n",
       "      <td>sadness</td>\n",
       "      <td>4</td>\n",
       "    </tr>\n",
       "    <tr>\n",
       "      <th>2</th>\n",
       "      <td>0</td>\n",
       "      <td>0</td>\n",
       "      <td>0</td>\n",
       "      <td>17</td>\n",
       "      <td>0</td>\n",
       "      <td>4</td>\n",
       "      <td>joy</td>\n",
       "      <td>3</td>\n",
       "    </tr>\n",
       "    <tr>\n",
       "      <th>3</th>\n",
       "      <td>0</td>\n",
       "      <td>0</td>\n",
       "      <td>0</td>\n",
       "      <td>46</td>\n",
       "      <td>0</td>\n",
       "      <td>31</td>\n",
       "      <td>joy</td>\n",
       "      <td>3</td>\n",
       "    </tr>\n",
       "    <tr>\n",
       "      <th>4</th>\n",
       "      <td>1</td>\n",
       "      <td>0</td>\n",
       "      <td>23</td>\n",
       "      <td>8</td>\n",
       "      <td>11</td>\n",
       "      <td>8</td>\n",
       "      <td>fear</td>\n",
       "      <td>2</td>\n",
       "    </tr>\n",
       "  </tbody>\n",
       "</table>\n",
       "</div>"
      ],
      "text/plain": [
       "   anger  disgust  fear  joy  sadness  surprise      max  label\n",
       "0      0        0    15   38        9        11      joy      3\n",
       "1     24       26    16   13       38         5  sadness      4\n",
       "2      0        0     0   17        0         4      joy      3\n",
       "3      0        0     0   46        0        31      joy      3\n",
       "4      1        0    23    8       11         8     fear      2"
      ]
     },
     "execution_count": 297,
     "metadata": {},
     "output_type": "execute_result"
    }
   ],
   "source": [
    "emotion_df.head()"
   ]
  },
  {
   "cell_type": "code",
   "execution_count": 298,
   "metadata": {},
   "outputs": [
    {
     "data": {
      "text/plain": [
       "15"
      ]
     },
     "execution_count": 298,
     "metadata": {},
     "output_type": "execute_result"
    }
   ],
   "source": [
    "length = []\n",
    "for i in corpus_df['text']:\n",
    "    length.append(len(i.split()))\n",
    "max(length)"
   ]
  },
  {
   "cell_type": "markdown",
   "metadata": {},
   "source": [
    "## RNN: Emotion Labels"
   ]
  },
  {
   "cell_type": "code",
   "execution_count": 313,
   "metadata": {},
   "outputs": [],
   "source": [
    "# create a set of unique words in the corpus\n",
    "vocab = set()\n",
    "for headline in corpus_df['text']:\n",
    "    for word in headline.split():\n",
    "        vocab.add(word)\n",
    "\n",
    "# get vectors from the pretrained vocab and create a dictionary with the words from the set as keys\n",
    "glove_embeddings = {}\n",
    "with open('/Users/flatironschool/Desktop/glove/glove.6B.300d.txt', 'rb') as f:\n",
    "    for i in f:\n",
    "        key_vec = i.split()\n",
    "        word = key_vec[0].decode('utf-8')\n",
    "        if word in vocab:\n",
    "            glove_embeddings[word] = np.array(key_vec[1:], dtype=np.float32)"
   ]
  },
  {
   "cell_type": "code",
   "execution_count": 314,
   "metadata": {},
   "outputs": [],
   "source": [
    "X = corpus_df['text']\n",
    "y = emotion_df['label']\n",
    "\n",
    "tokenizer = text.Tokenizer(num_words=20000)\n",
    "tokenizer.fit_on_texts(list(X))\n",
    "\n",
    "# assign a unique number to each word in the corpus and represents texts via these numbers\n",
    "sequences = tokenizer.texts_to_sequences(X)\n",
    "# add zeros to the front of each sequence as necessary to make them all the same length\n",
    "padded_X = sequence.pad_sequences(sequences, maxlen=10)\n"
   ]
  },
  {
   "cell_type": "code",
   "execution_count": 315,
   "metadata": {},
   "outputs": [
    {
     "data": {
      "text/plain": [
       "2940"
      ]
     },
     "execution_count": 315,
     "metadata": {},
     "output_type": "execute_result"
    }
   ],
   "source": [
    "len(tokenizer.word_index) + 1"
   ]
  },
  {
   "cell_type": "code",
   "execution_count": 316,
   "metadata": {},
   "outputs": [],
   "source": [
    "# create an array of zeros the size of the vocabulary by the size of the word vectors\n",
    "num_words = len(tokenizer.word_index) + 1\n",
    "embedding_matrix = np.zeros((num_words, 300))\n",
    "\n",
    "# fill the array so that the word vectors that fill the array correspond to their sequence numbers\n",
    "for ind, word in enumerate(tokenizer.word_index.keys()):\n",
    "    if word in glove_embeddings.keys():\n",
    "        embedding_matrix[ind + 1, :] = glove_embeddings[word]\n"
   ]
  },
  {
   "cell_type": "code",
   "execution_count": 320,
   "metadata": {},
   "outputs": [],
   "source": [
    "# random.seed(2)\n",
    "# train_list = np.random.choice(range(0,1000), size=750, replace=False)\n",
    "# test_list = [i for i in range(0,1000) if i not in train_list]\n",
    "\n",
    "# X_train = padded_X[train_list]\n",
    "# X_test = padded_X[test_list]\n",
    "\n",
    "X_train, X_test, y_train, y_test = train_test_split(padded_X, y, test_size=0.2, stratify=y, random_state=42)\n",
    "\n",
    "# labels one hot encoded\n",
    "y_train_onehot = pd.get_dummies(y_train).values\n",
    "y_test_onehot = pd.get_dummies(y_test).values\n",
    "\n",
    "# USE SMOTENC to balance classes on the training set\n",
    "smt = SMOTENC(sampling_strategy='not majority', random_state=42, categorical_features=[0,2,3,4,5,6,7,8,9])\n",
    "X_res, y_res = smt.fit_resample(X_train, y_train_onehot)\n",
    "\n",
    "\n"
   ]
  },
  {
   "cell_type": "code",
   "execution_count": 322,
   "metadata": {},
   "outputs": [
    {
     "name": "stdout",
     "output_type": "stream",
     "text": [
      "Train on 1740 samples, validate on 200 samples\n",
      "Epoch 1/20\n",
      "1740/1740 [==============================] - 13s 8ms/step - loss: 0.0783 - acc: 0.6310 - val_loss: 0.1203 - val_acc: 0.4200\n",
      "Epoch 2/20\n",
      "1740/1740 [==============================] - 1s 350us/step - loss: 0.0359 - acc: 0.8655 - val_loss: 0.1148 - val_acc: 0.4600\n",
      "Epoch 3/20\n",
      "1740/1740 [==============================] - 1s 350us/step - loss: 0.0222 - acc: 0.9195 - val_loss: 0.1099 - val_acc: 0.5250\n",
      "Epoch 4/20\n",
      "1740/1740 [==============================] - 1s 345us/step - loss: 0.0149 - acc: 0.9500 - val_loss: 0.1155 - val_acc: 0.4850\n",
      "Epoch 5/20\n",
      "1740/1740 [==============================] - 1s 362us/step - loss: 0.0103 - acc: 0.9655 - val_loss: 0.1211 - val_acc: 0.4750\n",
      "Epoch 6/20\n",
      "1740/1740 [==============================] - 1s 369us/step - loss: 0.0065 - acc: 0.9799 - val_loss: 0.1130 - val_acc: 0.5250\n",
      "Epoch 7/20\n",
      "1740/1740 [==============================] - 1s 364us/step - loss: 0.0054 - acc: 0.9862 - val_loss: 0.1060 - val_acc: 0.5600\n",
      "Epoch 8/20\n",
      "1740/1740 [==============================] - 1s 360us/step - loss: 0.0041 - acc: 0.9868 - val_loss: 0.1150 - val_acc: 0.5250\n",
      "Epoch 9/20\n",
      "1740/1740 [==============================] - 1s 369us/step - loss: 0.0026 - acc: 0.9948 - val_loss: 0.1198 - val_acc: 0.5000\n",
      "Epoch 10/20\n",
      "1740/1740 [==============================] - 1s 374us/step - loss: 0.0016 - acc: 0.9971 - val_loss: 0.1186 - val_acc: 0.5150\n",
      "Epoch 11/20\n",
      "1740/1740 [==============================] - 1s 366us/step - loss: 0.0016 - acc: 0.9954 - val_loss: 0.1239 - val_acc: 0.4900\n",
      "Epoch 12/20\n",
      "1740/1740 [==============================] - 1s 418us/step - loss: 0.0017 - acc: 0.9960 - val_loss: 0.1190 - val_acc: 0.5050\n",
      "Epoch 13/20\n",
      "1740/1740 [==============================] - 1s 367us/step - loss: 0.0011 - acc: 0.9971 - val_loss: 0.1132 - val_acc: 0.5550\n",
      "Epoch 14/20\n",
      "1740/1740 [==============================] - 1s 394us/step - loss: 9.2323e-04 - acc: 0.9977 - val_loss: 0.1171 - val_acc: 0.5350\n",
      "Epoch 15/20\n",
      "1740/1740 [==============================] - 1s 363us/step - loss: 0.0015 - acc: 0.9960 - val_loss: 0.1158 - val_acc: 0.5750\n",
      "Epoch 16/20\n",
      "1740/1740 [==============================] - 1s 383us/step - loss: 0.0023 - acc: 0.9931 - val_loss: 0.1211 - val_acc: 0.5500\n",
      "Epoch 17/20\n",
      "1740/1740 [==============================] - 1s 400us/step - loss: 0.0013 - acc: 0.9966 - val_loss: 0.1091 - val_acc: 0.5800\n",
      "Epoch 18/20\n",
      "1740/1740 [==============================] - 1s 413us/step - loss: 5.9863e-04 - acc: 0.9983 - val_loss: 0.1143 - val_acc: 0.5700\n",
      "Epoch 19/20\n",
      "1740/1740 [==============================] - 1s 414us/step - loss: 5.5589e-04 - acc: 0.9983 - val_loss: 0.1118 - val_acc: 0.5750\n",
      "Epoch 20/20\n",
      "1740/1740 [==============================] - 1s 414us/step - loss: 0.0016 - acc: 0.9937 - val_loss: 0.1272 - val_acc: 0.5350\n"
     ]
    }
   ],
   "source": [
    "model = Sequential()\n",
    "\n",
    "model.add(Embedding(num_words, 300, weights=[embedding_matrix], input_length=10, trainable=False))\n",
    "model.add(LSTM(64, activation='relu', return_sequences=True))\n",
    "model.add(BatchNormalization())\n",
    "# model.add(Dropout(0.5))\n",
    "model.add(LSTM(32, activation='relu'))\n",
    "model.add(BatchNormalization())\n",
    "# model.add(Dropout(0.5))\n",
    "model.add(Dense(6, activation='softmax'))\n",
    "\n",
    "model.compile(loss='mean_squared_error',\n",
    "              optimizer=rmsprop(lr=.002, decay=.00001),\n",
    "              metrics=['accuracy'])\n",
    "\n",
    "\n",
    "history = model.fit(X_res, \n",
    "                    y_res,\n",
    "                    epochs=20,\n",
    "                    batch_size=100,\n",
    "                    class_weight='balanced',\n",
    "                    validation_data=(X_test, y_test_onehot))"
   ]
  },
  {
   "cell_type": "code",
   "execution_count": 323,
   "metadata": {},
   "outputs": [
    {
     "name": "stdout",
     "output_type": "stream",
     "text": [
      "200/200 [==============================] - 0s 344us/step\n"
     ]
    },
    {
     "data": {
      "text/plain": [
       "[0.12724614262580872, 0.535]"
      ]
     },
     "execution_count": 323,
     "metadata": {},
     "output_type": "execute_result"
    }
   ],
   "source": [
    "model.evaluate(X_test, y_test_onehot)"
   ]
  },
  {
   "cell_type": "code",
   "execution_count": 324,
   "metadata": {},
   "outputs": [
    {
     "data": {
      "text/plain": [
       "[<matplotlib.lines.Line2D at 0x1a93ec4898>]"
      ]
     },
     "execution_count": 324,
     "metadata": {},
     "output_type": "execute_result"
    },
    {
     "data": {
      "image/png": "[encoded data removed]",
      "text/plain": [
       "<Figure size 432x288 with 1 Axes>"
      ]
     },
     "metadata": {
      "needs_background": "light"
     },
     "output_type": "display_data"
    }
   ],
   "source": [
    "plt.plot(model.history.history['acc'], color='blue', label='acc')\n",
    "plt.plot(model.history.history['loss'], label='loss')"
   ]
  },
  {
   "cell_type": "code",
   "execution_count": 325,
   "metadata": {},
   "outputs": [
    {
     "data": {
      "text/plain": [
       "[<matplotlib.lines.Line2D at 0x1a8fe0b710>]"
      ]
     },
     "execution_count": 325,
     "metadata": {},
     "output_type": "execute_result"
    },
    {
     "data": {
      "image/png": "[encoded data removed]",
      "text/plain": [
       "<Figure size 432x288 with 1 Axes>"
      ]
     },
     "metadata": {
      "needs_background": "light"
     },
     "output_type": "display_data"
    }
   ],
   "source": [
    "plt.plot(model.history.history['val_acc'], color='blue', label='val_acc')\n",
    "plt.plot(model.history.history['val_loss'], label='val_loss')"
   ]
  },
  {
   "cell_type": "code",
   "execution_count": 326,
   "metadata": {},
   "outputs": [],
   "source": [
    "# model.save('RNN_emotion.h5')"
   ]
  },
  {
   "cell_type": "code",
   "execution_count": 327,
   "metadata": {},
   "outputs": [
    {
     "ename": "ValueError",
     "evalue": "Can only tuple-index with a MultiIndex",
     "output_type": "error",
     "traceback": [
      "\u001b[0;31m---------------------------------------------------------------------------\u001b[0m",
      "\u001b[0;31mValueError\u001b[0m                                Traceback (most recent call last)",
      "\u001b[0;32m<ipython-input-327-24e10a902f6c>\u001b[0m in \u001b[0;36m<module>\u001b[0;34m\u001b[0m\n\u001b[1;32m      1\u001b[0m \u001b[0mpreds\u001b[0m \u001b[0;34m=\u001b[0m \u001b[0mmodel\u001b[0m\u001b[0;34m.\u001b[0m\u001b[0mpredict_on_batch\u001b[0m\u001b[0;34m(\u001b[0m\u001b[0mX_test\u001b[0m\u001b[0;34m)\u001b[0m\u001b[0;34m\u001b[0m\u001b[0;34m\u001b[0m\u001b[0m\n\u001b[1;32m      2\u001b[0m \u001b[0;34m\u001b[0m\u001b[0m\n\u001b[0;32m----> 3\u001b[0;31m \u001b[0memotion_preds\u001b[0m \u001b[0;34m=\u001b[0m \u001b[0mpd\u001b[0m\u001b[0;34m.\u001b[0m\u001b[0mDataFrame\u001b[0m\u001b[0;34m(\u001b[0m\u001b[0;34m{\u001b[0m\u001b[0;34m\"Prediction Anger\"\u001b[0m\u001b[0;34m:\u001b[0m\u001b[0mpreds\u001b[0m\u001b[0;34m[\u001b[0m\u001b[0;34m:\u001b[0m\u001b[0;34m,\u001b[0m\u001b[0;36m0\u001b[0m\u001b[0;34m]\u001b[0m\u001b[0;34m,\u001b[0m \u001b[0;34m\"Prediction Disgust\"\u001b[0m\u001b[0;34m:\u001b[0m\u001b[0mpreds\u001b[0m\u001b[0;34m[\u001b[0m\u001b[0;34m:\u001b[0m\u001b[0;34m,\u001b[0m\u001b[0;36m1\u001b[0m\u001b[0;34m]\u001b[0m\u001b[0;34m,\u001b[0m \u001b[0;34m\"Prediction Fear\"\u001b[0m\u001b[0;34m:\u001b[0m\u001b[0mpreds\u001b[0m\u001b[0;34m[\u001b[0m\u001b[0;34m:\u001b[0m\u001b[0;34m,\u001b[0m\u001b[0;36m2\u001b[0m\u001b[0;34m]\u001b[0m\u001b[0;34m,\u001b[0m \u001b[0;34m\"Prediction Joy\"\u001b[0m\u001b[0;34m:\u001b[0m\u001b[0mpreds\u001b[0m\u001b[0;34m[\u001b[0m\u001b[0;34m:\u001b[0m\u001b[0;34m,\u001b[0m\u001b[0;36m3\u001b[0m\u001b[0;34m]\u001b[0m\u001b[0;34m,\u001b[0m \u001b[0;34m\"Prediction Sadness\"\u001b[0m\u001b[0;34m:\u001b[0m\u001b[0mpreds\u001b[0m\u001b[0;34m[\u001b[0m\u001b[0;34m:\u001b[0m\u001b[0;34m,\u001b[0m\u001b[0;36m4\u001b[0m\u001b[0;34m]\u001b[0m\u001b[0;34m,\u001b[0m \u001b[0;34m\"Prediction Surprise\"\u001b[0m\u001b[0;34m:\u001b[0m\u001b[0mpreds\u001b[0m\u001b[0;34m[\u001b[0m\u001b[0;34m:\u001b[0m\u001b[0;34m,\u001b[0m\u001b[0;36m5\u001b[0m\u001b[0;34m]\u001b[0m\u001b[0;34m,\u001b[0m \u001b[0;34m\"Anger\"\u001b[0m\u001b[0;34m:\u001b[0m\u001b[0my_test\u001b[0m\u001b[0;34m[\u001b[0m\u001b[0;34m:\u001b[0m\u001b[0;34m,\u001b[0m\u001b[0;36m0\u001b[0m\u001b[0;34m]\u001b[0m\u001b[0;34m,\u001b[0m \u001b[0;34m\"Disgust\"\u001b[0m\u001b[0;34m:\u001b[0m\u001b[0my_test\u001b[0m\u001b[0;34m[\u001b[0m\u001b[0;34m:\u001b[0m\u001b[0;34m,\u001b[0m\u001b[0;36m1\u001b[0m\u001b[0;34m]\u001b[0m\u001b[0;34m,\u001b[0m \u001b[0;34m\"Fear\"\u001b[0m\u001b[0;34m:\u001b[0m \u001b[0my_test\u001b[0m\u001b[0;34m[\u001b[0m\u001b[0;34m:\u001b[0m\u001b[0;34m,\u001b[0m\u001b[0;36m2\u001b[0m\u001b[0;34m]\u001b[0m\u001b[0;34m,\u001b[0m \u001b[0;34m\"Joy\"\u001b[0m\u001b[0;34m:\u001b[0m \u001b[0my_test\u001b[0m\u001b[0;34m[\u001b[0m\u001b[0;34m:\u001b[0m\u001b[0;34m,\u001b[0m\u001b[0;36m3\u001b[0m\u001b[0;34m]\u001b[0m\u001b[0;34m,\u001b[0m \u001b[0;34m\"Sadness\"\u001b[0m\u001b[0;34m:\u001b[0m \u001b[0my_test\u001b[0m\u001b[0;34m[\u001b[0m\u001b[0;34m:\u001b[0m\u001b[0;34m,\u001b[0m\u001b[0;36m4\u001b[0m\u001b[0;34m]\u001b[0m\u001b[0;34m,\u001b[0m \u001b[0;34m\"Surprise\"\u001b[0m\u001b[0;34m:\u001b[0m \u001b[0my_test\u001b[0m\u001b[0;34m[\u001b[0m\u001b[0;34m:\u001b[0m\u001b[0;34m,\u001b[0m\u001b[0;36m5\u001b[0m\u001b[0;34m]\u001b[0m\u001b[0;34m}\u001b[0m\u001b[0;34m)\u001b[0m\u001b[0;34m\u001b[0m\u001b[0;34m\u001b[0m\u001b[0m\n\u001b[0m\u001b[1;32m      4\u001b[0m \u001b[0memotion_preds\u001b[0m\u001b[0;34m.\u001b[0m\u001b[0mhead\u001b[0m\u001b[0;34m(\u001b[0m\u001b[0;34m)\u001b[0m\u001b[0;34m\u001b[0m\u001b[0;34m\u001b[0m\u001b[0m\n",
      "\u001b[0;32m/anaconda3/lib/python3.7/site-packages/pandas/core/series.py\u001b[0m in \u001b[0;36m__getitem__\u001b[0;34m(self, key)\u001b[0m\n\u001b[1;32m    909\u001b[0m             \u001b[0mkey\u001b[0m \u001b[0;34m=\u001b[0m \u001b[0mcheck_bool_indexer\u001b[0m\u001b[0;34m(\u001b[0m\u001b[0mself\u001b[0m\u001b[0;34m.\u001b[0m\u001b[0mindex\u001b[0m\u001b[0;34m,\u001b[0m \u001b[0mkey\u001b[0m\u001b[0;34m)\u001b[0m\u001b[0;34m\u001b[0m\u001b[0;34m\u001b[0m\u001b[0m\n\u001b[1;32m    910\u001b[0m \u001b[0;34m\u001b[0m\u001b[0m\n\u001b[0;32m--> 911\u001b[0;31m         \u001b[0;32mreturn\u001b[0m \u001b[0mself\u001b[0m\u001b[0;34m.\u001b[0m\u001b[0m_get_with\u001b[0m\u001b[0;34m(\u001b[0m\u001b[0mkey\u001b[0m\u001b[0;34m)\u001b[0m\u001b[0;34m\u001b[0m\u001b[0;34m\u001b[0m\u001b[0m\n\u001b[0m\u001b[1;32m    912\u001b[0m \u001b[0;34m\u001b[0m\u001b[0m\n\u001b[1;32m    913\u001b[0m     \u001b[0;32mdef\u001b[0m \u001b[0m_get_with\u001b[0m\u001b[0;34m(\u001b[0m\u001b[0mself\u001b[0m\u001b[0;34m,\u001b[0m \u001b[0mkey\u001b[0m\u001b[0;34m)\u001b[0m\u001b[0;34m:\u001b[0m\u001b[0;34m\u001b[0m\u001b[0;34m\u001b[0m\u001b[0m\n",
      "\u001b[0;32m/anaconda3/lib/python3.7/site-packages/pandas/core/series.py\u001b[0m in \u001b[0;36m_get_with\u001b[0;34m(self, key)\u001b[0m\n\u001b[1;32m    921\u001b[0m         \u001b[0;32melif\u001b[0m \u001b[0misinstance\u001b[0m\u001b[0;34m(\u001b[0m\u001b[0mkey\u001b[0m\u001b[0;34m,\u001b[0m \u001b[0mtuple\u001b[0m\u001b[0;34m)\u001b[0m\u001b[0;34m:\u001b[0m\u001b[0;34m\u001b[0m\u001b[0;34m\u001b[0m\u001b[0m\n\u001b[1;32m    922\u001b[0m             \u001b[0;32mtry\u001b[0m\u001b[0;34m:\u001b[0m\u001b[0;34m\u001b[0m\u001b[0;34m\u001b[0m\u001b[0m\n\u001b[0;32m--> 923\u001b[0;31m                 \u001b[0;32mreturn\u001b[0m \u001b[0mself\u001b[0m\u001b[0;34m.\u001b[0m\u001b[0m_get_values_tuple\u001b[0m\u001b[0;34m(\u001b[0m\u001b[0mkey\u001b[0m\u001b[0;34m)\u001b[0m\u001b[0;34m\u001b[0m\u001b[0;34m\u001b[0m\u001b[0m\n\u001b[0m\u001b[1;32m    924\u001b[0m             \u001b[0;32mexcept\u001b[0m \u001b[0mException\u001b[0m\u001b[0;34m:\u001b[0m\u001b[0;34m\u001b[0m\u001b[0;34m\u001b[0m\u001b[0m\n\u001b[1;32m    925\u001b[0m                 \u001b[0;32mif\u001b[0m \u001b[0mlen\u001b[0m\u001b[0;34m(\u001b[0m\u001b[0mkey\u001b[0m\u001b[0;34m)\u001b[0m \u001b[0;34m==\u001b[0m \u001b[0;36m1\u001b[0m\u001b[0;34m:\u001b[0m\u001b[0;34m\u001b[0m\u001b[0;34m\u001b[0m\u001b[0m\n",
      "\u001b[0;32m/anaconda3/lib/python3.7/site-packages/pandas/core/series.py\u001b[0m in \u001b[0;36m_get_values_tuple\u001b[0;34m(self, key)\u001b[0m\n\u001b[1;32m    966\u001b[0m \u001b[0;34m\u001b[0m\u001b[0m\n\u001b[1;32m    967\u001b[0m         \u001b[0;32mif\u001b[0m \u001b[0;32mnot\u001b[0m \u001b[0misinstance\u001b[0m\u001b[0;34m(\u001b[0m\u001b[0mself\u001b[0m\u001b[0;34m.\u001b[0m\u001b[0mindex\u001b[0m\u001b[0;34m,\u001b[0m \u001b[0mMultiIndex\u001b[0m\u001b[0;34m)\u001b[0m\u001b[0;34m:\u001b[0m\u001b[0;34m\u001b[0m\u001b[0;34m\u001b[0m\u001b[0m\n\u001b[0;32m--> 968\u001b[0;31m             \u001b[0;32mraise\u001b[0m \u001b[0mValueError\u001b[0m\u001b[0;34m(\u001b[0m\u001b[0;34m'Can only tuple-index with a MultiIndex'\u001b[0m\u001b[0;34m)\u001b[0m\u001b[0;34m\u001b[0m\u001b[0;34m\u001b[0m\u001b[0m\n\u001b[0m\u001b[1;32m    969\u001b[0m \u001b[0;34m\u001b[0m\u001b[0m\n\u001b[1;32m    970\u001b[0m         \u001b[0;31m# If key is contained, would have returned by now\u001b[0m\u001b[0;34m\u001b[0m\u001b[0;34m\u001b[0m\u001b[0;34m\u001b[0m\u001b[0m\n",
      "\u001b[0;31mValueError\u001b[0m: Can only tuple-index with a MultiIndex"
     ]
    }
   ],
   "source": [
    "preds = model.predict_on_batch(X_test)\n",
    "\n",
    "emotion_preds = pd.DataFrame({\"Prediction Anger\":preds[:,0], \"Prediction Disgust\":preds[:,1], \"Prediction Fear\":preds[:,2], \"Prediction Joy\":preds[:,3], \"Prediction Sadness\":preds[:,4], \"Prediction Surprise\":preds[:,5], \"Anger\":y_test[:,0], \"Disgust\":y_test[:,1], \"Fear\": y_test[:,2], \"Joy\": y_test[:,3], \"Sadness\": y_test[:,4], \"Surprise\": y_test[:,5]})\n",
    "emotion_preds.head()"
   ]
  },
  {
   "cell_type": "markdown",
   "metadata": {},
   "source": [
    "# RNN with Valence Labels"
   ]
  },
  {
   "cell_type": "code",
   "execution_count": 258,
   "metadata": {},
   "outputs": [],
   "source": [
    "X = corpus_df['text']\n",
    "y = valence_df['label']\n",
    "\n",
    "tokenizer = text.Tokenizer(num_words=20000)\n",
    "tokenizer.fit_on_texts(list(X))\n",
    "sequences = tokenizer.texts_to_sequences(X)\n",
    "padded_X = sequence.pad_sequences(sequences, maxlen=10)\n"
   ]
  },
  {
   "cell_type": "code",
   "execution_count": 272,
   "metadata": {},
   "outputs": [
    {
     "name": "stdout",
     "output_type": "stream",
     "text": [
      "Train on 750 samples, validate on 250 samples\n",
      "Epoch 1/20\n",
      "750/750 [==============================] - 12s 16ms/step - loss: 0.2353 - acc: 0.4600 - val_loss: 0.1739 - val_acc: 0.6640\n",
      "Epoch 2/20\n",
      "750/750 [==============================] - 0s 387us/step - loss: 0.1136 - acc: 0.7773 - val_loss: 0.1507 - val_acc: 0.7040\n",
      "Epoch 3/20\n",
      "750/750 [==============================] - 0s 397us/step - loss: 0.0621 - acc: 0.9027 - val_loss: 0.1571 - val_acc: 0.7000\n",
      "Epoch 4/20\n",
      "750/750 [==============================] - 0s 391us/step - loss: 0.0350 - acc: 0.9547 - val_loss: 0.1701 - val_acc: 0.6400\n",
      "Epoch 5/20\n",
      "750/750 [==============================] - 0s 391us/step - loss: 0.0200 - acc: 0.9787 - val_loss: 0.1536 - val_acc: 0.6880\n",
      "Epoch 6/20\n",
      "750/750 [==============================] - 0s 385us/step - loss: 0.0113 - acc: 0.9893 - val_loss: 0.1720 - val_acc: 0.6360\n",
      "Epoch 7/20\n",
      "750/750 [==============================] - 0s 405us/step - loss: 0.0082 - acc: 0.9920 - val_loss: 0.1631 - val_acc: 0.6680\n",
      "Epoch 8/20\n",
      "750/750 [==============================] - 0s 388us/step - loss: 0.0062 - acc: 0.9960 - val_loss: 0.1599 - val_acc: 0.6880\n",
      "Epoch 9/20\n",
      "750/750 [==============================] - 0s 386us/step - loss: 0.0049 - acc: 0.9960 - val_loss: 0.1883 - val_acc: 0.6320\n",
      "Epoch 10/20\n",
      "750/750 [==============================] - 0s 395us/step - loss: 0.0068 - acc: 0.9947 - val_loss: 0.1681 - val_acc: 0.6880\n",
      "Epoch 11/20\n",
      "750/750 [==============================] - 0s 387us/step - loss: 0.0054 - acc: 0.9933 - val_loss: 0.1949 - val_acc: 0.6360\n",
      "Epoch 12/20\n",
      "750/750 [==============================] - 0s 379us/step - loss: 0.0054 - acc: 0.9933 - val_loss: 0.1889 - val_acc: 0.6400\n",
      "Epoch 13/20\n",
      "750/750 [==============================] - 0s 389us/step - loss: 0.0049 - acc: 0.9907 - val_loss: 0.1866 - val_acc: 0.6600\n",
      "Epoch 14/20\n",
      "750/750 [==============================] - 0s 382us/step - loss: 0.0028 - acc: 0.9960 - val_loss: 0.1709 - val_acc: 0.6680\n",
      "Epoch 15/20\n",
      "750/750 [==============================] - 0s 382us/step - loss: 0.0020 - acc: 0.9987 - val_loss: 0.1940 - val_acc: 0.6440\n",
      "Epoch 16/20\n",
      "750/750 [==============================] - 0s 445us/step - loss: 0.0030 - acc: 0.9987 - val_loss: 0.1651 - val_acc: 0.6880\n",
      "Epoch 17/20\n",
      "750/750 [==============================] - 0s 393us/step - loss: 0.0035 - acc: 0.9947 - val_loss: 0.1896 - val_acc: 0.6440\n",
      "Epoch 18/20\n",
      "750/750 [==============================] - 0s 412us/step - loss: 0.0045 - acc: 0.9933 - val_loss: 0.1766 - val_acc: 0.6840\n",
      "Epoch 19/20\n",
      "750/750 [==============================] - 0s 387us/step - loss: 0.0020 - acc: 0.9987 - val_loss: 0.1999 - val_acc: 0.6240\n",
      "Epoch 20/20\n",
      "750/750 [==============================] - 0s 398us/step - loss: 0.0014 - acc: 1.0000 - val_loss: 0.1714 - val_acc: 0.7040\n"
     ]
    }
   ],
   "source": [
    "random.seed(3)\n",
    "train_list = np.random.choice(range(0,1000), size=750, replace=False)\n",
    "test_list = [i for i in range(0,1000) if i not in train_list]\n",
    "\n",
    "X_train = padded_X[train_list]\n",
    "X_test = padded_X[test_list]\n",
    "\n",
    "# labels one hot encoded\n",
    "y_train = (y.iloc[train_list]).values\n",
    "y_test = (y.iloc[test_list]).values\n",
    "\n",
    "y_train_binary = keras.utils.to_categorical(y_train, 3)\n",
    "y_test_binary = keras.utils.to_categorical(y_test, 3)\n",
    "\n",
    "# USE SMOTENC to balance classes on the training set\n",
    "\n",
    "# smt = SMOTENC(sampling_strategy='not majority', random_state=42, categorical_features=[0,1,2])\n",
    "# X_res, y_res = smt.fit_resample(X_train, y_train_binary)\n",
    "\n",
    "model = Sequential()\n",
    "\n",
    "model.add(Embedding(num_words, 300, weights=[embedding_matrix], input_length=10, trainable=False))\n",
    "model.add(LSTM(64, activation='relu', return_sequences=True))\n",
    "model.add(BatchNormalization())\n",
    "# model.add(Dropout(0.5))\n",
    "model.add(LSTM(32, activation='relu'))\n",
    "model.add(BatchNormalization())\n",
    "# model.add(Dropout(0.5))\n",
    "model.add(Dense(3, activation='softmax'))\n",
    "\n",
    "model.compile(loss='mean_squared_error',\n",
    "              optimizer=rmsprop(lr=.003, decay=.00001),\n",
    "              metrics=['accuracy'])\n",
    "\n",
    "history = model.fit(X_train, \n",
    "                    y_train_binary,\n",
    "                    epochs=20,\n",
    "                    batch_size=100,\n",
    "                    class_weight='balanced',\n",
    "                    validation_data=(X_test, y_test_binary))\n"
   ]
  },
  {
   "cell_type": "code",
   "execution_count": 273,
   "metadata": {
    "scrolled": true
   },
   "outputs": [
    {
     "name": "stdout",
     "output_type": "stream",
     "text": [
      "250/250 [==============================] - 0s 253us/step\n"
     ]
    },
    {
     "data": {
      "text/plain": [
       "[0.17138865721225738, 0.7040000014305114]"
      ]
     },
     "execution_count": 273,
     "metadata": {},
     "output_type": "execute_result"
    }
   ],
   "source": [
    "model.evaluate(X_test, y_test_binary)\n"
   ]
  },
  {
   "cell_type": "code",
   "execution_count": 274,
   "metadata": {},
   "outputs": [
    {
     "data": {
      "text/plain": [
       "[<matplotlib.lines.Line2D at 0x1a867ed198>]"
      ]
     },
     "execution_count": 274,
     "metadata": {},
     "output_type": "execute_result"
    },
    {
     "data": {
      "image/png": "[encoded data removed]",
      "text/plain": [
       "<Figure size 432x288 with 1 Axes>"
      ]
     },
     "metadata": {
      "needs_background": "light"
     },
     "output_type": "display_data"
    }
   ],
   "source": [
    "plt.plot(model.history.history['acc'], color='blue', label='acc')\n",
    "plt.plot(model.history.history['loss'], label='loss')\n"
   ]
  },
  {
   "cell_type": "code",
   "execution_count": 275,
   "metadata": {},
   "outputs": [
    {
     "data": {
      "text/plain": [
       "[<matplotlib.lines.Line2D at 0x1a85aa45c0>]"
      ]
     },
     "execution_count": 275,
     "metadata": {},
     "output_type": "execute_result"
    },
    {
     "data": {
      "image/png": "[encoded data removed]",
      "text/plain": [
       "<Figure size 432x288 with 1 Axes>"
      ]
     },
     "metadata": {
      "needs_background": "light"
     },
     "output_type": "display_data"
    }
   ],
   "source": [
    "plt.plot(model.history.history['val_acc'], color='blue', label='val_acc')\n",
    "plt.plot(model.history.history['val_loss'], label='val_loss')\n"
   ]
  },
  {
   "cell_type": "code",
   "execution_count": 276,
   "metadata": {},
   "outputs": [],
   "source": [
    "preds = model.predict_on_batch(X_test)"
   ]
  },
  {
   "cell_type": "code",
   "execution_count": 291,
   "metadata": {},
   "outputs": [
    {
     "data": {
      "text/html": [
       "<div>\n",
       "<style scoped>\n",
       "    .dataframe tbody tr th:only-of-type {\n",
       "        vertical-align: middle;\n",
       "    }\n",
       "\n",
       "    .dataframe tbody tr th {\n",
       "        vertical-align: top;\n",
       "    }\n",
       "\n",
       "    .dataframe thead th {\n",
       "        text-align: right;\n",
       "    }\n",
       "</style>\n",
       "<table border=\"1\" class=\"dataframe\">\n",
       "  <thead>\n",
       "    <tr style=\"text-align: right;\">\n",
       "      <th></th>\n",
       "      <th>Prediction Neg</th>\n",
       "      <th>Prediction Pos</th>\n",
       "      <th>Prediction Neu</th>\n",
       "      <th>Neg</th>\n",
       "      <th>Pos</th>\n",
       "      <th>Neu</th>\n",
       "      <th>Actual Intensity</th>\n",
       "      <th>Prediction Label</th>\n",
       "    </tr>\n",
       "  </thead>\n",
       "  <tbody>\n",
       "    <tr>\n",
       "      <th>0</th>\n",
       "      <td>0.000795</td>\n",
       "      <td>0.998327</td>\n",
       "      <td>0.000878</td>\n",
       "      <td>0.0</td>\n",
       "      <td>1.0</td>\n",
       "      <td>0.0</td>\n",
       "      <td>32</td>\n",
       "      <td>1</td>\n",
       "    </tr>\n",
       "    <tr>\n",
       "      <th>3</th>\n",
       "      <td>0.000034</td>\n",
       "      <td>0.990617</td>\n",
       "      <td>0.009349</td>\n",
       "      <td>0.0</td>\n",
       "      <td>1.0</td>\n",
       "      <td>0.0</td>\n",
       "      <td>40</td>\n",
       "      <td>1</td>\n",
       "    </tr>\n",
       "    <tr>\n",
       "      <th>5</th>\n",
       "      <td>0.989483</td>\n",
       "      <td>0.000674</td>\n",
       "      <td>0.009843</td>\n",
       "      <td>1.0</td>\n",
       "      <td>0.0</td>\n",
       "      <td>0.0</td>\n",
       "      <td>-67</td>\n",
       "      <td>0</td>\n",
       "    </tr>\n",
       "    <tr>\n",
       "      <th>7</th>\n",
       "      <td>0.896963</td>\n",
       "      <td>0.100604</td>\n",
       "      <td>0.002433</td>\n",
       "      <td>0.0</td>\n",
       "      <td>0.0</td>\n",
       "      <td>1.0</td>\n",
       "      <td>-9</td>\n",
       "      <td>0</td>\n",
       "    </tr>\n",
       "    <tr>\n",
       "      <th>10</th>\n",
       "      <td>0.078879</td>\n",
       "      <td>0.884988</td>\n",
       "      <td>0.036133</td>\n",
       "      <td>1.0</td>\n",
       "      <td>0.0</td>\n",
       "      <td>0.0</td>\n",
       "      <td>-34</td>\n",
       "      <td>1</td>\n",
       "    </tr>\n",
       "  </tbody>\n",
       "</table>\n",
       "</div>"
      ],
      "text/plain": [
       "    Prediction Neg  Prediction Pos  Prediction Neu  Neg  Pos  Neu  \\\n",
       "0         0.000795        0.998327        0.000878  0.0  1.0  0.0   \n",
       "3         0.000034        0.990617        0.009349  0.0  1.0  0.0   \n",
       "5         0.989483        0.000674        0.009843  1.0  0.0  0.0   \n",
       "7         0.896963        0.100604        0.002433  0.0  0.0  1.0   \n",
       "10        0.078879        0.884988        0.036133  1.0  0.0  0.0   \n",
       "\n",
       "    Actual Intensity  Prediction Label  \n",
       "0                 32                 1  \n",
       "3                 40                 1  \n",
       "5                -67                 0  \n",
       "7                 -9                 0  \n",
       "10               -34                 1  "
      ]
     },
     "execution_count": 291,
     "metadata": {},
     "output_type": "execute_result"
    }
   ],
   "source": [
    "valence_preds = pd.DataFrame({\"Prediction Neg\":preds[:,0], \"Prediction Pos\":preds[:,1], \"Prediction Neu\":preds[:,2], \"Neg\":y_test_binary[:,0], \"Pos\":y_test_binary[:,1], \"Neu\": y_test_binary[:,2], \"Actual Intensity\": valence_df['valence'][test_list]})\n",
    "valence_preds['Prediction Label'] = valence_preds[['Prediction Neg', \"Prediction Pos\", 'Prediction Neu']].idxmax(axis=1)\n",
    "\n",
    "def label_preds(row):\n",
    "    if row == 'Prediction Neg':\n",
    "        return 0\n",
    "    if row == 'Prediction Pos':\n",
    "        return 1\n",
    "    if row == 'Prediction Neu':\n",
    "        return 2\n",
    "valence_preds['Prediction Label'] = valence_preds['Prediction Label'].apply(label_preds)\n",
    "valence_preds.head()"
   ]
  },
  {
   "cell_type": "code",
   "execution_count": 278,
   "metadata": {},
   "outputs": [
    {
     "data": {
      "text/plain": [
       "{'whiskers': [<matplotlib.lines.Line2D at 0x1a85655cf8>,\n",
       "  <matplotlib.lines.Line2D at 0x1a85655dd8>],\n",
       " 'caps': [<matplotlib.lines.Line2D at 0x1a856603c8>,\n",
       "  <matplotlib.lines.Line2D at 0x1a85660710>],\n",
       " 'boxes': [<matplotlib.lines.Line2D at 0x1a856556a0>],\n",
       " 'medians': [<matplotlib.lines.Line2D at 0x1a85660a58>],\n",
       " 'fliers': [<matplotlib.lines.Line2D at 0x1a85660da0>],\n",
       " 'means': []}"
      ]
     },
     "execution_count": 278,
     "metadata": {},
     "output_type": "execute_result"
    },
    {
     "data": {
      "image/png": "[encoded data removed]",
      "text/plain": [
       "<Figure size 720x360 with 3 Axes>"
      ]
     },
     "metadata": {
      "needs_background": "light"
     },
     "output_type": "display_data"
    }
   ],
   "source": [
    "neg_pred = valence_preds.loc[(valence_preds['Prediction Label']=='Prediction Neg')]\n",
    "pos_pred = valence_preds.loc[(valence_preds['Prediction Label']=='Prediction Pos')]\n",
    "neu_pred = valence_preds.loc[(valence_preds['Prediction Label']=='Prediction Neu')]\n",
    "\n",
    "fig, (ax1, ax2, ax3) = plt.subplots(1,3, sharey=True, figsize=(10, 5))\n",
    "# fig.add_subplot(1)\n",
    "ax1.boxplot(neg_pred['Actual Intensity'])\n",
    "# fig.add_subplot(2)\n",
    "ax2.boxplot(pos_pred['Actual Intensity'])\n",
    "# fig.add_subplot(3)\n",
    "ax3.boxplot(neu_pred['Actual Intensity'])"
   ]
  },
  {
   "cell_type": "code",
   "execution_count": 279,
   "metadata": {},
   "outputs": [],
   "source": [
    "# model.save('RNN_valence.h5')\n",
    "# 70.4% accuracy"
   ]
  },
  {
   "cell_type": "code",
   "execution_count": 292,
   "metadata": {},
   "outputs": [
    {
     "data": {
      "text/plain": [
       "array([[92, 19,  2],\n",
       "       [22, 83,  0],\n",
       "       [11, 20,  1]])"
      ]
     },
     "execution_count": 292,
     "metadata": {},
     "output_type": "execute_result"
    }
   ],
   "source": [
    "confusion_matrix(y.iloc[test_list], valence_preds['Prediction Label'])"
   ]
  },
  {
   "cell_type": "code",
   "execution_count": null,
   "metadata": {},
   "outputs": [],
   "source": []
  }
 ],
 "metadata": {
  "kernelspec": {
   "display_name": "Python 3",
   "language": "python",
   "name": "python3"
  },
  "language_info": {
   "codemirror_mode": {
    "name": "ipython",
    "version": 3
   },
   "file_extension": ".py",
   "mimetype": "text/x-python",
   "name": "python",
   "nbconvert_exporter": "python",
   "pygments_lexer": "ipython3",
   "version": "3.7.3"
  }
 },
 "nbformat": 4,
 "nbformat_minor": 2
}
