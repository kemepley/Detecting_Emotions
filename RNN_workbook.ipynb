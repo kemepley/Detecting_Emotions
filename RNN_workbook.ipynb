{
 "cells": [
  {
   "cell_type": "code",
   "execution_count": 1,
   "metadata": {},
   "outputs": [
    {
     "name": "stderr",
     "output_type": "stream",
     "text": [
      "Using TensorFlow backend.\n"
     ]
    }
   ],
   "source": [
    "import pandas as pd\n",
    "import numpy as np\n",
    "import random\n",
    "\n",
    "from sklearn.feature_extraction.text import TfidfVectorizer\n",
    "from sklearn.feature_extraction.text import CountVectorizer\n",
    "from sklearn.model_selection import train_test_split\n",
    "from sklearn.ensemble import RandomForestClassifier\n",
    "from sklearn.naive_bayes import MultinomialNB\n",
    "from sklearn.neighbors import KNeighborsClassifier\n",
    "from sklearn.linear_model import LogisticRegression\n",
    "from sklearn.metrics import accuracy_score, balanced_accuracy_score, precision_score, recall_score, f1_score, confusion_matrix\n",
    "\n",
    "import keras\n",
    "from keras.preprocessing import text, sequence\n",
    "from keras.layers import Input, Dense, LSTM, Embedding, Dropout, Flatten\n",
    "from keras.models import Sequential\n",
    "from keras.optimizers import Adam, rmsprop\n",
    "from keras import regularizers\n",
    "from keras.layers.normalization import BatchNormalization\n",
    "\n",
    "from imblearn.over_sampling import SMOTE\n",
    "from imblearn.under_sampling import RandomUnderSampler\n",
    "\n",
    "from wordcloud import WordCloud\n",
    "import seaborn as sns\n",
    "import matplotlib.pyplot as plt\n",
    "plt.style.use('ggplot')\n",
    "%matplotlib inline\n",
    "\n",
    "from get_labeled_dfs import *\n",
    "from process_text import *"
   ]
  },
  {
   "cell_type": "code",
   "execution_count": 2,
   "metadata": {},
   "outputs": [],
   "source": [
    "# getting data\n",
    "corpus_df, val_corpus_df, emotion_df, val_emotion_df, valence_df, val_valence_df = get_labeled_dfs()\n"
   ]
  },
  {
   "cell_type": "code",
   "execution_count": 5,
   "metadata": {},
   "outputs": [],
   "source": [
    "# using custom class method to process data\n",
    "processor = Process_Text_Data()\n",
    "processor.transform(corpus_df, RNN=True)\n"
   ]
  },
  {
   "cell_type": "code",
   "execution_count": 6,
   "metadata": {},
   "outputs": [
    {
     "data": {
      "text/html": [
       "<div>\n",
       "<style scoped>\n",
       "    .dataframe tbody tr th:only-of-type {\n",
       "        vertical-align: middle;\n",
       "    }\n",
       "\n",
       "    .dataframe tbody tr th {\n",
       "        vertical-align: top;\n",
       "    }\n",
       "\n",
       "    .dataframe thead th {\n",
       "        text-align: right;\n",
       "    }\n",
       "</style>\n",
       "<table border=\"1\" class=\"dataframe\">\n",
       "  <thead>\n",
       "    <tr style=\"text-align: right;\">\n",
       "      <th></th>\n",
       "      <th>text</th>\n",
       "    </tr>\n",
       "  </thead>\n",
       "  <tbody>\n",
       "    <tr>\n",
       "      <th>0</th>\n",
       "      <td>test predict breast cancer relapse approved</td>\n",
       "    </tr>\n",
       "    <tr>\n",
       "      <th>1</th>\n",
       "      <td>two hussein allies hanged iraqi official says</td>\n",
       "    </tr>\n",
       "    <tr>\n",
       "      <th>2</th>\n",
       "      <td>sights sounds ces</td>\n",
       "    </tr>\n",
       "    <tr>\n",
       "      <th>3</th>\n",
       "      <td>schuey sees ferrari unveil new car</td>\n",
       "    </tr>\n",
       "    <tr>\n",
       "      <th>4</th>\n",
       "      <td>closings cancellations top advice flu outbreak</td>\n",
       "    </tr>\n",
       "  </tbody>\n",
       "</table>\n",
       "</div>"
      ],
      "text/plain": [
       "                                             text\n",
       "0     test predict breast cancer relapse approved\n",
       "1   two hussein allies hanged iraqi official says\n",
       "2                               sights sounds ces\n",
       "3              schuey sees ferrari unveil new car\n",
       "4  closings cancellations top advice flu outbreak"
      ]
     },
     "execution_count": 6,
     "metadata": {},
     "output_type": "execute_result"
    }
   ],
   "source": [
    "corpus_df.head()\n"
   ]
  },
  {
   "cell_type": "code",
   "execution_count": 7,
   "metadata": {},
   "outputs": [
    {
     "data": {
      "text/html": [
       "<div>\n",
       "<style scoped>\n",
       "    .dataframe tbody tr th:only-of-type {\n",
       "        vertical-align: middle;\n",
       "    }\n",
       "\n",
       "    .dataframe tbody tr th {\n",
       "        vertical-align: top;\n",
       "    }\n",
       "\n",
       "    .dataframe thead th {\n",
       "        text-align: right;\n",
       "    }\n",
       "</style>\n",
       "<table border=\"1\" class=\"dataframe\">\n",
       "  <thead>\n",
       "    <tr style=\"text-align: right;\">\n",
       "      <th></th>\n",
       "      <th>anger</th>\n",
       "      <th>disgust</th>\n",
       "      <th>fear</th>\n",
       "      <th>joy</th>\n",
       "      <th>sadness</th>\n",
       "      <th>surprise</th>\n",
       "      <th>max</th>\n",
       "      <th>label</th>\n",
       "    </tr>\n",
       "  </thead>\n",
       "  <tbody>\n",
       "    <tr>\n",
       "      <th>0</th>\n",
       "      <td>0</td>\n",
       "      <td>0</td>\n",
       "      <td>15</td>\n",
       "      <td>38</td>\n",
       "      <td>9</td>\n",
       "      <td>11</td>\n",
       "      <td>joy</td>\n",
       "      <td>3</td>\n",
       "    </tr>\n",
       "    <tr>\n",
       "      <th>1</th>\n",
       "      <td>24</td>\n",
       "      <td>26</td>\n",
       "      <td>16</td>\n",
       "      <td>13</td>\n",
       "      <td>38</td>\n",
       "      <td>5</td>\n",
       "      <td>sadness</td>\n",
       "      <td>4</td>\n",
       "    </tr>\n",
       "    <tr>\n",
       "      <th>2</th>\n",
       "      <td>0</td>\n",
       "      <td>0</td>\n",
       "      <td>0</td>\n",
       "      <td>17</td>\n",
       "      <td>0</td>\n",
       "      <td>4</td>\n",
       "      <td>joy</td>\n",
       "      <td>3</td>\n",
       "    </tr>\n",
       "    <tr>\n",
       "      <th>3</th>\n",
       "      <td>0</td>\n",
       "      <td>0</td>\n",
       "      <td>0</td>\n",
       "      <td>46</td>\n",
       "      <td>0</td>\n",
       "      <td>31</td>\n",
       "      <td>joy</td>\n",
       "      <td>3</td>\n",
       "    </tr>\n",
       "    <tr>\n",
       "      <th>4</th>\n",
       "      <td>1</td>\n",
       "      <td>0</td>\n",
       "      <td>23</td>\n",
       "      <td>8</td>\n",
       "      <td>11</td>\n",
       "      <td>8</td>\n",
       "      <td>fear</td>\n",
       "      <td>2</td>\n",
       "    </tr>\n",
       "  </tbody>\n",
       "</table>\n",
       "</div>"
      ],
      "text/plain": [
       "   anger  disgust  fear  joy  sadness  surprise      max  label\n",
       "0      0        0    15   38        9        11      joy      3\n",
       "1     24       26    16   13       38         5  sadness      4\n",
       "2      0        0     0   17        0         4      joy      3\n",
       "3      0        0     0   46        0        31      joy      3\n",
       "4      1        0    23    8       11         8     fear      2"
      ]
     },
     "execution_count": 7,
     "metadata": {},
     "output_type": "execute_result"
    }
   ],
   "source": [
    "emotion_df.head()"
   ]
  },
  {
   "cell_type": "code",
   "execution_count": 14,
   "metadata": {},
   "outputs": [
    {
     "data": {
      "text/plain": [
       "10"
      ]
     },
     "execution_count": 14,
     "metadata": {},
     "output_type": "execute_result"
    }
   ],
   "source": [
    "length = []\n",
    "for i in corpus_df['text']:\n",
    "    length.append(len(i.split()))\n",
    "max(length)"
   ]
  },
  {
   "cell_type": "markdown",
   "metadata": {},
   "source": [
    "## RNN: Emotion Labels"
   ]
  },
  {
   "cell_type": "code",
   "execution_count": 15,
   "metadata": {},
   "outputs": [],
   "source": [
    "# create a set of unique words in the corpus\n",
    "vocab = set()\n",
    "for headline in corpus_df['text']:\n",
    "    for word in headline.split():\n",
    "        vocab.add(word)\n",
    "\n",
    "# get vectors from the pretrained vocab and create a dictionary with the words from the set as keys\n",
    "glove_embeddings = {}\n",
    "with open('/Users/flatironschool/Desktop/glove/glove.6B.300d.txt', 'rb') as f:\n",
    "    for i in f:\n",
    "        key_vec = i.split()\n",
    "        word = key_vec[0].decode('utf-8')\n",
    "        if word in vocab:\n",
    "            glove_embeddings[word] = np.array(key_vec[1:], dtype=np.float32)"
   ]
  },
  {
   "cell_type": "code",
   "execution_count": 16,
   "metadata": {},
   "outputs": [],
   "source": [
    "X = corpus_df['text']\n",
    "y = emotion_df['label']\n",
    "\n",
    "tokenizer = text.Tokenizer(num_words=20000)\n",
    "tokenizer.fit_on_texts(list(X))\n",
    "\n",
    "# assign a unique number to each word in the corpus and represents texts via these numbers\n",
    "sequences = tokenizer.texts_to_sequences(X)\n",
    "# add zeros to the front of each sequence as necessary to make them all the same length\n",
    "padded_X = sequence.pad_sequences(sequences, maxlen=10)\n"
   ]
  },
  {
   "cell_type": "code",
   "execution_count": 17,
   "metadata": {},
   "outputs": [],
   "source": [
    "# create an array of zeros the size of the vocabulary by the size of the word vectors\n",
    "num_words = len(tokenizer.word_index) + 1\n",
    "embedding_matrix = np.zeros((num_words, 300))\n",
    "\n",
    "# fill the array so that the word vectors that fill the array correspond to their sequence numbers\n",
    "for ind, word in enumerate(tokenizer.word_index.keys()):\n",
    "    if word in glove_embeddings.keys():\n",
    "        embedding_matrix[ind + 1, :] = glove_embeddings[word]\n"
   ]
  },
  {
   "cell_type": "code",
   "execution_count": 18,
   "metadata": {},
   "outputs": [],
   "source": [
    "random.seed(2)\n",
    "train_list = np.random.choice(range(0,1000), size=750, replace=False)\n",
    "test_list = [i for i in range(0,1000) if i not in train_list]\n",
    "\n",
    "X_train = padded_X[train_list]\n",
    "X_test = padded_X[test_list]\n",
    "\n",
    "\n",
    "# labels one hot encoded\n",
    "y_train = pd.get_dummies(y.iloc[train_list]).values\n",
    "y_test = pd.get_dummies(y.iloc[test_list]).values\n",
    "\n",
    "# y_train_binary = keras.utils.to_categorical(y_train, 6)\n",
    "# y_test_binary = keras.utils.to_categorical(y_test, 6)\n"
   ]
  },
  {
   "cell_type": "code",
   "execution_count": 19,
   "metadata": {},
   "outputs": [
    {
     "data": {
      "text/plain": [
       "array([   0,    0,    0,    0,    0,    0, 2605,   99,  276,  474],\n",
       "      dtype=int32)"
      ]
     },
     "execution_count": 19,
     "metadata": {},
     "output_type": "execute_result"
    }
   ],
   "source": [
    "X_train[0]"
   ]
  },
  {
   "cell_type": "code",
   "execution_count": 30,
   "metadata": {},
   "outputs": [
    {
     "name": "stdout",
     "output_type": "stream",
     "text": [
      "Train on 750 samples, validate on 250 samples\n",
      "Epoch 1/12\n",
      "750/750 [==============================] - 4s 5ms/step - loss: 0.1787 - acc: 0.1760 - val_loss: 0.1381 - val_acc: 0.2960\n",
      "Epoch 2/12\n",
      "750/750 [==============================] - 0s 583us/step - loss: 0.1573 - acc: 0.2653 - val_loss: 0.1297 - val_acc: 0.3120\n",
      "Epoch 3/12\n",
      "750/750 [==============================] - 1s 827us/step - loss: 0.1487 - acc: 0.3107 - val_loss: 0.1231 - val_acc: 0.3920\n",
      "Epoch 4/12\n",
      "750/750 [==============================] - 0s 566us/step - loss: 0.1370 - acc: 0.3613 - val_loss: 0.1187 - val_acc: 0.3960\n",
      "Epoch 5/12\n",
      "750/750 [==============================] - 0s 648us/step - loss: 0.1358 - acc: 0.3747 - val_loss: 0.1181 - val_acc: 0.4280\n",
      "Epoch 6/12\n",
      "750/750 [==============================] - 0s 538us/step - loss: 0.1193 - acc: 0.4493 - val_loss: 0.1161 - val_acc: 0.4600\n",
      "Epoch 7/12\n",
      "750/750 [==============================] - 0s 588us/step - loss: 0.1163 - acc: 0.4760 - val_loss: 0.1132 - val_acc: 0.4720\n",
      "Epoch 8/12\n",
      "750/750 [==============================] - 0s 539us/step - loss: 0.1040 - acc: 0.5453 - val_loss: 0.1073 - val_acc: 0.5120\n",
      "Epoch 9/12\n",
      "750/750 [==============================] - 0s 547us/step - loss: 0.1042 - acc: 0.5320 - val_loss: 0.1056 - val_acc: 0.5240\n",
      "Epoch 10/12\n",
      "750/750 [==============================] - 0s 590us/step - loss: 0.0960 - acc: 0.5653 - val_loss: 0.1024 - val_acc: 0.5320\n",
      "Epoch 11/12\n",
      "750/750 [==============================] - 0s 530us/step - loss: 0.0966 - acc: 0.5733 - val_loss: 0.1021 - val_acc: 0.5400\n",
      "Epoch 12/12\n",
      "750/750 [==============================] - 0s 544us/step - loss: 0.0909 - acc: 0.6027 - val_loss: 0.1023 - val_acc: 0.5480\n"
     ]
    }
   ],
   "source": [
    "model = Sequential()\n",
    "\n",
    "model.add(Embedding(num_words, 300, weights=[embedding_matrix], input_length=10, trainable=False))\n",
    "model.add(LSTM(64, activation='relu', return_sequences=True))\n",
    "model.add(BatchNormalization())\n",
    "model.add(Dropout(0.5))\n",
    "model.add(LSTM(32, activation='relu'))\n",
    "model.add(BatchNormalization())\n",
    "model.add(Dropout(0.5))\n",
    "model.add(Dense(6, activation='softmax'))\n",
    "\n",
    "model.compile(loss='mean_squared_error',\n",
    "              optimizer=rmsprop(lr=.002, decay=.00001),\n",
    "              metrics=['accuracy'])\n",
    "\n",
    "\n",
    "\n",
    "history = model.fit(X_train, \n",
    "                    y_train,\n",
    "                    epochs=20,\n",
    "                    batch_size=75,\n",
    "                    validation_data=(X_test, y_test))\n",
    "\n"
   ]
  },
  {
   "cell_type": "code",
   "execution_count": 31,
   "metadata": {},
   "outputs": [
    {
     "name": "stdout",
     "output_type": "stream",
     "text": [
      "250/250 [==============================] - 0s 225us/step\n"
     ]
    },
    {
     "data": {
      "text/plain": [
       "[0.10232255750894546, 0.5479999995231628]"
      ]
     },
     "execution_count": 31,
     "metadata": {},
     "output_type": "execute_result"
    }
   ],
   "source": [
    "model.evaluate(X_test, y_test)"
   ]
  },
  {
   "cell_type": "code",
   "execution_count": 32,
   "metadata": {},
   "outputs": [
    {
     "data": {
      "text/plain": [
       "[<matplotlib.lines.Line2D at 0x1a4785de10>]"
      ]
     },
     "execution_count": 32,
     "metadata": {},
     "output_type": "execute_result"
    },
    {
     "data": {
      "image/png": "[encoded data removed]",
      "text/plain": [
       "<Figure size 432x288 with 1 Axes>"
      ]
     },
     "metadata": {
      "needs_background": "light"
     },
     "output_type": "display_data"
    }
   ],
   "source": [
    "plt.plot(model.history.history['acc'], color='blue', label='acc')\n",
    "plt.plot(model.history.history['loss'], label='loss')"
   ]
  },
  {
   "cell_type": "code",
   "execution_count": 33,
   "metadata": {},
   "outputs": [
    {
     "data": {
      "text/plain": [
       "[<matplotlib.lines.Line2D at 0x1a47706668>]"
      ]
     },
     "execution_count": 33,
     "metadata": {},
     "output_type": "execute_result"
    },
    {
     "data": {
      "image/png": "[encoded data removed]",
      "text/plain": [
       "<Figure size 432x288 with 1 Axes>"
      ]
     },
     "metadata": {
      "needs_background": "light"
     },
     "output_type": "display_data"
    }
   ],
   "source": [
    "plt.plot(model.history.history['val_acc'], color='blue', label='val_acc')\n",
    "plt.plot(model.history.history['val_loss'], label='val_loss')"
   ]
  },
  {
   "cell_type": "code",
   "execution_count": 34,
   "metadata": {},
   "outputs": [
    {
     "data": {
      "text/html": [
       "<div>\n",
       "<style scoped>\n",
       "    .dataframe tbody tr th:only-of-type {\n",
       "        vertical-align: middle;\n",
       "    }\n",
       "\n",
       "    .dataframe tbody tr th {\n",
       "        vertical-align: top;\n",
       "    }\n",
       "\n",
       "    .dataframe thead th {\n",
       "        text-align: right;\n",
       "    }\n",
       "</style>\n",
       "<table border=\"1\" class=\"dataframe\">\n",
       "  <thead>\n",
       "    <tr style=\"text-align: right;\">\n",
       "      <th></th>\n",
       "      <th>Prediction Anger</th>\n",
       "      <th>Prediction Disgust</th>\n",
       "      <th>Prediction Fear</th>\n",
       "      <th>Prediction Joy</th>\n",
       "      <th>Prediction Sadness</th>\n",
       "      <th>Prediction Surprise</th>\n",
       "      <th>Anger</th>\n",
       "      <th>Disgust</th>\n",
       "      <th>Fear</th>\n",
       "      <th>Joy</th>\n",
       "      <th>Sadness</th>\n",
       "      <th>Surprise</th>\n",
       "    </tr>\n",
       "  </thead>\n",
       "  <tbody>\n",
       "    <tr>\n",
       "      <th>0</th>\n",
       "      <td>0.069849</td>\n",
       "      <td>0.121922</td>\n",
       "      <td>0.072698</td>\n",
       "      <td>0.386461</td>\n",
       "      <td>0.060868</td>\n",
       "      <td>0.288203</td>\n",
       "      <td>0</td>\n",
       "      <td>0</td>\n",
       "      <td>0</td>\n",
       "      <td>1</td>\n",
       "      <td>0</td>\n",
       "      <td>0</td>\n",
       "    </tr>\n",
       "    <tr>\n",
       "      <th>1</th>\n",
       "      <td>0.014208</td>\n",
       "      <td>0.026112</td>\n",
       "      <td>0.027398</td>\n",
       "      <td>0.844530</td>\n",
       "      <td>0.022233</td>\n",
       "      <td>0.065521</td>\n",
       "      <td>0</td>\n",
       "      <td>0</td>\n",
       "      <td>0</td>\n",
       "      <td>1</td>\n",
       "      <td>0</td>\n",
       "      <td>0</td>\n",
       "    </tr>\n",
       "    <tr>\n",
       "      <th>2</th>\n",
       "      <td>0.041568</td>\n",
       "      <td>0.059820</td>\n",
       "      <td>0.027510</td>\n",
       "      <td>0.028614</td>\n",
       "      <td>0.193069</td>\n",
       "      <td>0.649419</td>\n",
       "      <td>0</td>\n",
       "      <td>0</td>\n",
       "      <td>0</td>\n",
       "      <td>0</td>\n",
       "      <td>1</td>\n",
       "      <td>0</td>\n",
       "    </tr>\n",
       "    <tr>\n",
       "      <th>3</th>\n",
       "      <td>0.002495</td>\n",
       "      <td>0.008394</td>\n",
       "      <td>0.024994</td>\n",
       "      <td>0.929377</td>\n",
       "      <td>0.017122</td>\n",
       "      <td>0.017618</td>\n",
       "      <td>0</td>\n",
       "      <td>0</td>\n",
       "      <td>0</td>\n",
       "      <td>1</td>\n",
       "      <td>0</td>\n",
       "      <td>0</td>\n",
       "    </tr>\n",
       "    <tr>\n",
       "      <th>4</th>\n",
       "      <td>0.002182</td>\n",
       "      <td>0.003287</td>\n",
       "      <td>0.002185</td>\n",
       "      <td>0.000278</td>\n",
       "      <td>0.991282</td>\n",
       "      <td>0.000786</td>\n",
       "      <td>0</td>\n",
       "      <td>0</td>\n",
       "      <td>0</td>\n",
       "      <td>0</td>\n",
       "      <td>1</td>\n",
       "      <td>0</td>\n",
       "    </tr>\n",
       "  </tbody>\n",
       "</table>\n",
       "</div>"
      ],
      "text/plain": [
       "   Prediction Anger  Prediction Disgust  Prediction Fear  Prediction Joy  \\\n",
       "0          0.069849            0.121922         0.072698        0.386461   \n",
       "1          0.014208            0.026112         0.027398        0.844530   \n",
       "2          0.041568            0.059820         0.027510        0.028614   \n",
       "3          0.002495            0.008394         0.024994        0.929377   \n",
       "4          0.002182            0.003287         0.002185        0.000278   \n",
       "\n",
       "   Prediction Sadness  Prediction Surprise  Anger  Disgust  Fear  Joy  \\\n",
       "0            0.060868             0.288203      0        0     0    1   \n",
       "1            0.022233             0.065521      0        0     0    1   \n",
       "2            0.193069             0.649419      0        0     0    0   \n",
       "3            0.017122             0.017618      0        0     0    1   \n",
       "4            0.991282             0.000786      0        0     0    0   \n",
       "\n",
       "   Sadness  Surprise  \n",
       "0        0         0  \n",
       "1        0         0  \n",
       "2        1         0  \n",
       "3        0         0  \n",
       "4        1         0  "
      ]
     },
     "execution_count": 34,
     "metadata": {},
     "output_type": "execute_result"
    }
   ],
   "source": [
    "preds = model.predict_on_batch(X_test)\n",
    "\n",
    "emotion_preds = pd.DataFrame({\"Prediction Anger\":preds[:,0], \"Prediction Disgust\":preds[:,1], \"Prediction Fear\":preds[:,2], \"Prediction Joy\":preds[:,3], \"Prediction Sadness\":preds[:,4], \"Prediction Surprise\":preds[:,5], \"Anger\":y_test[:,0], \"Disgust\":y_test[:,1], \"Fear\": y_test[:,2], \"Joy\": y_test[:,3], \"Sadness\": y_test[:,4], \"Surprise\": y_test[:,5]})\n",
    "emotion_preds.head()"
   ]
  },
  {
   "cell_type": "markdown",
   "metadata": {},
   "source": [
    "# RNN with Valence Labels"
   ]
  },
  {
   "cell_type": "code",
   "execution_count": 134,
   "metadata": {},
   "outputs": [],
   "source": [
    "X = corpus_df['text']\n",
    "y = valence_df['label']\n",
    "\n",
    "tokenizer = text.Tokenizer(num_words=20000)\n",
    "tokenizer.fit_on_texts(list(X))\n",
    "sequences = tokenizer.texts_to_sequences(X)\n",
    "padded_X = sequence.pad_sequences(sequences, maxlen=10)\n"
   ]
  },
  {
   "cell_type": "code",
   "execution_count": 149,
   "metadata": {},
   "outputs": [
    {
     "name": "stdout",
     "output_type": "stream",
     "text": [
      "Train on 750 samples, validate on 250 samples\n",
      "Epoch 1/20\n",
      "750/750 [==============================] - 10s 13ms/step - loss: 0.2845 - acc: 0.4040 - val_loss: 0.2145 - val_acc: 0.5480\n",
      "Epoch 2/20\n",
      "750/750 [==============================] - 0s 593us/step - loss: 0.2296 - acc: 0.4973 - val_loss: 0.2106 - val_acc: 0.5760\n",
      "Epoch 3/20\n",
      "750/750 [==============================] - 1s 798us/step - loss: 0.1992 - acc: 0.5693 - val_loss: 0.1951 - val_acc: 0.5920\n",
      "Epoch 4/20\n",
      "750/750 [==============================] - 0s 573us/step - loss: 0.1724 - acc: 0.6533 - val_loss: 0.1955 - val_acc: 0.5960\n",
      "Epoch 5/20\n",
      "750/750 [==============================] - 1s 829us/step - loss: 0.1606 - acc: 0.6547 - val_loss: 0.1823 - val_acc: 0.6160\n",
      "Epoch 6/20\n",
      "750/750 [==============================] - 1s 691us/step - loss: 0.1442 - acc: 0.6973 - val_loss: 0.1831 - val_acc: 0.6280\n",
      "Epoch 7/20\n",
      "750/750 [==============================] - 1s 719us/step - loss: 0.1413 - acc: 0.7000 - val_loss: 0.1769 - val_acc: 0.6200\n",
      "Epoch 8/20\n",
      "750/750 [==============================] - 0s 493us/step - loss: 0.1228 - acc: 0.7427 - val_loss: 0.1748 - val_acc: 0.6280\n",
      "Epoch 9/20\n",
      "750/750 [==============================] - 1s 941us/step - loss: 0.1155 - acc: 0.7587 - val_loss: 0.1769 - val_acc: 0.6320\n",
      "Epoch 10/20\n",
      "750/750 [==============================] - 0s 600us/step - loss: 0.1049 - acc: 0.7747 - val_loss: 0.1712 - val_acc: 0.6520\n",
      "Epoch 11/20\n",
      "750/750 [==============================] - 0s 560us/step - loss: 0.0970 - acc: 0.8040 - val_loss: 0.1725 - val_acc: 0.6400\n",
      "Epoch 12/20\n",
      "750/750 [==============================] - 0s 538us/step - loss: 0.0847 - acc: 0.8360 - val_loss: 0.1785 - val_acc: 0.6440\n",
      "Epoch 13/20\n",
      "750/750 [==============================] - 0s 493us/step - loss: 0.0804 - acc: 0.8267 - val_loss: 0.1918 - val_acc: 0.6280\n",
      "Epoch 14/20\n",
      "750/750 [==============================] - 0s 639us/step - loss: 0.0616 - acc: 0.8720 - val_loss: 0.1825 - val_acc: 0.6160\n",
      "Epoch 15/20\n",
      "750/750 [==============================] - 1s 727us/step - loss: 0.0681 - acc: 0.8600 - val_loss: 0.1978 - val_acc: 0.6040\n",
      "Epoch 16/20\n",
      "750/750 [==============================] - 0s 484us/step - loss: 0.0508 - acc: 0.9200 - val_loss: 0.1980 - val_acc: 0.6160\n",
      "Epoch 17/20\n",
      "750/750 [==============================] - 0s 559us/step - loss: 0.0484 - acc: 0.9080 - val_loss: 0.2038 - val_acc: 0.6000\n",
      "Epoch 18/20\n",
      "750/750 [==============================] - 0s 540us/step - loss: 0.0433 - acc: 0.9280 - val_loss: 0.2127 - val_acc: 0.6000\n",
      "Epoch 19/20\n",
      "750/750 [==============================] - 1s 804us/step - loss: 0.0335 - acc: 0.9400 - val_loss: 0.2001 - val_acc: 0.6240\n",
      "Epoch 20/20\n",
      "750/750 [==============================] - 0s 536us/step - loss: 0.0364 - acc: 0.9307 - val_loss: 0.2178 - val_acc: 0.6040\n"
     ]
    }
   ],
   "source": [
    "random.seed(3)\n",
    "train_list = np.random.choice(range(0,1000), size=750, replace=False)\n",
    "test_list = [i for i in range(0,1000) if i not in train_list]\n",
    "\n",
    "X_train = padded_X[train_list]\n",
    "X_test = padded_X[test_list]\n",
    "\n",
    "# labels one hot encoded\n",
    "y_train = (y.iloc[train_list]).values\n",
    "y_test = (y.iloc[test_list]).values\n",
    "\n",
    "y_train_binary = keras.utils.to_categorical(y_train, 3)\n",
    "y_test_binary = keras.utils.to_categorical(y_test, 3)\n",
    "\n",
    "X_train\n",
    "\n",
    "model = Sequential()\n",
    "\n",
    "model.add(Embedding(num_words, 300, weights=[embedding_matrix], input_length=10, trainable=False))\n",
    "model.add(LSTM(64, activation='relu', return_sequences=True))\n",
    "model.add(BatchNormalization())\n",
    "model.add(Dropout(0.5))\n",
    "model.add(LSTM(32, activation='relu'))\n",
    "model.add(BatchNormalization())\n",
    "model.add(Dropout(0.5))\n",
    "model.add(Dense(3, activation='softmax'))\n",
    "\n",
    "model.compile(loss='mean_squared_error',\n",
    "              optimizer=rmsprop(lr=.002, decay=.00001),\n",
    "              metrics=['accuracy'])\n",
    "\n",
    "history = model.fit(X_train, \n",
    "                    y_train_binary,\n",
    "                    epochs=20,\n",
    "                    batch_size=75,\n",
    "                    validation_data=(X_test, y_test_binary))\n"
   ]
  },
  {
   "cell_type": "code",
   "execution_count": 150,
   "metadata": {
    "scrolled": true
   },
   "outputs": [
    {
     "name": "stdout",
     "output_type": "stream",
     "text": [
      "250/250 [==============================] - 0s 273us/step\n"
     ]
    },
    {
     "data": {
      "text/plain": [
       "[0.2178303951025009, 0.6039999995231629]"
      ]
     },
     "execution_count": 150,
     "metadata": {},
     "output_type": "execute_result"
    }
   ],
   "source": [
    "model.evaluate(X_test, y_test_binary)\n"
   ]
  },
  {
   "cell_type": "code",
   "execution_count": 151,
   "metadata": {},
   "outputs": [
    {
     "data": {
      "text/plain": [
       "[<matplotlib.lines.Line2D at 0x1a736ae3c8>]"
      ]
     },
     "execution_count": 151,
     "metadata": {},
     "output_type": "execute_result"
    },
    {
     "data": {
      "image/png": "[encoded data removed]",
      "text/plain": [
       "<Figure size 432x288 with 1 Axes>"
      ]
     },
     "metadata": {
      "needs_background": "light"
     },
     "output_type": "display_data"
    }
   ],
   "source": [
    "plt.plot(model.history.history['acc'], color='blue', label='acc')\n",
    "plt.plot(model.history.history['loss'], label='loss')\n"
   ]
  },
  {
   "cell_type": "code",
   "execution_count": 152,
   "metadata": {},
   "outputs": [
    {
     "data": {
      "text/plain": [
       "[<matplotlib.lines.Line2D at 0x1a72d295c0>]"
      ]
     },
     "execution_count": 152,
     "metadata": {},
     "output_type": "execute_result"
    },
    {
     "data": {
      "image/png": "[encoded data removed]",
      "text/plain": [
       "<Figure size 432x288 with 1 Axes>"
      ]
     },
     "metadata": {
      "needs_background": "light"
     },
     "output_type": "display_data"
    }
   ],
   "source": [
    "plt.plot(model.history.history['val_acc'], color='blue', label='val_acc')\n",
    "plt.plot(model.history.history['val_loss'], label='val_loss')\n"
   ]
  },
  {
   "cell_type": "code",
   "execution_count": 153,
   "metadata": {},
   "outputs": [],
   "source": [
    "preds = model.predict_on_batch(X_test)"
   ]
  },
  {
   "cell_type": "code",
   "execution_count": 154,
   "metadata": {},
   "outputs": [
    {
     "data": {
      "text/html": [
       "<div>\n",
       "<style scoped>\n",
       "    .dataframe tbody tr th:only-of-type {\n",
       "        vertical-align: middle;\n",
       "    }\n",
       "\n",
       "    .dataframe tbody tr th {\n",
       "        vertical-align: top;\n",
       "    }\n",
       "\n",
       "    .dataframe thead th {\n",
       "        text-align: right;\n",
       "    }\n",
       "</style>\n",
       "<table border=\"1\" class=\"dataframe\">\n",
       "  <thead>\n",
       "    <tr style=\"text-align: right;\">\n",
       "      <th></th>\n",
       "      <th>Prediction Neg</th>\n",
       "      <th>Prediction Pos</th>\n",
       "      <th>Prediction Neu</th>\n",
       "      <th>Neg</th>\n",
       "      <th>Pos</th>\n",
       "      <th>Neu</th>\n",
       "    </tr>\n",
       "  </thead>\n",
       "  <tbody>\n",
       "    <tr>\n",
       "      <th>0</th>\n",
       "      <td>4.921188e-01</td>\n",
       "      <td>0.008075</td>\n",
       "      <td>0.499807</td>\n",
       "      <td>0.0</td>\n",
       "      <td>0.0</td>\n",
       "      <td>1.0</td>\n",
       "    </tr>\n",
       "    <tr>\n",
       "      <th>1</th>\n",
       "      <td>4.338863e-01</td>\n",
       "      <td>0.478607</td>\n",
       "      <td>0.087507</td>\n",
       "      <td>0.0</td>\n",
       "      <td>1.0</td>\n",
       "      <td>0.0</td>\n",
       "    </tr>\n",
       "    <tr>\n",
       "      <th>2</th>\n",
       "      <td>3.886275e-06</td>\n",
       "      <td>0.999980</td>\n",
       "      <td>0.000016</td>\n",
       "      <td>0.0</td>\n",
       "      <td>0.0</td>\n",
       "      <td>1.0</td>\n",
       "    </tr>\n",
       "    <tr>\n",
       "      <th>3</th>\n",
       "      <td>5.824646e-04</td>\n",
       "      <td>0.000559</td>\n",
       "      <td>0.998858</td>\n",
       "      <td>0.0</td>\n",
       "      <td>0.0</td>\n",
       "      <td>1.0</td>\n",
       "    </tr>\n",
       "    <tr>\n",
       "      <th>4</th>\n",
       "      <td>9.220767e-07</td>\n",
       "      <td>0.000005</td>\n",
       "      <td>0.999994</td>\n",
       "      <td>0.0</td>\n",
       "      <td>0.0</td>\n",
       "      <td>1.0</td>\n",
       "    </tr>\n",
       "  </tbody>\n",
       "</table>\n",
       "</div>"
      ],
      "text/plain": [
       "   Prediction Neg  Prediction Pos  Prediction Neu  Neg  Pos  Neu\n",
       "0    4.921188e-01        0.008075        0.499807  0.0  0.0  1.0\n",
       "1    4.338863e-01        0.478607        0.087507  0.0  1.0  0.0\n",
       "2    3.886275e-06        0.999980        0.000016  0.0  0.0  1.0\n",
       "3    5.824646e-04        0.000559        0.998858  0.0  0.0  1.0\n",
       "4    9.220767e-07        0.000005        0.999994  0.0  0.0  1.0"
      ]
     },
     "execution_count": 154,
     "metadata": {},
     "output_type": "execute_result"
    }
   ],
   "source": [
    "valence_preds = pd.DataFrame({\"Prediction Neg\":preds[:,0], \"Prediction Pos\":preds[:,1], \"Prediction Neu\":preds[:,2], \"Neg\":y_test_binary[:,0], \"Pos\":y_test_binary[:,1], \"Neu\": y_test_binary[:,2]})\n",
    "valence_preds.head()"
   ]
  },
  {
   "cell_type": "markdown",
   "metadata": {},
   "source": [
    "## RNN: Strong Pos/Neg Labels"
   ]
  },
  {
   "cell_type": "code",
   "execution_count": 163,
   "metadata": {},
   "outputs": [],
   "source": [
    "y = valence_df['label'].loc[(valence_df['label']==0)|(valence_df['label']==1)]\n",
    "X = corpus_df['text'].loc[y.index]\n",
    "\n",
    "\n",
    "tokenizer = text.Tokenizer(num_words=20000)\n",
    "tokenizer.fit_on_texts(list(X))\n",
    "sequences = tokenizer.texts_to_sequences(X)\n",
    "padded_X = sequence.pad_sequences(sequences, maxlen=10)\n"
   ]
  },
  {
   "cell_type": "code",
   "execution_count": 164,
   "metadata": {},
   "outputs": [
    {
     "name": "stdout",
     "output_type": "stream",
     "text": [
      "Train on 553 samples, validate on 185 samples\n",
      "Epoch 1/25\n",
      "553/553 [==============================] - 11s 20ms/step - loss: 0.3485 - acc: 0.5298 - val_loss: 0.2890 - val_acc: 0.5514\n",
      "Epoch 2/25\n",
      "553/553 [==============================] - 0s 471us/step - loss: 0.2641 - acc: 0.6293 - val_loss: 0.2814 - val_acc: 0.5730\n",
      "Epoch 3/25\n",
      "553/553 [==============================] - 0s 470us/step - loss: 0.2126 - acc: 0.7071 - val_loss: 0.2771 - val_acc: 0.5892\n",
      "Epoch 4/25\n",
      "553/553 [==============================] - 0s 475us/step - loss: 0.1691 - acc: 0.7685 - val_loss: 0.2944 - val_acc: 0.5676\n",
      "Epoch 5/25\n",
      "553/553 [==============================] - 0s 482us/step - loss: 0.1386 - acc: 0.7993 - val_loss: 0.2931 - val_acc: 0.5838\n",
      "Epoch 6/25\n",
      "553/553 [==============================] - 0s 490us/step - loss: 0.1104 - acc: 0.8553 - val_loss: 0.2928 - val_acc: 0.5784\n",
      "Epoch 7/25\n",
      "553/553 [==============================] - 0s 482us/step - loss: 0.0855 - acc: 0.8734 - val_loss: 0.3009 - val_acc: 0.5838\n",
      "Epoch 8/25\n",
      "553/553 [==============================] - 0s 485us/step - loss: 0.0622 - acc: 0.9096 - val_loss: 0.3198 - val_acc: 0.5730\n",
      "Epoch 9/25\n",
      "553/553 [==============================] - 0s 592us/step - loss: 0.0485 - acc: 0.9385 - val_loss: 0.3020 - val_acc: 0.5838\n",
      "Epoch 10/25\n",
      "553/553 [==============================] - 0s 476us/step - loss: 0.0426 - acc: 0.9548 - val_loss: 0.3219 - val_acc: 0.6054\n",
      "Epoch 11/25\n",
      "553/553 [==============================] - 0s 513us/step - loss: 0.0423 - acc: 0.9439 - val_loss: 0.3072 - val_acc: 0.6324\n",
      "Epoch 12/25\n",
      "553/553 [==============================] - 0s 506us/step - loss: 0.0325 - acc: 0.9620 - val_loss: 0.3109 - val_acc: 0.6054\n",
      "Epoch 13/25\n",
      "553/553 [==============================] - 0s 660us/step - loss: 0.0313 - acc: 0.9638 - val_loss: 0.3183 - val_acc: 0.5946\n",
      "Epoch 14/25\n",
      "553/553 [==============================] - 0s 594us/step - loss: 0.0216 - acc: 0.9801 - val_loss: 0.3119 - val_acc: 0.6216\n",
      "Epoch 15/25\n",
      "553/553 [==============================] - 0s 571us/step - loss: 0.0254 - acc: 0.9656 - val_loss: 0.3298 - val_acc: 0.6216\n",
      "Epoch 16/25\n",
      "553/553 [==============================] - 0s 533us/step - loss: 0.0221 - acc: 0.9747 - val_loss: 0.3436 - val_acc: 0.5838\n",
      "Epoch 17/25\n",
      "553/553 [==============================] - 0s 524us/step - loss: 0.0137 - acc: 0.9819 - val_loss: 0.3105 - val_acc: 0.6432\n",
      "Epoch 18/25\n",
      "553/553 [==============================] - 0s 506us/step - loss: 0.0215 - acc: 0.9747 - val_loss: 0.3234 - val_acc: 0.6162\n",
      "Epoch 19/25\n",
      "553/553 [==============================] - 0s 520us/step - loss: 0.0131 - acc: 0.9855 - val_loss: 0.3221 - val_acc: 0.6108\n",
      "Epoch 20/25\n",
      "553/553 [==============================] - 0s 626us/step - loss: 0.0097 - acc: 0.9928 - val_loss: 0.3487 - val_acc: 0.5676\n",
      "Epoch 21/25\n",
      "553/553 [==============================] - 0s 535us/step - loss: 0.0117 - acc: 0.9873 - val_loss: 0.3406 - val_acc: 0.5892\n",
      "Epoch 22/25\n",
      "553/553 [==============================] - 0s 526us/step - loss: 0.0118 - acc: 0.9873 - val_loss: 0.3308 - val_acc: 0.5838\n",
      "Epoch 23/25\n",
      "553/553 [==============================] - 0s 515us/step - loss: 0.0104 - acc: 0.9873 - val_loss: 0.3191 - val_acc: 0.6432\n",
      "Epoch 24/25\n",
      "553/553 [==============================] - 0s 514us/step - loss: 0.0107 - acc: 0.9855 - val_loss: 0.3145 - val_acc: 0.6432\n",
      "Epoch 25/25\n",
      "553/553 [==============================] - 0s 518us/step - loss: 0.0112 - acc: 0.9855 - val_loss: 0.3309 - val_acc: 0.6162\n"
     ]
    }
   ],
   "source": [
    "random.seed(3)\n",
    "train_list = np.random.choice(range(0,738), size=553, replace=False)\n",
    "test_list = [i for i in range(0,738) if i not in train_list]\n",
    "\n",
    "X_train = padded_X[train_list]\n",
    "X_test = padded_X[test_list]\n",
    "\n",
    "# labels one hot encoded\n",
    "y_train = (y.iloc[train_list]).values\n",
    "y_test = (y.iloc[test_list]).values\n",
    "\n",
    "y_train_binary = keras.utils.to_categorical(y_train, 2)\n",
    "y_test_binary = keras.utils.to_categorical(y_test, 2)\n",
    "\n",
    "X_train\n",
    "\n",
    "model = Sequential()\n",
    "\n",
    "model.add(Embedding(num_words, 300, weights=[embedding_matrix], input_length=10, trainable=False))\n",
    "model.add(LSTM(64, activation='relu', return_sequences=True))\n",
    "model.add(BatchNormalization())\n",
    "model.add(Dropout(0.5))\n",
    "model.add(LSTM(64, activation='relu'))\n",
    "model.add(BatchNormalization())\n",
    "model.add(Dropout(0.5))\n",
    "model.add(Dense(2, activation='softmax'))\n",
    "\n",
    "model.compile(loss='mean_squared_error',\n",
    "              optimizer=rmsprop(lr=.002, decay=.00001),\n",
    "              metrics=['accuracy'])\n",
    "\n",
    "history = model.fit(X_train, \n",
    "                    y_train_binary,\n",
    "                    epochs=25,\n",
    "                    batch_size=75,\n",
    "                    validation_data=(X_test, y_test_binary))\n",
    "\n"
   ]
  },
  {
   "cell_type": "code",
   "execution_count": 165,
   "metadata": {},
   "outputs": [
    {
     "name": "stdout",
     "output_type": "stream",
     "text": [
      "185/185 [==============================] - 0s 284us/step\n"
     ]
    },
    {
     "data": {
      "text/plain": [
       "[0.33092121941012304, 0.6162162200824635]"
      ]
     },
     "execution_count": 165,
     "metadata": {},
     "output_type": "execute_result"
    }
   ],
   "source": [
    "model.evaluate(X_test, y_test_binary)\n"
   ]
  },
  {
   "cell_type": "code",
   "execution_count": 166,
   "metadata": {},
   "outputs": [
    {
     "data": {
      "text/plain": [
       "[<matplotlib.lines.Line2D at 0x1a5d784860>]"
      ]
     },
     "execution_count": 166,
     "metadata": {},
     "output_type": "execute_result"
    },
    {
     "data": {
      "image/png": "[encoded data removed]",
      "text/plain": [
       "<Figure size 432x288 with 1 Axes>"
      ]
     },
     "metadata": {
      "needs_background": "light"
     },
     "output_type": "display_data"
    }
   ],
   "source": [
    "plt.plot(model.history.history['acc'], color='blue', label='acc')\n",
    "plt.plot(model.history.history['loss'], label='loss')\n"
   ]
  },
  {
   "cell_type": "code",
   "execution_count": 167,
   "metadata": {},
   "outputs": [
    {
     "data": {
      "text/plain": [
       "[<matplotlib.lines.Line2D at 0x1a5d7a9f28>]"
      ]
     },
     "execution_count": 167,
     "metadata": {},
     "output_type": "execute_result"
    },
    {
     "data": {
      "image/png": "[encoded data removed]",
      "text/plain": [
       "<Figure size 432x288 with 1 Axes>"
      ]
     },
     "metadata": {
      "needs_background": "light"
     },
     "output_type": "display_data"
    }
   ],
   "source": [
    "plt.plot(model.history.history['val_acc'], color='blue', label='val_acc')\n",
    "plt.plot(model.history.history['val_loss'], label='val_loss')\n"
   ]
  },
  {
   "cell_type": "code",
   "execution_count": 168,
   "metadata": {},
   "outputs": [
    {
     "data": {
      "text/html": [
       "<div>\n",
       "<style scoped>\n",
       "    .dataframe tbody tr th:only-of-type {\n",
       "        vertical-align: middle;\n",
       "    }\n",
       "\n",
       "    .dataframe tbody tr th {\n",
       "        vertical-align: top;\n",
       "    }\n",
       "\n",
       "    .dataframe thead th {\n",
       "        text-align: right;\n",
       "    }\n",
       "</style>\n",
       "<table border=\"1\" class=\"dataframe\">\n",
       "  <thead>\n",
       "    <tr style=\"text-align: right;\">\n",
       "      <th></th>\n",
       "      <th>Prediction Neg</th>\n",
       "      <th>Prediction Pos</th>\n",
       "    </tr>\n",
       "  </thead>\n",
       "  <tbody>\n",
       "    <tr>\n",
       "      <th>0</th>\n",
       "      <td>0.648719</td>\n",
       "      <td>0.351281</td>\n",
       "    </tr>\n",
       "    <tr>\n",
       "      <th>1</th>\n",
       "      <td>0.017377</td>\n",
       "      <td>0.982623</td>\n",
       "    </tr>\n",
       "    <tr>\n",
       "      <th>2</th>\n",
       "      <td>0.999178</td>\n",
       "      <td>0.000822</td>\n",
       "    </tr>\n",
       "    <tr>\n",
       "      <th>3</th>\n",
       "      <td>0.983497</td>\n",
       "      <td>0.016503</td>\n",
       "    </tr>\n",
       "    <tr>\n",
       "      <th>4</th>\n",
       "      <td>0.000016</td>\n",
       "      <td>0.999984</td>\n",
       "    </tr>\n",
       "  </tbody>\n",
       "</table>\n",
       "</div>"
      ],
      "text/plain": [
       "   Prediction Neg  Prediction Pos\n",
       "0        0.648719        0.351281\n",
       "1        0.017377        0.982623\n",
       "2        0.999178        0.000822\n",
       "3        0.983497        0.016503\n",
       "4        0.000016        0.999984"
      ]
     },
     "execution_count": 168,
     "metadata": {},
     "output_type": "execute_result"
    }
   ],
   "source": [
    "\n",
    "preds = model.predict_on_batch(X_test)\n",
    "\n",
    "valence_preds = pd.DataFrame({\"Prediction Neg\":preds[:,0], \"Prediction Pos\":preds[:,1]})\n",
    "valence_preds.head()"
   ]
  },
  {
   "cell_type": "code",
   "execution_count": null,
   "metadata": {},
   "outputs": [],
   "source": []
  },
  {
   "cell_type": "code",
   "execution_count": null,
   "metadata": {},
   "outputs": [],
   "source": []
  },
  {
   "cell_type": "code",
   "execution_count": null,
   "metadata": {},
   "outputs": [],
   "source": []
  },
  {
   "cell_type": "code",
   "execution_count": null,
   "metadata": {},
   "outputs": [],
   "source": []
  }
 ],
 "metadata": {
  "kernelspec": {
   "display_name": "Python 3",
   "language": "python",
   "name": "python3"
  },
  "language_info": {
   "codemirror_mode": {
    "name": "ipython",
    "version": 3
   },
   "file_extension": ".py",
   "mimetype": "text/x-python",
   "name": "python",
   "nbconvert_exporter": "python",
   "pygments_lexer": "ipython3",
   "version": "3.7.3"
  }
 },
 "nbformat": 4,
 "nbformat_minor": 2
}
