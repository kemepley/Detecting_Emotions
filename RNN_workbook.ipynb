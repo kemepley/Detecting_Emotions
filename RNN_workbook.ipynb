{
 "cells": [
  {
   "cell_type": "code",
   "execution_count": 11,
   "metadata": {},
   "outputs": [],
   "source": [
    "import pandas as pd\n",
    "import numpy as np\n",
    "import random\n",
    "\n",
    "from sklearn.feature_extraction.text import TfidfVectorizer\n",
    "from sklearn.feature_extraction.text import CountVectorizer\n",
    "from sklearn.model_selection import train_test_split\n",
    "from sklearn.ensemble import RandomForestClassifier\n",
    "from sklearn.naive_bayes import MultinomialNB\n",
    "from sklearn.neighbors import KNeighborsClassifier\n",
    "from sklearn.linear_model import LogisticRegression\n",
    "from sklearn.metrics import accuracy_score, balanced_accuracy_score, precision_score, recall_score, f1_score, confusion_matrix\n",
    "\n",
    "import keras\n",
    "from keras.preprocessing import text, sequence\n",
    "from keras.layers import Input, Dense, LSTM, Embedding, Dropout, Flatten\n",
    "from keras.models import Sequential\n",
    "from keras.optimizers import Adam, rmsprop\n",
    "from keras import regularizers\n",
    "from keras.layers.normalization import BatchNormalization\n",
    "\n",
    "from imblearn.over_sampling import SMOTE\n",
    "from imblearn.under_sampling import RandomUnderSampler\n",
    "\n",
    "from wordcloud import WordCloud\n",
    "import seaborn as sns\n",
    "import matplotlib.pyplot as plt\n",
    "plt.style.use('ggplot')\n",
    "%matplotlib inline\n",
    "\n",
    "from get_labeled_dfs import *\n",
    "from process_text import *"
   ]
  },
  {
   "cell_type": "code",
   "execution_count": 12,
   "metadata": {},
   "outputs": [],
   "source": [
    "# getting data\n",
    "corpus_df, val_corpus_df, emotion_df, val_emotion_df, valence_df, val_valence_df = get_labeled_dfs()\n"
   ]
  },
  {
   "cell_type": "code",
   "execution_count": 13,
   "metadata": {},
   "outputs": [],
   "source": [
    "# using custom class method to process data\n",
    "processor = Process_Text_Data()\n",
    "processor.transform(corpus_df, RNN=True)\n"
   ]
  },
  {
   "cell_type": "code",
   "execution_count": 14,
   "metadata": {},
   "outputs": [
    {
     "data": {
      "text/html": [
       "<div>\n",
       "<style scoped>\n",
       "    .dataframe tbody tr th:only-of-type {\n",
       "        vertical-align: middle;\n",
       "    }\n",
       "\n",
       "    .dataframe tbody tr th {\n",
       "        vertical-align: top;\n",
       "    }\n",
       "\n",
       "    .dataframe thead th {\n",
       "        text-align: right;\n",
       "    }\n",
       "</style>\n",
       "<table border=\"1\" class=\"dataframe\">\n",
       "  <thead>\n",
       "    <tr style=\"text-align: right;\">\n",
       "      <th></th>\n",
       "      <th>text</th>\n",
       "    </tr>\n",
       "  </thead>\n",
       "  <tbody>\n",
       "    <tr>\n",
       "      <th>0</th>\n",
       "      <td>test to predict breast cancer relapse is approved</td>\n",
       "    </tr>\n",
       "    <tr>\n",
       "      <th>1</th>\n",
       "      <td>two hussein allies are hanged iraqi official says</td>\n",
       "    </tr>\n",
       "    <tr>\n",
       "      <th>2</th>\n",
       "      <td>sights and sounds from ces</td>\n",
       "    </tr>\n",
       "    <tr>\n",
       "      <th>3</th>\n",
       "      <td>schuey sees ferrari unveil new car</td>\n",
       "    </tr>\n",
       "    <tr>\n",
       "      <th>4</th>\n",
       "      <td>closings and cancellations top advice on flu o...</td>\n",
       "    </tr>\n",
       "  </tbody>\n",
       "</table>\n",
       "</div>"
      ],
      "text/plain": [
       "                                                text\n",
       "0  test to predict breast cancer relapse is approved\n",
       "1  two hussein allies are hanged iraqi official says\n",
       "2                         sights and sounds from ces\n",
       "3                 schuey sees ferrari unveil new car\n",
       "4  closings and cancellations top advice on flu o..."
      ]
     },
     "execution_count": 14,
     "metadata": {},
     "output_type": "execute_result"
    }
   ],
   "source": [
    "corpus_df.head()\n"
   ]
  },
  {
   "cell_type": "code",
   "execution_count": 15,
   "metadata": {},
   "outputs": [
    {
     "data": {
      "text/html": [
       "<div>\n",
       "<style scoped>\n",
       "    .dataframe tbody tr th:only-of-type {\n",
       "        vertical-align: middle;\n",
       "    }\n",
       "\n",
       "    .dataframe tbody tr th {\n",
       "        vertical-align: top;\n",
       "    }\n",
       "\n",
       "    .dataframe thead th {\n",
       "        text-align: right;\n",
       "    }\n",
       "</style>\n",
       "<table border=\"1\" class=\"dataframe\">\n",
       "  <thead>\n",
       "    <tr style=\"text-align: right;\">\n",
       "      <th></th>\n",
       "      <th>anger</th>\n",
       "      <th>disgust</th>\n",
       "      <th>fear</th>\n",
       "      <th>joy</th>\n",
       "      <th>sadness</th>\n",
       "      <th>surprise</th>\n",
       "      <th>max</th>\n",
       "      <th>label</th>\n",
       "    </tr>\n",
       "  </thead>\n",
       "  <tbody>\n",
       "    <tr>\n",
       "      <th>0</th>\n",
       "      <td>0</td>\n",
       "      <td>0</td>\n",
       "      <td>15</td>\n",
       "      <td>38</td>\n",
       "      <td>9</td>\n",
       "      <td>11</td>\n",
       "      <td>joy</td>\n",
       "      <td>3</td>\n",
       "    </tr>\n",
       "    <tr>\n",
       "      <th>1</th>\n",
       "      <td>24</td>\n",
       "      <td>26</td>\n",
       "      <td>16</td>\n",
       "      <td>13</td>\n",
       "      <td>38</td>\n",
       "      <td>5</td>\n",
       "      <td>sadness</td>\n",
       "      <td>4</td>\n",
       "    </tr>\n",
       "    <tr>\n",
       "      <th>2</th>\n",
       "      <td>0</td>\n",
       "      <td>0</td>\n",
       "      <td>0</td>\n",
       "      <td>17</td>\n",
       "      <td>0</td>\n",
       "      <td>4</td>\n",
       "      <td>joy</td>\n",
       "      <td>3</td>\n",
       "    </tr>\n",
       "    <tr>\n",
       "      <th>3</th>\n",
       "      <td>0</td>\n",
       "      <td>0</td>\n",
       "      <td>0</td>\n",
       "      <td>46</td>\n",
       "      <td>0</td>\n",
       "      <td>31</td>\n",
       "      <td>joy</td>\n",
       "      <td>3</td>\n",
       "    </tr>\n",
       "    <tr>\n",
       "      <th>4</th>\n",
       "      <td>1</td>\n",
       "      <td>0</td>\n",
       "      <td>23</td>\n",
       "      <td>8</td>\n",
       "      <td>11</td>\n",
       "      <td>8</td>\n",
       "      <td>fear</td>\n",
       "      <td>2</td>\n",
       "    </tr>\n",
       "  </tbody>\n",
       "</table>\n",
       "</div>"
      ],
      "text/plain": [
       "   anger  disgust  fear  joy  sadness  surprise      max  label\n",
       "0      0        0    15   38        9        11      joy      3\n",
       "1     24       26    16   13       38         5  sadness      4\n",
       "2      0        0     0   17        0         4      joy      3\n",
       "3      0        0     0   46        0        31      joy      3\n",
       "4      1        0    23    8       11         8     fear      2"
      ]
     },
     "execution_count": 15,
     "metadata": {},
     "output_type": "execute_result"
    }
   ],
   "source": [
    "emotion_df.head()"
   ]
  },
  {
   "cell_type": "code",
   "execution_count": 16,
   "metadata": {},
   "outputs": [
    {
     "data": {
      "text/plain": [
       "15"
      ]
     },
     "execution_count": 16,
     "metadata": {},
     "output_type": "execute_result"
    }
   ],
   "source": [
    "length = []\n",
    "for i in corpus_df['text']:\n",
    "    length.append(len(i.split()))\n",
    "max(length)"
   ]
  },
  {
   "cell_type": "markdown",
   "metadata": {},
   "source": [
    "## RNN: Emotion Labels"
   ]
  },
  {
   "cell_type": "code",
   "execution_count": 17,
   "metadata": {},
   "outputs": [],
   "source": [
    "# create a set of unique words in the corpus\n",
    "vocab = set()\n",
    "for headline in corpus_df['text']:\n",
    "    for word in headline.split():\n",
    "        vocab.add(word)\n",
    "\n",
    "# get vectors from the pretrained vocab and create a dictionary with the words from the set as keys\n",
    "glove_embeddings = {}\n",
    "with open('/Users/flatironschool/Desktop/glove/glove.6B.300d.txt', 'rb') as f:\n",
    "    for i in f:\n",
    "        key_vec = i.split()\n",
    "        word = key_vec[0].decode('utf-8')\n",
    "        if word in vocab:\n",
    "            glove_embeddings[word] = np.array(key_vec[1:], dtype=np.float32)"
   ]
  },
  {
   "cell_type": "code",
   "execution_count": 18,
   "metadata": {},
   "outputs": [],
   "source": [
    "X = corpus_df['text']\n",
    "y = emotion_df['label']\n",
    "\n",
    "tokenizer = text.Tokenizer(num_words=20000)\n",
    "tokenizer.fit_on_texts(list(X))\n",
    "\n",
    "# assign a unique number to each word in the corpus and represents texts via these numbers\n",
    "sequences = tokenizer.texts_to_sequences(X)\n",
    "# add zeros to the front of each sequence as necessary to make them all the same length\n",
    "padded_X = sequence.pad_sequences(sequences, maxlen=10)\n"
   ]
  },
  {
   "cell_type": "code",
   "execution_count": 19,
   "metadata": {},
   "outputs": [],
   "source": [
    "# create an array of zeros the size of the vocabulary by the size of the word vectors\n",
    "num_words = len(tokenizer.word_index) + 1\n",
    "embedding_matrix = np.zeros((num_words, 300))\n",
    "\n",
    "# fill the array so that the word vectors that fill the array correspond to their sequence numbers\n",
    "for ind, word in enumerate(tokenizer.word_index.keys()):\n",
    "    if word in glove_embeddings.keys():\n",
    "        embedding_matrix[ind + 1, :] = glove_embeddings[word]\n"
   ]
  },
  {
   "cell_type": "code",
   "execution_count": 20,
   "metadata": {},
   "outputs": [],
   "source": [
    "random.seed(2)\n",
    "train_list = np.random.choice(range(0,1000), size=750, replace=False)\n",
    "test_list = [i for i in range(0,1000) if i not in train_list]\n",
    "\n",
    "X_train = padded_X[train_list]\n",
    "X_test = padded_X[test_list]\n",
    "\n",
    "\n",
    "# labels one hot encoded\n",
    "y_train = pd.get_dummies(y.iloc[train_list]).values\n",
    "y_test = pd.get_dummies(y.iloc[test_list]).values\n",
    "\n",
    "# y_train_binary = keras.utils.to_categorical(y_train, 6)\n",
    "# y_test_binary = keras.utils.to_categorical(y_test, 6)\n"
   ]
  },
  {
   "cell_type": "code",
   "execution_count": 21,
   "metadata": {},
   "outputs": [
    {
     "data": {
      "text/plain": [
       "array([   0,    0,    0,    0,    0,    0,  724,  199,  291, 1459],\n",
       "      dtype=int32)"
      ]
     },
     "execution_count": 21,
     "metadata": {},
     "output_type": "execute_result"
    }
   ],
   "source": [
    "X_train[0]"
   ]
  },
  {
   "cell_type": "code",
   "execution_count": 22,
   "metadata": {},
   "outputs": [
    {
     "name": "stderr",
     "output_type": "stream",
     "text": [
      "W0719 17:37:31.950408 4593833408 deprecation_wrapper.py:119] From /anaconda3/lib/python3.7/site-packages/keras/backend/tensorflow_backend.py:4138: The name tf.random_uniform is deprecated. Please use tf.random.uniform instead.\n",
      "\n",
      "W0719 17:37:31.966866 4593833408 deprecation_wrapper.py:119] From /anaconda3/lib/python3.7/site-packages/keras/backend/tensorflow_backend.py:174: The name tf.get_default_session is deprecated. Please use tf.compat.v1.get_default_session instead.\n",
      "\n",
      "W0719 17:37:31.967706 4593833408 deprecation_wrapper.py:119] From /anaconda3/lib/python3.7/site-packages/keras/backend/tensorflow_backend.py:181: The name tf.ConfigProto is deprecated. Please use tf.compat.v1.ConfigProto instead.\n",
      "\n",
      "W0719 17:37:32.283012 4593833408 deprecation.py:506] From /anaconda3/lib/python3.7/site-packages/keras/backend/tensorflow_backend.py:3445: calling dropout (from tensorflow.python.ops.nn_ops) with keep_prob is deprecated and will be removed in a future version.\n",
      "Instructions for updating:\n",
      "Please use `rate` instead of `keep_prob`. Rate should be set to `rate = 1 - keep_prob`.\n",
      "W0719 17:37:32.563292 4593833408 deprecation_wrapper.py:119] From /anaconda3/lib/python3.7/site-packages/keras/optimizers.py:790: The name tf.train.Optimizer is deprecated. Please use tf.compat.v1.train.Optimizer instead.\n",
      "\n",
      "W0719 17:37:32.876518 4593833408 deprecation.py:323] From /anaconda3/lib/python3.7/site-packages/tensorflow/python/ops/math_grad.py:1250: add_dispatch_support.<locals>.wrapper (from tensorflow.python.ops.array_ops) is deprecated and will be removed in a future version.\n",
      "Instructions for updating:\n",
      "Use tf.where in 2.0, which has the same broadcast rule as np.where\n"
     ]
    },
    {
     "name": "stdout",
     "output_type": "stream",
     "text": [
      "Train on 750 samples, validate on 250 samples\n",
      "Epoch 1/20\n",
      "750/750 [==============================] - 2s 3ms/step - loss: 0.1636 - acc: 0.2360 - val_loss: 0.1212 - val_acc: 0.4480\n",
      "Epoch 2/20\n",
      "750/750 [==============================] - 0s 399us/step - loss: 0.1350 - acc: 0.3760 - val_loss: 0.1120 - val_acc: 0.5120\n",
      "Epoch 3/20\n",
      "750/750 [==============================] - 0s 397us/step - loss: 0.1243 - acc: 0.4360 - val_loss: 0.1100 - val_acc: 0.4960\n",
      "Epoch 4/20\n",
      "750/750 [==============================] - 0s 408us/step - loss: 0.1133 - acc: 0.4867 - val_loss: 0.1103 - val_acc: 0.5040\n",
      "Epoch 5/20\n",
      "750/750 [==============================] - 0s 397us/step - loss: 0.1085 - acc: 0.5133 - val_loss: 0.1107 - val_acc: 0.5240\n",
      "Epoch 6/20\n",
      "750/750 [==============================] - 0s 400us/step - loss: 0.0997 - acc: 0.5667 - val_loss: 0.1067 - val_acc: 0.5520\n",
      "Epoch 7/20\n",
      "750/750 [==============================] - 0s 394us/step - loss: 0.0936 - acc: 0.5893 - val_loss: 0.1058 - val_acc: 0.5360\n",
      "Epoch 8/20\n",
      "750/750 [==============================] - 0s 384us/step - loss: 0.0850 - acc: 0.6227 - val_loss: 0.1089 - val_acc: 0.5400\n",
      "Epoch 9/20\n",
      "750/750 [==============================] - 0s 397us/step - loss: 0.0817 - acc: 0.6320 - val_loss: 0.1045 - val_acc: 0.5400\n",
      "Epoch 10/20\n",
      "750/750 [==============================] - 0s 393us/step - loss: 0.0752 - acc: 0.6827 - val_loss: 0.1075 - val_acc: 0.5200\n",
      "Epoch 11/20\n",
      "750/750 [==============================] - 0s 378us/step - loss: 0.0682 - acc: 0.7147 - val_loss: 0.1079 - val_acc: 0.5560\n",
      "Epoch 12/20\n",
      "750/750 [==============================] - 0s 405us/step - loss: 0.0622 - acc: 0.7533 - val_loss: 0.1073 - val_acc: 0.5280\n",
      "Epoch 13/20\n",
      "750/750 [==============================] - 0s 395us/step - loss: 0.0578 - acc: 0.7587 - val_loss: 0.1110 - val_acc: 0.5440\n",
      "Epoch 14/20\n",
      "750/750 [==============================] - 0s 403us/step - loss: 0.0543 - acc: 0.7880 - val_loss: 0.1116 - val_acc: 0.5280\n",
      "Epoch 15/20\n",
      "750/750 [==============================] - 0s 400us/step - loss: 0.0481 - acc: 0.7973 - val_loss: 0.1098 - val_acc: 0.5320\n",
      "Epoch 16/20\n",
      "750/750 [==============================] - 0s 402us/step - loss: 0.0494 - acc: 0.7960 - val_loss: 0.1158 - val_acc: 0.5240\n",
      "Epoch 17/20\n",
      "750/750 [==============================] - 0s 399us/step - loss: 0.0445 - acc: 0.8280 - val_loss: 0.1217 - val_acc: 0.4920\n",
      "Epoch 18/20\n",
      "750/750 [==============================] - 0s 406us/step - loss: 0.0386 - acc: 0.8493 - val_loss: 0.1261 - val_acc: 0.4840\n",
      "Epoch 19/20\n",
      "750/750 [==============================] - 0s 398us/step - loss: 0.0357 - acc: 0.8547 - val_loss: 0.1228 - val_acc: 0.4760\n",
      "Epoch 20/20\n",
      "750/750 [==============================] - 0s 407us/step - loss: 0.0314 - acc: 0.8800 - val_loss: 0.1353 - val_acc: 0.4640\n"
     ]
    }
   ],
   "source": [
    "model = Sequential()\n",
    "\n",
    "model.add(Embedding(num_words, 300, weights=[embedding_matrix], input_length=10, trainable=False))\n",
    "model.add(LSTM(64, activation='relu', return_sequences=True))\n",
    "model.add(BatchNormalization())\n",
    "model.add(Dropout(0.5))\n",
    "model.add(LSTM(32, activation='relu'))\n",
    "model.add(BatchNormalization())\n",
    "model.add(Dropout(0.5))\n",
    "model.add(Dense(6, activation='softmax'))\n",
    "\n",
    "model.compile(loss='mean_squared_error',\n",
    "              optimizer=rmsprop(lr=.002, decay=.00001),\n",
    "              metrics=['accuracy'])\n",
    "\n",
    "\n",
    "\n",
    "history = model.fit(X_train, \n",
    "                    y_train,\n",
    "                    epochs=20,\n",
    "                    batch_size=75,\n",
    "                    validation_data=(X_test, y_test))\n",
    "\n"
   ]
  },
  {
   "cell_type": "code",
   "execution_count": 23,
   "metadata": {},
   "outputs": [
    {
     "name": "stdout",
     "output_type": "stream",
     "text": [
      "250/250 [==============================] - 0s 200us/step\n"
     ]
    },
    {
     "data": {
      "text/plain": [
       "[0.13531523996591568, 0.46399999952316284]"
      ]
     },
     "execution_count": 23,
     "metadata": {},
     "output_type": "execute_result"
    }
   ],
   "source": [
    "model.evaluate(X_test, y_test)"
   ]
  },
  {
   "cell_type": "code",
   "execution_count": 24,
   "metadata": {},
   "outputs": [
    {
     "data": {
      "text/plain": [
       "[<matplotlib.lines.Line2D at 0x1a34640a58>]"
      ]
     },
     "execution_count": 24,
     "metadata": {},
     "output_type": "execute_result"
    },
    {
     "data": {
      "image/png": "[encoded data removed]",
      "text/plain": [
       "<Figure size 432x288 with 1 Axes>"
      ]
     },
     "metadata": {
      "needs_background": "light"
     },
     "output_type": "display_data"
    }
   ],
   "source": [
    "plt.plot(model.history.history['acc'], color='blue', label='acc')\n",
    "plt.plot(model.history.history['loss'], label='loss')"
   ]
  },
  {
   "cell_type": "code",
   "execution_count": 25,
   "metadata": {},
   "outputs": [
    {
     "data": {
      "text/plain": [
       "[<matplotlib.lines.Line2D at 0x1a345c5d30>]"
      ]
     },
     "execution_count": 25,
     "metadata": {},
     "output_type": "execute_result"
    },
    {
     "data": {
      "image/png": "[encoded data removed]",
      "text/plain": [
       "<Figure size 432x288 with 1 Axes>"
      ]
     },
     "metadata": {
      "needs_background": "light"
     },
     "output_type": "display_data"
    }
   ],
   "source": [
    "plt.plot(model.history.history['val_acc'], color='blue', label='val_acc')\n",
    "plt.plot(model.history.history['val_loss'], label='val_loss')"
   ]
  },
  {
   "cell_type": "code",
   "execution_count": 26,
   "metadata": {},
   "outputs": [
    {
     "data": {
      "text/html": [
       "<div>\n",
       "<style scoped>\n",
       "    .dataframe tbody tr th:only-of-type {\n",
       "        vertical-align: middle;\n",
       "    }\n",
       "\n",
       "    .dataframe tbody tr th {\n",
       "        vertical-align: top;\n",
       "    }\n",
       "\n",
       "    .dataframe thead th {\n",
       "        text-align: right;\n",
       "    }\n",
       "</style>\n",
       "<table border=\"1\" class=\"dataframe\">\n",
       "  <thead>\n",
       "    <tr style=\"text-align: right;\">\n",
       "      <th></th>\n",
       "      <th>Prediction Anger</th>\n",
       "      <th>Prediction Disgust</th>\n",
       "      <th>Prediction Fear</th>\n",
       "      <th>Prediction Joy</th>\n",
       "      <th>Prediction Sadness</th>\n",
       "      <th>Prediction Surprise</th>\n",
       "      <th>Anger</th>\n",
       "      <th>Disgust</th>\n",
       "      <th>Fear</th>\n",
       "      <th>Joy</th>\n",
       "      <th>Sadness</th>\n",
       "      <th>Surprise</th>\n",
       "    </tr>\n",
       "  </thead>\n",
       "  <tbody>\n",
       "    <tr>\n",
       "      <th>0</th>\n",
       "      <td>0.018725</td>\n",
       "      <td>0.008629</td>\n",
       "      <td>0.130487</td>\n",
       "      <td>0.157423</td>\n",
       "      <td>0.005465</td>\n",
       "      <td>0.679271</td>\n",
       "      <td>0</td>\n",
       "      <td>0</td>\n",
       "      <td>0</td>\n",
       "      <td>1</td>\n",
       "      <td>0</td>\n",
       "      <td>0</td>\n",
       "    </tr>\n",
       "    <tr>\n",
       "      <th>1</th>\n",
       "      <td>0.070596</td>\n",
       "      <td>0.035778</td>\n",
       "      <td>0.769663</td>\n",
       "      <td>0.000870</td>\n",
       "      <td>0.114628</td>\n",
       "      <td>0.008464</td>\n",
       "      <td>0</td>\n",
       "      <td>0</td>\n",
       "      <td>0</td>\n",
       "      <td>0</td>\n",
       "      <td>1</td>\n",
       "      <td>0</td>\n",
       "    </tr>\n",
       "    <tr>\n",
       "      <th>2</th>\n",
       "      <td>0.000026</td>\n",
       "      <td>0.000509</td>\n",
       "      <td>0.000022</td>\n",
       "      <td>0.995931</td>\n",
       "      <td>0.000101</td>\n",
       "      <td>0.003410</td>\n",
       "      <td>0</td>\n",
       "      <td>0</td>\n",
       "      <td>0</td>\n",
       "      <td>1</td>\n",
       "      <td>0</td>\n",
       "      <td>0</td>\n",
       "    </tr>\n",
       "    <tr>\n",
       "      <th>3</th>\n",
       "      <td>0.000314</td>\n",
       "      <td>0.001438</td>\n",
       "      <td>0.000164</td>\n",
       "      <td>0.992867</td>\n",
       "      <td>0.000742</td>\n",
       "      <td>0.004475</td>\n",
       "      <td>0</td>\n",
       "      <td>0</td>\n",
       "      <td>0</td>\n",
       "      <td>1</td>\n",
       "      <td>0</td>\n",
       "      <td>0</td>\n",
       "    </tr>\n",
       "    <tr>\n",
       "      <th>4</th>\n",
       "      <td>0.010331</td>\n",
       "      <td>0.008878</td>\n",
       "      <td>0.901989</td>\n",
       "      <td>0.001665</td>\n",
       "      <td>0.076840</td>\n",
       "      <td>0.000297</td>\n",
       "      <td>0</td>\n",
       "      <td>0</td>\n",
       "      <td>1</td>\n",
       "      <td>0</td>\n",
       "      <td>0</td>\n",
       "      <td>0</td>\n",
       "    </tr>\n",
       "  </tbody>\n",
       "</table>\n",
       "</div>"
      ],
      "text/plain": [
       "   Prediction Anger  Prediction Disgust  Prediction Fear  Prediction Joy  \\\n",
       "0          0.018725            0.008629         0.130487        0.157423   \n",
       "1          0.070596            0.035778         0.769663        0.000870   \n",
       "2          0.000026            0.000509         0.000022        0.995931   \n",
       "3          0.000314            0.001438         0.000164        0.992867   \n",
       "4          0.010331            0.008878         0.901989        0.001665   \n",
       "\n",
       "   Prediction Sadness  Prediction Surprise  Anger  Disgust  Fear  Joy  \\\n",
       "0            0.005465             0.679271      0        0     0    1   \n",
       "1            0.114628             0.008464      0        0     0    0   \n",
       "2            0.000101             0.003410      0        0     0    1   \n",
       "3            0.000742             0.004475      0        0     0    1   \n",
       "4            0.076840             0.000297      0        0     1    0   \n",
       "\n",
       "   Sadness  Surprise  \n",
       "0        0         0  \n",
       "1        1         0  \n",
       "2        0         0  \n",
       "3        0         0  \n",
       "4        0         0  "
      ]
     },
     "execution_count": 26,
     "metadata": {},
     "output_type": "execute_result"
    }
   ],
   "source": [
    "preds = model.predict_on_batch(X_test)\n",
    "\n",
    "emotion_preds = pd.DataFrame({\"Prediction Anger\":preds[:,0], \"Prediction Disgust\":preds[:,1], \"Prediction Fear\":preds[:,2], \"Prediction Joy\":preds[:,3], \"Prediction Sadness\":preds[:,4], \"Prediction Surprise\":preds[:,5], \"Anger\":y_test[:,0], \"Disgust\":y_test[:,1], \"Fear\": y_test[:,2], \"Joy\": y_test[:,3], \"Sadness\": y_test[:,4], \"Surprise\": y_test[:,5]})\n",
    "emotion_preds.head()"
   ]
  },
  {
   "cell_type": "markdown",
   "metadata": {},
   "source": [
    "# RNN with Valence Labels"
   ]
  },
  {
   "cell_type": "code",
   "execution_count": 27,
   "metadata": {},
   "outputs": [],
   "source": [
    "X = corpus_df['text']\n",
    "y = valence_df['label']\n",
    "\n",
    "tokenizer = text.Tokenizer(num_words=20000)\n",
    "tokenizer.fit_on_texts(list(X))\n",
    "sequences = tokenizer.texts_to_sequences(X)\n",
    "padded_X = sequence.pad_sequences(sequences, maxlen=10)\n"
   ]
  },
  {
   "cell_type": "code",
   "execution_count": 28,
   "metadata": {},
   "outputs": [
    {
     "name": "stdout",
     "output_type": "stream",
     "text": [
      "Train on 750 samples, validate on 250 samples\n",
      "Epoch 1/20\n",
      "750/750 [==============================] - 2s 3ms/step - loss: 0.2580 - acc: 0.4520 - val_loss: 0.2073 - val_acc: 0.5000\n",
      "Epoch 2/20\n",
      "750/750 [==============================] - 0s 396us/step - loss: 0.1920 - acc: 0.5693 - val_loss: 0.2057 - val_acc: 0.5600\n",
      "Epoch 3/20\n",
      "750/750 [==============================] - 0s 393us/step - loss: 0.1729 - acc: 0.5973 - val_loss: 0.1934 - val_acc: 0.5480\n",
      "Epoch 4/20\n",
      "750/750 [==============================] - 0s 396us/step - loss: 0.1540 - acc: 0.6653 - val_loss: 0.1911 - val_acc: 0.5600\n",
      "Epoch 5/20\n",
      "750/750 [==============================] - 0s 389us/step - loss: 0.1462 - acc: 0.6707 - val_loss: 0.1887 - val_acc: 0.6040\n",
      "Epoch 6/20\n",
      "750/750 [==============================] - 0s 396us/step - loss: 0.1267 - acc: 0.7320 - val_loss: 0.1906 - val_acc: 0.6040\n",
      "Epoch 7/20\n",
      "750/750 [==============================] - 0s 380us/step - loss: 0.1073 - acc: 0.7787 - val_loss: 0.1900 - val_acc: 0.6200\n",
      "Epoch 8/20\n",
      "750/750 [==============================] - 0s 385us/step - loss: 0.0981 - acc: 0.8107 - val_loss: 0.2008 - val_acc: 0.6120\n",
      "Epoch 9/20\n",
      "750/750 [==============================] - 0s 399us/step - loss: 0.0897 - acc: 0.8213 - val_loss: 0.1959 - val_acc: 0.5680\n",
      "Epoch 10/20\n",
      "750/750 [==============================] - 0s 394us/step - loss: 0.0777 - acc: 0.8493 - val_loss: 0.2080 - val_acc: 0.5640\n",
      "Epoch 11/20\n",
      "750/750 [==============================] - 0s 380us/step - loss: 0.0757 - acc: 0.8467 - val_loss: 0.2055 - val_acc: 0.5760\n",
      "Epoch 12/20\n",
      "750/750 [==============================] - 0s 389us/step - loss: 0.0583 - acc: 0.8827 - val_loss: 0.2165 - val_acc: 0.5560\n",
      "Epoch 13/20\n",
      "750/750 [==============================] - 0s 397us/step - loss: 0.0582 - acc: 0.8840 - val_loss: 0.2179 - val_acc: 0.5680\n",
      "Epoch 14/20\n",
      "750/750 [==============================] - 0s 393us/step - loss: 0.0497 - acc: 0.9053 - val_loss: 0.2281 - val_acc: 0.5360\n",
      "Epoch 15/20\n",
      "750/750 [==============================] - 0s 397us/step - loss: 0.0442 - acc: 0.9240 - val_loss: 0.2228 - val_acc: 0.5480\n",
      "Epoch 16/20\n",
      "750/750 [==============================] - 0s 392us/step - loss: 0.0419 - acc: 0.9173 - val_loss: 0.2169 - val_acc: 0.5720\n",
      "Epoch 17/20\n",
      "750/750 [==============================] - 0s 393us/step - loss: 0.0350 - acc: 0.9333 - val_loss: 0.2213 - val_acc: 0.5920\n",
      "Epoch 18/20\n",
      "750/750 [==============================] - 0s 444us/step - loss: 0.0308 - acc: 0.9440 - val_loss: 0.2241 - val_acc: 0.5920\n",
      "Epoch 19/20\n",
      "750/750 [==============================] - 0s 439us/step - loss: 0.0279 - acc: 0.9587 - val_loss: 0.2263 - val_acc: 0.5920\n",
      "Epoch 20/20\n",
      "750/750 [==============================] - 0s 416us/step - loss: 0.0263 - acc: 0.9493 - val_loss: 0.2369 - val_acc: 0.5680\n"
     ]
    }
   ],
   "source": [
    "random.seed(3)\n",
    "train_list = np.random.choice(range(0,1000), size=750, replace=False)\n",
    "test_list = [i for i in range(0,1000) if i not in train_list]\n",
    "\n",
    "X_train = padded_X[train_list]\n",
    "X_test = padded_X[test_list]\n",
    "\n",
    "# labels one hot encoded\n",
    "y_train = (y.iloc[train_list]).values\n",
    "y_test = (y.iloc[test_list]).values\n",
    "\n",
    "y_train_binary = keras.utils.to_categorical(y_train, 3)\n",
    "y_test_binary = keras.utils.to_categorical(y_test, 3)\n",
    "\n",
    "X_train\n",
    "\n",
    "model = Sequential()\n",
    "\n",
    "model.add(Embedding(num_words, 300, weights=[embedding_matrix], input_length=10, trainable=False))\n",
    "model.add(LSTM(64, activation='relu', return_sequences=True))\n",
    "model.add(BatchNormalization())\n",
    "model.add(Dropout(0.5))\n",
    "model.add(LSTM(32, activation='relu'))\n",
    "model.add(BatchNormalization())\n",
    "model.add(Dropout(0.5))\n",
    "model.add(Dense(3, activation='softmax'))\n",
    "\n",
    "model.compile(loss='mean_squared_error',\n",
    "              optimizer=rmsprop(lr=.002, decay=.00001),\n",
    "              metrics=['accuracy'])\n",
    "\n",
    "history = model.fit(X_train, \n",
    "                    y_train_binary,\n",
    "                    epochs=20,\n",
    "                    batch_size=75,\n",
    "                    validation_data=(X_test, y_test_binary))\n"
   ]
  },
  {
   "cell_type": "code",
   "execution_count": 29,
   "metadata": {
    "scrolled": true
   },
   "outputs": [
    {
     "name": "stdout",
     "output_type": "stream",
     "text": [
      "250/250 [==============================] - 0s 210us/step\n"
     ]
    },
    {
     "data": {
      "text/plain": [
       "[0.23689214718341828, 0.568]"
      ]
     },
     "execution_count": 29,
     "metadata": {},
     "output_type": "execute_result"
    }
   ],
   "source": [
    "model.evaluate(X_test, y_test_binary)\n"
   ]
  },
  {
   "cell_type": "code",
   "execution_count": 30,
   "metadata": {},
   "outputs": [
    {
     "data": {
      "text/plain": [
       "[<matplotlib.lines.Line2D at 0x1a3733f1d0>]"
      ]
     },
     "execution_count": 30,
     "metadata": {},
     "output_type": "execute_result"
    },
    {
     "data": {
      "image/png": "[encoded data removed]",
      "text/plain": [
       "<Figure size 432x288 with 1 Axes>"
      ]
     },
     "metadata": {
      "needs_background": "light"
     },
     "output_type": "display_data"
    }
   ],
   "source": [
    "plt.plot(model.history.history['acc'], color='blue', label='acc')\n",
    "plt.plot(model.history.history['loss'], label='loss')\n"
   ]
  },
  {
   "cell_type": "code",
   "execution_count": 31,
   "metadata": {},
   "outputs": [
    {
     "data": {
      "text/plain": [
       "[<matplotlib.lines.Line2D at 0x1a372c9ac8>]"
      ]
     },
     "execution_count": 31,
     "metadata": {},
     "output_type": "execute_result"
    },
    {
     "data": {
      "image/png": "[encoded data removed]",
      "text/plain": [
       "<Figure size 432x288 with 1 Axes>"
      ]
     },
     "metadata": {
      "needs_background": "light"
     },
     "output_type": "display_data"
    }
   ],
   "source": [
    "plt.plot(model.history.history['val_acc'], color='blue', label='val_acc')\n",
    "plt.plot(model.history.history['val_loss'], label='val_loss')\n"
   ]
  },
  {
   "cell_type": "code",
   "execution_count": 32,
   "metadata": {},
   "outputs": [],
   "source": [
    "preds = model.predict_on_batch(X_test)"
   ]
  },
  {
   "cell_type": "code",
   "execution_count": 39,
   "metadata": {},
   "outputs": [
    {
     "data": {
      "text/html": [
       "<div>\n",
       "<style scoped>\n",
       "    .dataframe tbody tr th:only-of-type {\n",
       "        vertical-align: middle;\n",
       "    }\n",
       "\n",
       "    .dataframe tbody tr th {\n",
       "        vertical-align: top;\n",
       "    }\n",
       "\n",
       "    .dataframe thead th {\n",
       "        text-align: right;\n",
       "    }\n",
       "</style>\n",
       "<table border=\"1\" class=\"dataframe\">\n",
       "  <thead>\n",
       "    <tr style=\"text-align: right;\">\n",
       "      <th></th>\n",
       "      <th>Prediction Neg</th>\n",
       "      <th>Prediction Pos</th>\n",
       "      <th>Prediction Neu</th>\n",
       "      <th>Neg</th>\n",
       "      <th>Pos</th>\n",
       "      <th>Neu</th>\n",
       "      <th>Actual Intensity</th>\n",
       "      <th>Prediction Label</th>\n",
       "    </tr>\n",
       "  </thead>\n",
       "  <tbody>\n",
       "    <tr>\n",
       "      <th>2</th>\n",
       "      <td>4.350387e-07</td>\n",
       "      <td>0.999999</td>\n",
       "      <td>3.981968e-07</td>\n",
       "      <td>0.0</td>\n",
       "      <td>1.0</td>\n",
       "      <td>0.0</td>\n",
       "      <td>26</td>\n",
       "      <td>Prediction Pos</td>\n",
       "    </tr>\n",
       "    <tr>\n",
       "      <th>5</th>\n",
       "      <td>9.927492e-01</td>\n",
       "      <td>0.000985</td>\n",
       "      <td>6.266064e-03</td>\n",
       "      <td>1.0</td>\n",
       "      <td>0.0</td>\n",
       "      <td>0.0</td>\n",
       "      <td>-67</td>\n",
       "      <td>Prediction Neg</td>\n",
       "    </tr>\n",
       "    <tr>\n",
       "      <th>6</th>\n",
       "      <td>2.113829e-01</td>\n",
       "      <td>0.029981</td>\n",
       "      <td>7.586359e-01</td>\n",
       "      <td>0.0</td>\n",
       "      <td>0.0</td>\n",
       "      <td>1.0</td>\n",
       "      <td>14</td>\n",
       "      <td>Prediction Neu</td>\n",
       "    </tr>\n",
       "    <tr>\n",
       "      <th>8</th>\n",
       "      <td>2.926832e-01</td>\n",
       "      <td>0.071689</td>\n",
       "      <td>6.356281e-01</td>\n",
       "      <td>0.0</td>\n",
       "      <td>0.0</td>\n",
       "      <td>1.0</td>\n",
       "      <td>-15</td>\n",
       "      <td>Prediction Neu</td>\n",
       "    </tr>\n",
       "    <tr>\n",
       "      <th>11</th>\n",
       "      <td>1.257551e-02</td>\n",
       "      <td>0.564118</td>\n",
       "      <td>4.233063e-01</td>\n",
       "      <td>0.0</td>\n",
       "      <td>1.0</td>\n",
       "      <td>0.0</td>\n",
       "      <td>61</td>\n",
       "      <td>Prediction Pos</td>\n",
       "    </tr>\n",
       "  </tbody>\n",
       "</table>\n",
       "</div>"
      ],
      "text/plain": [
       "    Prediction Neg  Prediction Pos  Prediction Neu  Neg  Pos  Neu  \\\n",
       "2     4.350387e-07        0.999999    3.981968e-07  0.0  1.0  0.0   \n",
       "5     9.927492e-01        0.000985    6.266064e-03  1.0  0.0  0.0   \n",
       "6     2.113829e-01        0.029981    7.586359e-01  0.0  0.0  1.0   \n",
       "8     2.926832e-01        0.071689    6.356281e-01  0.0  0.0  1.0   \n",
       "11    1.257551e-02        0.564118    4.233063e-01  0.0  1.0  0.0   \n",
       "\n",
       "    Actual Intensity Prediction Label  \n",
       "2                 26   Prediction Pos  \n",
       "5                -67   Prediction Neg  \n",
       "6                 14   Prediction Neu  \n",
       "8                -15   Prediction Neu  \n",
       "11                61   Prediction Pos  "
      ]
     },
     "execution_count": 39,
     "metadata": {},
     "output_type": "execute_result"
    }
   ],
   "source": [
    "valence_preds = pd.DataFrame({\"Prediction Neg\":preds[:,0], \"Prediction Pos\":preds[:,1], \"Prediction Neu\":preds[:,2], \"Neg\":y_test_binary[:,0], \"Pos\":y_test_binary[:,1], \"Neu\": y_test_binary[:,2], \"Actual Intensity\": valence_df['valence'][test_list]})\n",
    "valence_preds['Prediction Label'] = valence_preds[['Prediction Neg', \"Prediction Pos\", 'Prediction Neu']].idxmax(axis=1)\n",
    "valence_preds.head()"
   ]
  },
  {
   "cell_type": "code",
   "execution_count": 79,
   "metadata": {},
   "outputs": [
    {
     "data": {
      "text/plain": [
       "{'whiskers': [<matplotlib.lines.Line2D at 0x1a3b1155c0>,\n",
       "  <matplotlib.lines.Line2D at 0x1a3b115908>],\n",
       " 'caps': [<matplotlib.lines.Line2D at 0x1a3b115c50>,\n",
       "  <matplotlib.lines.Line2D at 0x1a3b115f98>],\n",
       " 'boxes': [<matplotlib.lines.Line2D at 0x1a3b115198>],\n",
       " 'medians': [<matplotlib.lines.Line2D at 0x1a3b11f320>],\n",
       " 'fliers': [<matplotlib.lines.Line2D at 0x1a3b11f668>],\n",
       " 'means': []}"
      ]
     },
     "execution_count": 79,
     "metadata": {},
     "output_type": "execute_result"
    },
    {
     "data": {
      "image/png": "[encoded data removed]",
      "text/plain": [
       "<Figure size 720x360 with 3 Axes>"
      ]
     },
     "metadata": {
      "needs_background": "light"
     },
     "output_type": "display_data"
    }
   ],
   "source": [
    "neg_pred = valence_preds.loc[(valence_preds['Prediction Label']=='Prediction Neg')]\n",
    "pos_pred = valence_preds.loc[(valence_preds['Prediction Label']=='Prediction Pos')]\n",
    "neu_pred = valence_preds.loc[(valence_preds['Prediction Label']=='Prediction Neu')]\n",
    "\n",
    "fig, (ax1, ax2, ax3) = plt.subplots(1,3, sharey=True, figsize=(10, 5))\n",
    "# fig.add_subplot(1)\n",
    "ax1.boxplot(neg_pred['Actual Intensity'])\n",
    "# fig.add_subplot(2)\n",
    "ax2.boxplot(pos_pred['Actual Intensity'])\n",
    "# fig.add_subplot(3)\n",
    "ax3.boxplot(neu_pred['Actual Intensity'])"
   ]
  },
  {
   "cell_type": "markdown",
   "metadata": {},
   "source": [
    "## RNN: Strong Pos/Neg Labels"
   ]
  },
  {
   "cell_type": "code",
   "execution_count": 163,
   "metadata": {},
   "outputs": [],
   "source": [
    "y = valence_df['label'].loc[(valence_df['label']==0)|(valence_df['label']==1)]\n",
    "X = corpus_df['text'].loc[y.index]\n",
    "\n",
    "\n",
    "tokenizer = text.Tokenizer(num_words=20000)\n",
    "tokenizer.fit_on_texts(list(X))\n",
    "sequences = tokenizer.texts_to_sequences(X)\n",
    "padded_X = sequence.pad_sequences(sequences, maxlen=10)\n"
   ]
  },
  {
   "cell_type": "code",
   "execution_count": 164,
   "metadata": {},
   "outputs": [
    {
     "name": "stdout",
     "output_type": "stream",
     "text": [
      "Train on 553 samples, validate on 185 samples\n",
      "Epoch 1/25\n",
      "553/553 [==============================] - 11s 20ms/step - loss: 0.3485 - acc: 0.5298 - val_loss: 0.2890 - val_acc: 0.5514\n",
      "Epoch 2/25\n",
      "553/553 [==============================] - 0s 471us/step - loss: 0.2641 - acc: 0.6293 - val_loss: 0.2814 - val_acc: 0.5730\n",
      "Epoch 3/25\n",
      "553/553 [==============================] - 0s 470us/step - loss: 0.2126 - acc: 0.7071 - val_loss: 0.2771 - val_acc: 0.5892\n",
      "Epoch 4/25\n",
      "553/553 [==============================] - 0s 475us/step - loss: 0.1691 - acc: 0.7685 - val_loss: 0.2944 - val_acc: 0.5676\n",
      "Epoch 5/25\n",
      "553/553 [==============================] - 0s 482us/step - loss: 0.1386 - acc: 0.7993 - val_loss: 0.2931 - val_acc: 0.5838\n",
      "Epoch 6/25\n",
      "553/553 [==============================] - 0s 490us/step - loss: 0.1104 - acc: 0.8553 - val_loss: 0.2928 - val_acc: 0.5784\n",
      "Epoch 7/25\n",
      "553/553 [==============================] - 0s 482us/step - loss: 0.0855 - acc: 0.8734 - val_loss: 0.3009 - val_acc: 0.5838\n",
      "Epoch 8/25\n",
      "553/553 [==============================] - 0s 485us/step - loss: 0.0622 - acc: 0.9096 - val_loss: 0.3198 - val_acc: 0.5730\n",
      "Epoch 9/25\n",
      "553/553 [==============================] - 0s 592us/step - loss: 0.0485 - acc: 0.9385 - val_loss: 0.3020 - val_acc: 0.5838\n",
      "Epoch 10/25\n",
      "553/553 [==============================] - 0s 476us/step - loss: 0.0426 - acc: 0.9548 - val_loss: 0.3219 - val_acc: 0.6054\n",
      "Epoch 11/25\n",
      "553/553 [==============================] - 0s 513us/step - loss: 0.0423 - acc: 0.9439 - val_loss: 0.3072 - val_acc: 0.6324\n",
      "Epoch 12/25\n",
      "553/553 [==============================] - 0s 506us/step - loss: 0.0325 - acc: 0.9620 - val_loss: 0.3109 - val_acc: 0.6054\n",
      "Epoch 13/25\n",
      "553/553 [==============================] - 0s 660us/step - loss: 0.0313 - acc: 0.9638 - val_loss: 0.3183 - val_acc: 0.5946\n",
      "Epoch 14/25\n",
      "553/553 [==============================] - 0s 594us/step - loss: 0.0216 - acc: 0.9801 - val_loss: 0.3119 - val_acc: 0.6216\n",
      "Epoch 15/25\n",
      "553/553 [==============================] - 0s 571us/step - loss: 0.0254 - acc: 0.9656 - val_loss: 0.3298 - val_acc: 0.6216\n",
      "Epoch 16/25\n",
      "553/553 [==============================] - 0s 533us/step - loss: 0.0221 - acc: 0.9747 - val_loss: 0.3436 - val_acc: 0.5838\n",
      "Epoch 17/25\n",
      "553/553 [==============================] - 0s 524us/step - loss: 0.0137 - acc: 0.9819 - val_loss: 0.3105 - val_acc: 0.6432\n",
      "Epoch 18/25\n",
      "553/553 [==============================] - 0s 506us/step - loss: 0.0215 - acc: 0.9747 - val_loss: 0.3234 - val_acc: 0.6162\n",
      "Epoch 19/25\n",
      "553/553 [==============================] - 0s 520us/step - loss: 0.0131 - acc: 0.9855 - val_loss: 0.3221 - val_acc: 0.6108\n",
      "Epoch 20/25\n",
      "553/553 [==============================] - 0s 626us/step - loss: 0.0097 - acc: 0.9928 - val_loss: 0.3487 - val_acc: 0.5676\n",
      "Epoch 21/25\n",
      "553/553 [==============================] - 0s 535us/step - loss: 0.0117 - acc: 0.9873 - val_loss: 0.3406 - val_acc: 0.5892\n",
      "Epoch 22/25\n",
      "553/553 [==============================] - 0s 526us/step - loss: 0.0118 - acc: 0.9873 - val_loss: 0.3308 - val_acc: 0.5838\n",
      "Epoch 23/25\n",
      "553/553 [==============================] - 0s 515us/step - loss: 0.0104 - acc: 0.9873 - val_loss: 0.3191 - val_acc: 0.6432\n",
      "Epoch 24/25\n",
      "553/553 [==============================] - 0s 514us/step - loss: 0.0107 - acc: 0.9855 - val_loss: 0.3145 - val_acc: 0.6432\n",
      "Epoch 25/25\n",
      "553/553 [==============================] - 0s 518us/step - loss: 0.0112 - acc: 0.9855 - val_loss: 0.3309 - val_acc: 0.6162\n"
     ]
    }
   ],
   "source": [
    "random.seed(3)\n",
    "train_list = np.random.choice(range(0,738), size=553, replace=False)\n",
    "test_list = [i for i in range(0,738) if i not in train_list]\n",
    "\n",
    "X_train = padded_X[train_list]\n",
    "X_test = padded_X[test_list]\n",
    "\n",
    "# labels one hot encoded\n",
    "y_train = (y.iloc[train_list]).values\n",
    "y_test = (y.iloc[test_list]).values\n",
    "\n",
    "y_train_binary = keras.utils.to_categorical(y_train, 2)\n",
    "y_test_binary = keras.utils.to_categorical(y_test, 2)\n",
    "\n",
    "X_train\n",
    "\n",
    "model = Sequential()\n",
    "\n",
    "model.add(Embedding(num_words, 300, weights=[embedding_matrix], input_length=10, trainable=False))\n",
    "model.add(LSTM(64, activation='relu', return_sequences=True))\n",
    "model.add(BatchNormalization())\n",
    "model.add(Dropout(0.5))\n",
    "model.add(LSTM(64, activation='relu'))\n",
    "model.add(BatchNormalization())\n",
    "model.add(Dropout(0.5))\n",
    "model.add(Dense(2, activation='softmax'))\n",
    "\n",
    "model.compile(loss='mean_squared_error',\n",
    "              optimizer=rmsprop(lr=.002, decay=.00001),\n",
    "              metrics=['accuracy'])\n",
    "\n",
    "history = model.fit(X_train, \n",
    "                    y_train_binary,\n",
    "                    epochs=25,\n",
    "                    batch_size=75,\n",
    "                    validation_data=(X_test, y_test_binary))\n",
    "\n"
   ]
  },
  {
   "cell_type": "code",
   "execution_count": 165,
   "metadata": {},
   "outputs": [
    {
     "name": "stdout",
     "output_type": "stream",
     "text": [
      "185/185 [==============================] - 0s 284us/step\n"
     ]
    },
    {
     "data": {
      "text/plain": [
       "[0.33092121941012304, 0.6162162200824635]"
      ]
     },
     "execution_count": 165,
     "metadata": {},
     "output_type": "execute_result"
    }
   ],
   "source": [
    "model.evaluate(X_test, y_test_binary)\n"
   ]
  },
  {
   "cell_type": "code",
   "execution_count": 166,
   "metadata": {},
   "outputs": [
    {
     "data": {
      "text/plain": [
       "[<matplotlib.lines.Line2D at 0x1a5d784860>]"
      ]
     },
     "execution_count": 166,
     "metadata": {},
     "output_type": "execute_result"
    },
    {
     "data": {
      "image/png": "[encoded data removed]",
      "text/plain": [
       "<Figure size 432x288 with 1 Axes>"
      ]
     },
     "metadata": {
      "needs_background": "light"
     },
     "output_type": "display_data"
    }
   ],
   "source": [
    "plt.plot(model.history.history['acc'], color='blue', label='acc')\n",
    "plt.plot(model.history.history['loss'], label='loss')\n"
   ]
  },
  {
   "cell_type": "code",
   "execution_count": 167,
   "metadata": {},
   "outputs": [
    {
     "data": {
      "text/plain": [
       "[<matplotlib.lines.Line2D at 0x1a5d7a9f28>]"
      ]
     },
     "execution_count": 167,
     "metadata": {},
     "output_type": "execute_result"
    },
    {
     "data": {
      "image/png": "[encoded data removed]",
      "text/plain": [
       "<Figure size 432x288 with 1 Axes>"
      ]
     },
     "metadata": {
      "needs_background": "light"
     },
     "output_type": "display_data"
    }
   ],
   "source": [
    "plt.plot(model.history.history['val_acc'], color='blue', label='val_acc')\n",
    "plt.plot(model.history.history['val_loss'], label='val_loss')\n"
   ]
  },
  {
   "cell_type": "code",
   "execution_count": 168,
   "metadata": {},
   "outputs": [
    {
     "data": {
      "text/html": [
       "<div>\n",
       "<style scoped>\n",
       "    .dataframe tbody tr th:only-of-type {\n",
       "        vertical-align: middle;\n",
       "    }\n",
       "\n",
       "    .dataframe tbody tr th {\n",
       "        vertical-align: top;\n",
       "    }\n",
       "\n",
       "    .dataframe thead th {\n",
       "        text-align: right;\n",
       "    }\n",
       "</style>\n",
       "<table border=\"1\" class=\"dataframe\">\n",
       "  <thead>\n",
       "    <tr style=\"text-align: right;\">\n",
       "      <th></th>\n",
       "      <th>Prediction Neg</th>\n",
       "      <th>Prediction Pos</th>\n",
       "    </tr>\n",
       "  </thead>\n",
       "  <tbody>\n",
       "    <tr>\n",
       "      <th>0</th>\n",
       "      <td>0.648719</td>\n",
       "      <td>0.351281</td>\n",
       "    </tr>\n",
       "    <tr>\n",
       "      <th>1</th>\n",
       "      <td>0.017377</td>\n",
       "      <td>0.982623</td>\n",
       "    </tr>\n",
       "    <tr>\n",
       "      <th>2</th>\n",
       "      <td>0.999178</td>\n",
       "      <td>0.000822</td>\n",
       "    </tr>\n",
       "    <tr>\n",
       "      <th>3</th>\n",
       "      <td>0.983497</td>\n",
       "      <td>0.016503</td>\n",
       "    </tr>\n",
       "    <tr>\n",
       "      <th>4</th>\n",
       "      <td>0.000016</td>\n",
       "      <td>0.999984</td>\n",
       "    </tr>\n",
       "  </tbody>\n",
       "</table>\n",
       "</div>"
      ],
      "text/plain": [
       "   Prediction Neg  Prediction Pos\n",
       "0        0.648719        0.351281\n",
       "1        0.017377        0.982623\n",
       "2        0.999178        0.000822\n",
       "3        0.983497        0.016503\n",
       "4        0.000016        0.999984"
      ]
     },
     "execution_count": 168,
     "metadata": {},
     "output_type": "execute_result"
    }
   ],
   "source": [
    "\n",
    "preds = model.predict_on_batch(X_test)\n",
    "\n",
    "valence_preds = pd.DataFrame({\"Prediction Neg\":preds[:,0], \"Prediction Pos\":preds[:,1]})\n",
    "valence_preds.head()"
   ]
  },
  {
   "cell_type": "code",
   "execution_count": null,
   "metadata": {},
   "outputs": [],
   "source": []
  },
  {
   "cell_type": "code",
   "execution_count": null,
   "metadata": {},
   "outputs": [],
   "source": []
  },
  {
   "cell_type": "code",
   "execution_count": null,
   "metadata": {},
   "outputs": [],
   "source": []
  },
  {
   "cell_type": "code",
   "execution_count": null,
   "metadata": {},
   "outputs": [],
   "source": []
  }
 ],
 "metadata": {
  "kernelspec": {
   "display_name": "Python 3",
   "language": "python",
   "name": "python3"
  },
  "language_info": {
   "codemirror_mode": {
    "name": "ipython",
    "version": 3
   },
   "file_extension": ".py",
   "mimetype": "text/x-python",
   "name": "python",
   "nbconvert_exporter": "python",
   "pygments_lexer": "ipython3",
   "version": "3.7.3"
  }
 },
 "nbformat": 4,
 "nbformat_minor": 2
}
