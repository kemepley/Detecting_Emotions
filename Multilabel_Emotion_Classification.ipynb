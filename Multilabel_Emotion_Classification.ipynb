{
 "cells": [
  {
   "cell_type": "markdown",
   "metadata": {},
   "source": [
    "The dataset contains 1250 headlines from a variety of news publications. Each is given a rating between 0 and 100 for six emotion categories. \n",
    "\n",
    "Since ninety eight percent of the dataset has at least two emotions with non-zero ratings, it makes sense to treat this task as a multilabel classification probelm. The model should be able to make a prediction (present or not present) for each emotion label. \n",
    "\n",
    "In this notebook, I use the skmultilearn package's Chain Classifier with a Support Vector Classifier and a Recurrent Neural Network to make predictions and compare the results.\n",
    "\n",
    "The best performing model for this task was ...\n"
   ]
  },
  {
   "cell_type": "code",
   "execution_count": 1,
   "metadata": {},
   "outputs": [
    {
     "name": "stderr",
     "output_type": "stream",
     "text": [
      "Using TensorFlow backend.\n"
     ]
    }
   ],
   "source": [
    "# basics\n",
    "import pandas as pd\n",
    "import numpy as np\n",
    "import itertools\n",
    "\n",
    "# vectorizer, classifiers, and metrics\n",
    "from sklearn.feature_extraction.text import TfidfVectorizer\n",
    "from sklearn.model_selection import train_test_split\n",
    "from sklearn.linear_model import LogisticRegression\n",
    "from sklearn.svm import LinearSVC\n",
    "from sklearn.metrics import f1_score, confusion_matrix, jaccard_score, hamming_loss, log_loss\n",
    "from skmultilearn.problem_transform import ClassifierChain, LabelPowerset\n",
    "from sklearn.multiclass import OneVsRestClassifier\n",
    "from skmultilearn.model_selection.iterative_stratification import iterative_train_test_split\n",
    "\n",
    "# rnn\n",
    "import keras\n",
    "from keras.preprocessing import text, sequence\n",
    "from keras.layers import Input, Dense, LSTM, Embedding, Dropout\n",
    "from keras.layers.normalization import BatchNormalization\n",
    "from keras.models import Sequential\n",
    "from keras.optimizers import Adam, rmsprop\n",
    "from keras import regularizers\n",
    "from keras.callbacks import EarlyStopping, ReduceLROnPlateau\n",
    "from keras.models import load_model\n",
    "\n",
    "# custom functions, class to import and process data\n",
    "from get_labeled_dfs import *\n",
    "from process_text import *\n",
    "\n",
    "import matplotlib.pyplot as plt\n",
    "%matplotlib inline\n",
    "import seaborn as sns\n",
    "\n",
    "import warnings\n",
    "warnings.filterwarnings(\"ignore\")"
   ]
  },
  {
   "cell_type": "code",
   "execution_count": 2,
   "metadata": {},
   "outputs": [],
   "source": [
    "# use custom function to get the corpus df and labels \n",
    "corpus_df, emotion_df, valence_df = get_labeled_dfs()\n"
   ]
  },
  {
   "cell_type": "code",
   "execution_count": 3,
   "metadata": {},
   "outputs": [],
   "source": [
    "# use custom class method to process data\n",
    "processor = Process_Text_Data()\n",
    "processor.transform(corpus_df)\n"
   ]
  },
  {
   "cell_type": "code",
   "execution_count": 4,
   "metadata": {},
   "outputs": [
    {
     "data": {
      "text/html": [
       "<div>\n",
       "<style scoped>\n",
       "    .dataframe tbody tr th:only-of-type {\n",
       "        vertical-align: middle;\n",
       "    }\n",
       "\n",
       "    .dataframe tbody tr th {\n",
       "        vertical-align: top;\n",
       "    }\n",
       "\n",
       "    .dataframe thead th {\n",
       "        text-align: right;\n",
       "    }\n",
       "</style>\n",
       "<table border=\"1\" class=\"dataframe\">\n",
       "  <thead>\n",
       "    <tr style=\"text-align: right;\">\n",
       "      <th></th>\n",
       "      <th>text</th>\n",
       "    </tr>\n",
       "  </thead>\n",
       "  <tbody>\n",
       "    <tr>\n",
       "      <th>0</th>\n",
       "      <td>test predict breast cancer relapse approve</td>\n",
       "    </tr>\n",
       "    <tr>\n",
       "      <th>1</th>\n",
       "      <td>hussein ally hang iraqi official</td>\n",
       "    </tr>\n",
       "    <tr>\n",
       "      <th>2</th>\n",
       "      <td>sight sound ces</td>\n",
       "    </tr>\n",
       "    <tr>\n",
       "      <th>3</th>\n",
       "      <td>schuey see ferrari unveil new car</td>\n",
       "    </tr>\n",
       "    <tr>\n",
       "      <th>4</th>\n",
       "      <td>closing cancellation top advice flu outbreak</td>\n",
       "    </tr>\n",
       "  </tbody>\n",
       "</table>\n",
       "</div>"
      ],
      "text/plain": [
       "                                           text\n",
       "0    test predict breast cancer relapse approve\n",
       "1              hussein ally hang iraqi official\n",
       "2                               sight sound ces\n",
       "3             schuey see ferrari unveil new car\n",
       "4  closing cancellation top advice flu outbreak"
      ]
     },
     "execution_count": 4,
     "metadata": {},
     "output_type": "execute_result"
    }
   ],
   "source": [
    "# after processing, the text in the corpus df is all lower case, free of punctuation (except emotion-relevant exclamation points and question marks), \n",
    "# numbers, and special characters, and lemmatized\n",
    "corpus_df.head()\n"
   ]
  },
  {
   "cell_type": "code",
   "execution_count": 5,
   "metadata": {},
   "outputs": [
    {
     "data": {
      "text/html": [
       "<div>\n",
       "<style scoped>\n",
       "    .dataframe tbody tr th:only-of-type {\n",
       "        vertical-align: middle;\n",
       "    }\n",
       "\n",
       "    .dataframe tbody tr th {\n",
       "        vertical-align: top;\n",
       "    }\n",
       "\n",
       "    .dataframe thead th {\n",
       "        text-align: right;\n",
       "    }\n",
       "</style>\n",
       "<table border=\"1\" class=\"dataframe\">\n",
       "  <thead>\n",
       "    <tr style=\"text-align: right;\">\n",
       "      <th></th>\n",
       "      <th>anger</th>\n",
       "      <th>disgust</th>\n",
       "      <th>fear</th>\n",
       "      <th>joy</th>\n",
       "      <th>sadness</th>\n",
       "      <th>surprise</th>\n",
       "      <th>max</th>\n",
       "      <th>anger_label</th>\n",
       "      <th>disgust_label</th>\n",
       "      <th>fear_label</th>\n",
       "      <th>joy_label</th>\n",
       "      <th>sadness_label</th>\n",
       "      <th>surprise_label</th>\n",
       "    </tr>\n",
       "  </thead>\n",
       "  <tbody>\n",
       "    <tr>\n",
       "      <th>0</th>\n",
       "      <td>0</td>\n",
       "      <td>0</td>\n",
       "      <td>15</td>\n",
       "      <td>38</td>\n",
       "      <td>9</td>\n",
       "      <td>11</td>\n",
       "      <td>joy</td>\n",
       "      <td>0</td>\n",
       "      <td>0</td>\n",
       "      <td>1</td>\n",
       "      <td>1</td>\n",
       "      <td>1</td>\n",
       "      <td>1</td>\n",
       "    </tr>\n",
       "    <tr>\n",
       "      <th>1</th>\n",
       "      <td>24</td>\n",
       "      <td>26</td>\n",
       "      <td>16</td>\n",
       "      <td>13</td>\n",
       "      <td>38</td>\n",
       "      <td>5</td>\n",
       "      <td>sadness</td>\n",
       "      <td>1</td>\n",
       "      <td>1</td>\n",
       "      <td>1</td>\n",
       "      <td>1</td>\n",
       "      <td>1</td>\n",
       "      <td>1</td>\n",
       "    </tr>\n",
       "    <tr>\n",
       "      <th>2</th>\n",
       "      <td>0</td>\n",
       "      <td>0</td>\n",
       "      <td>0</td>\n",
       "      <td>17</td>\n",
       "      <td>0</td>\n",
       "      <td>4</td>\n",
       "      <td>joy</td>\n",
       "      <td>0</td>\n",
       "      <td>0</td>\n",
       "      <td>0</td>\n",
       "      <td>1</td>\n",
       "      <td>0</td>\n",
       "      <td>1</td>\n",
       "    </tr>\n",
       "    <tr>\n",
       "      <th>3</th>\n",
       "      <td>0</td>\n",
       "      <td>0</td>\n",
       "      <td>0</td>\n",
       "      <td>46</td>\n",
       "      <td>0</td>\n",
       "      <td>31</td>\n",
       "      <td>joy</td>\n",
       "      <td>0</td>\n",
       "      <td>0</td>\n",
       "      <td>0</td>\n",
       "      <td>1</td>\n",
       "      <td>0</td>\n",
       "      <td>1</td>\n",
       "    </tr>\n",
       "    <tr>\n",
       "      <th>4</th>\n",
       "      <td>1</td>\n",
       "      <td>0</td>\n",
       "      <td>23</td>\n",
       "      <td>8</td>\n",
       "      <td>11</td>\n",
       "      <td>8</td>\n",
       "      <td>fear</td>\n",
       "      <td>1</td>\n",
       "      <td>0</td>\n",
       "      <td>1</td>\n",
       "      <td>1</td>\n",
       "      <td>1</td>\n",
       "      <td>1</td>\n",
       "    </tr>\n",
       "  </tbody>\n",
       "</table>\n",
       "</div>"
      ],
      "text/plain": [
       "   anger  disgust  fear  joy  sadness  surprise      max  anger_label  \\\n",
       "0      0        0    15   38        9        11      joy            0   \n",
       "1     24       26    16   13       38         5  sadness            1   \n",
       "2      0        0     0   17        0         4      joy            0   \n",
       "3      0        0     0   46        0        31      joy            0   \n",
       "4      1        0    23    8       11         8     fear            1   \n",
       "\n",
       "   disgust_label  fear_label  joy_label  sadness_label  surprise_label  \n",
       "0              0           1          1              1               1  \n",
       "1              1           1          1              1               1  \n",
       "2              0           0          1              0               1  \n",
       "3              0           0          1              0               1  \n",
       "4              0           1          1              1               1  "
      ]
     },
     "execution_count": 5,
     "metadata": {},
     "output_type": "execute_result"
    }
   ],
   "source": [
    "# The emotion df contains ratings for each emotion, the max rating, and label columns \n",
    "# for each emotion with a 1 indicating that the emotion is present (it has a non-zero \n",
    "# rating) or a 0 indicating that it is not.  \n",
    "emotion_df.head()"
   ]
  },
  {
   "cell_type": "markdown",
   "metadata": {},
   "source": [
    "## Prepare Multilabel Classification Evaluation\n",
    "\n",
    "I've compiled my evaluation metrics in two functions. One is for evaluating how a model performed with respect to each individual emotion label. The other is a set of summary scores useful for comparing a model's overall performace with other models.\n",
    "\n",
    "### Evaluating preformance on individual emotion labels\n",
    "\n",
    "I use confusion matrices to display predicted labels vs. actual labels.\n",
    "\n",
    "To compare performace on individual labels, I use accuracy, precision, recall, and f1 scores.\n",
    "\n",
    "* Accuracy score tells us the ratio of correct predictions to total predictions \n",
    "\n",
    "* Precision score tells us the ratio of correct predictions to total predictions of the target class \n",
    "\n",
    "* Recall score tells us the ratio of correct predictions to the total true cases of the taget class\n",
    "\n",
    "* F1 is a weighted average of precision and recall\n",
    "\n"
   ]
  },
  {
   "cell_type": "code",
   "execution_count": 6,
   "metadata": {},
   "outputs": [],
   "source": [
    "def label_confusion_matrices(lst, df, RNN=False):\n",
    "    \n",
    "    '''A function that creates confusion matrices and calculates accuracy, precision, \n",
    "    recall, and f1 for each individual label'''\n",
    "    \n",
    "    plt.figure(figsize=(10,15))\n",
    "    subplot_num = 1\n",
    "\n",
    "    for i in lst:\n",
    "        \n",
    "        if RNN==False:\n",
    "        \n",
    "            tp = len(df.loc[(df['pred_' + i]==1) & (df[i]==1)])\n",
    "            fp = len(df.loc[(df['pred_' + i]==1) & (df[i]==0)])\n",
    "            fn = len(df.loc[(df['pred_' + i]==0) & (df[i]==1)])\n",
    "            tn = len(df.loc[(df['pred_' + i]==0) & (df[i]==0)])\n",
    "        \n",
    "        else:\n",
    "            \n",
    "            tp = len(df.loc[(df['pred_' + i]>=0.5) & (df[i]==1)])\n",
    "            fp = len(df.loc[(df['pred_' + i]>=0.5) & (df[i]==0)])\n",
    "            fn = len(df.loc[(df['pred_' + i]<0.5) & (df[i]==1)])\n",
    "            tn = len(df.loc[(df['pred_' + i]<0.5) & (df[i]==0)])\n",
    "        \n",
    "        \n",
    "        plt.subplot(3,2,subplot_num)\n",
    "        sns.heatmap([[tp, fp], [tn, fn]], square=True, annot=True, fmt='g', yticklabels=[i, 'not ' + i], xticklabels=[i, 'not ' + i])\n",
    "        plt.xlabel('Actual')\n",
    "        plt.ylabel('Predicted')\n",
    "        plt.title(i.capitalize() + ' Confusion Matrix')\n",
    "        subplot_num+=1\n",
    "        \n",
    "        accuracy = tp/(fp + tn + tp)\n",
    "        precision = tp/(fp + tp)\n",
    "        recall = tp/(tp + fn)\n",
    "        f1 = 2 * (((tp/(fp + tp)) * (tp/(tp + fn))) / ((tp/(fp + tp)) + (tp/(tp + fn))))\n",
    "        \n",
    "        print(i + \" accuracy:\", accuracy)\n",
    "        print(i + \" precision:\", precision)\n",
    "        print(i + \" recall\", recall)\n",
    "        print(i + \" f1\", 2 * (((tp/(fp + tp)) * (tp/(tp + fn))) / ((tp/(fp + tp)) + (tp/(tp + fn)))))\n",
    "        print('\\n')\n",
    "\n",
    "        "
   ]
  },
  {
   "cell_type": "markdown",
   "metadata": {},
   "source": [
    "To evaluate a model's performance on all labels, I compare jaccard similarity, hamming loss, and f1 macro scores.\n",
    "\n",
    "* Jaccard Similarity is the ratio of correct labels to total predictions.\n",
    "\n",
    "* Hamming Loss is the ratio of incorrect labels to total predictions. \n",
    "\n",
    "* F1 Macro is an mean of f1 scores (see above) for all labels.\n",
    "\n",
    "Note that Jaccard Similarity and Hamming loss both count the correct or incorrect labels for each individual label and add them together. I use these metrics rather than ones requiring a perfect match across all labels because I'm interesting in knowing whether a model can predict subsets of the correct labels at a higher rate than others. In order to do so, I need metrics that do not treat a prediction that gets five out of six labels correct the same as one that gets zero out of six correct.\n"
   ]
  },
  {
   "cell_type": "code",
   "execution_count": 7,
   "metadata": {},
   "outputs": [],
   "source": [
    "def suite_of_scores(y_true, y_pred):\n",
    "    \n",
    "    '''A function that calculates jaccard similarity, hamming loss, f1 macro, \n",
    "    and log loss to assess the model's overall performance'''\n",
    "    \n",
    "    jaccard_score_samples = jaccard_score(y_true, y_pred, average='samples')\n",
    "    hamming_loss_score = hamming_loss(y_true, y_pred)\n",
    "    f1_macro_score = f1_score(y_true, y_pred, average='macro')\n",
    "    \n",
    "    print('jaccard score average:', round(jaccard_score_samples, 3))\n",
    "    print('hamming loss:', round(hamming_loss_score, 3))\n",
    "    print('f1 macro:', round(f1_macro_score, 3))\n",
    "    "
   ]
  },
  {
   "cell_type": "markdown",
   "metadata": {},
   "source": [
    "## TF-IDF\n",
    "\n",
    "The data needs to be transformed into a numeric format before it can be used to train a model. \n",
    "\n",
    "One option is to use a [count vectorizer](https://scikit-learn.org/stable/modules/generated/sklearn.feature_extraction.text.CountVectorizer.html). By this method, each document is represented by a count for each word that is present. \n",
    "\n",
    "As an example, I'll use the opening lines of Dickens's *Tale of Two Cities*: \"It was the best of times, it was the worst of times\" and \"It was the age of wisdom, it was the age of foolishness.\"\n",
    "\n",
    "Each row is a document and each column is a word in the corpus.\n",
    "\n",
    "| it | was | the | best | of | times | worst | age | wisdom | foolishness |  \n",
    "|----|-----|-----|------|----|-------|-------|-----|--------|-------------|\n",
    "|2   |2    |2    |1     |2   |2      |1      |0    |0       |0            |\n",
    "|2   |2    |2    |0     |2   |0      |1      |2    |1       |1            |\n",
    "\n",
    "Another option is to use term frequency - inverse document frequency (TF-IDF). TF-IDF is a representation of how import a word is in distinguishing a document from other documents in the corpus. The higher the score, the more distinguishing the word.\n",
    "\n",
    "It's calculated by multiplying term frequency by inverse document frequency.\n",
    "\n",
    "* Term Frequency\n",
    "(times the word appears in the document/number of words in the document)\n",
    "\n",
    "* Inverse Document Frequency\n",
    "log(number of documents in the corpus/number documents in the corpus in which the word appears)\n",
    "\n",
    "Here's how it looks on the whole document example:\n",
    "\n",
    "| it | was | the | best | of | times | worst | age | wisdom | foolishness |  \n",
    "|----|-----|-----|------|----|-------|-------|-----|--------|-------------|\n",
    "|0   |0    |0    |.06   |0   |.12    |.06    |0    |0       |0            |\n",
    "|0   |0    |0    |0     |0   |0      |0      |.12  |.06     |.06          |\n",
    "\n",
    "Using TF-IDF keeps models from treating words that aren't distinguishing to a document as significant in determining whether other documents should have the same label.\n"
   ]
  },
  {
   "cell_type": "code",
   "execution_count": 55,
   "metadata": {
    "scrolled": false
   },
   "outputs": [],
   "source": [
    "# first split the data into separate training and testing sets\n",
    "X_train, y_train, X_test, y_test = iterative_train_test_split(corpus_df.values, emotion_df[['anger_label', 'disgust_label', 'fear_label', 'joy_label', 'sadness_label', 'surprise_label']].values, test_size=.25)\n",
    "\n",
    "# use TfidVectorizer to get a sparse matrix of TF-IDF scores for each word in the corpus\n",
    "vectorizer = TfidfVectorizer()\n",
    "tf_idf_X_train = vectorizer.fit_transform(pd.DataFrame({'text':X_train[:,0]})['text'])\n",
    "tf_idf_X_test = vectorizer.transform(pd.DataFrame({'text': X_test[:,0]})['text'])\n"
   ]
  },
  {
   "cell_type": "markdown",
   "metadata": {},
   "source": [
    "## One Versus Rest Model\n",
    "\n",
    "An important consideration in choosing a multilabel prediction model is whether the labels are independent or correlated. There is some moderate correlation between the labels in my dataset.\n",
    "\n",
    "*Insert pic*\n",
    "\n",
    "For comparison, I tested methods that treats labels as independent and methods that allows for label correlations. In this notebook, I include:\n",
    "\n",
    "* One Versus Rest Classifier\n",
    "\n",
    "A One Versus Rest classifier trains a separate model for each label in the dataset. Each model's predictions are independent of the other models' predictions.\n",
    "\n",
    "For this model, I used a logistic regression classifier.\n",
    "\n",
    "* Correlated: Chain Classifier\n",
    "\n",
    "A Chain Classifier trains a model for each label in the dataset, but each model's predictions are transferred to the next model, so the probabistic relationships between labels are taken into account.\n",
    "\n",
    "For this model, I used a linear support vector classifier.\n",
    "\n",
    "Chain Classifiers are sensitive to label order, so I tested all 750 possible label orders to find the best one. If my dataset were significantly larger or if I had significantly more label combinations to tested, it would have been too computationally expensive, and thus more practical to do a random selection of label orders to test. \n",
    "\n",
    "The Chain Classifier model did have a slight advantage over the One Versus Rest model. \n"
   ]
  },
  {
   "cell_type": "code",
   "execution_count": 57,
   "metadata": {},
   "outputs": [],
   "source": [
    "lr = LogisticRegression(C=1e10, class_weight='balanced')\n",
    "\n",
    "ovr = OneVsRestClassifier(lr)\n",
    "\n",
    "ovr.fit(tf_idf_X_train, y_train)\n",
    "ovr_train_preds = ovr.predict(tf_idf_X_train)\n",
    "ovr_test_preds = ovr.predict(tf_idf_X_test)"
   ]
  },
  {
   "cell_type": "code",
   "execution_count": 62,
   "metadata": {},
   "outputs": [
    {
     "ename": "TypeError",
     "evalue": "cannot concatenate object of type \"<class 'numpy.ndarray'>\"; only pd.Series, pd.DataFrame, and pd.Panel (deprecated) objs are valid",
     "output_type": "error",
     "traceback": [
      "\u001b[0;31m---------------------------------------------------------------------------\u001b[0m",
      "\u001b[0;31mTypeError\u001b[0m                                 Traceback (most recent call last)",
      "\u001b[0;32m<ipython-input-62-0383329e0efd>\u001b[0m in \u001b[0;36m<module>\u001b[0;34m\u001b[0m\n\u001b[1;32m      1\u001b[0m \u001b[0movr_preds_df\u001b[0m \u001b[0;34m=\u001b[0m \u001b[0mpd\u001b[0m\u001b[0;34m.\u001b[0m\u001b[0mDataFrame\u001b[0m\u001b[0;34m(\u001b[0m\u001b[0movr_test_preds\u001b[0m\u001b[0;34m,\u001b[0m \u001b[0mcolumns\u001b[0m\u001b[0;34m=\u001b[0m\u001b[0;34m[\u001b[0m\u001b[0;34m'pred_anger_label'\u001b[0m\u001b[0;34m,\u001b[0m \u001b[0;34m'pred_disgust_label'\u001b[0m\u001b[0;34m,\u001b[0m \u001b[0;34m'pred_fear_label'\u001b[0m\u001b[0;34m,\u001b[0m \u001b[0;34m'pred_joy_label'\u001b[0m\u001b[0;34m,\u001b[0m \u001b[0;34m'pred_sadness_label'\u001b[0m\u001b[0;34m,\u001b[0m \u001b[0;34m'pred_surprise_label'\u001b[0m\u001b[0;34m]\u001b[0m\u001b[0;34m)\u001b[0m\u001b[0;34m\u001b[0m\u001b[0;34m\u001b[0m\u001b[0m\n\u001b[1;32m      2\u001b[0m \u001b[0;31m# y_reindex = y_test.reset_index(drop=True)\u001b[0m\u001b[0;34m\u001b[0m\u001b[0;34m\u001b[0m\u001b[0;34m\u001b[0m\u001b[0m\n\u001b[0;32m----> 3\u001b[0;31m \u001b[0movr_preds_df\u001b[0m \u001b[0;34m=\u001b[0m \u001b[0mpd\u001b[0m\u001b[0;34m.\u001b[0m\u001b[0mconcat\u001b[0m\u001b[0;34m(\u001b[0m\u001b[0;34m[\u001b[0m\u001b[0movr_preds_df\u001b[0m\u001b[0;34m,\u001b[0m \u001b[0my_test\u001b[0m\u001b[0;34m[\u001b[0m\u001b[0;34m:\u001b[0m\u001b[0;34m,\u001b[0m\u001b[0;36m0\u001b[0m\u001b[0;34m]\u001b[0m\u001b[0;34m]\u001b[0m\u001b[0;34m,\u001b[0m \u001b[0maxis\u001b[0m\u001b[0;34m=\u001b[0m\u001b[0;36m1\u001b[0m\u001b[0;34m)\u001b[0m\u001b[0;34m\u001b[0m\u001b[0;34m\u001b[0m\u001b[0m\n\u001b[0m",
      "\u001b[0;32m/anaconda3/lib/python3.7/site-packages/pandas/core/reshape/concat.py\u001b[0m in \u001b[0;36mconcat\u001b[0;34m(objs, axis, join, join_axes, ignore_index, keys, levels, names, verify_integrity, sort, copy)\u001b[0m\n\u001b[1;32m    226\u001b[0m                        \u001b[0mkeys\u001b[0m\u001b[0;34m=\u001b[0m\u001b[0mkeys\u001b[0m\u001b[0;34m,\u001b[0m \u001b[0mlevels\u001b[0m\u001b[0;34m=\u001b[0m\u001b[0mlevels\u001b[0m\u001b[0;34m,\u001b[0m \u001b[0mnames\u001b[0m\u001b[0;34m=\u001b[0m\u001b[0mnames\u001b[0m\u001b[0;34m,\u001b[0m\u001b[0;34m\u001b[0m\u001b[0;34m\u001b[0m\u001b[0m\n\u001b[1;32m    227\u001b[0m                        \u001b[0mverify_integrity\u001b[0m\u001b[0;34m=\u001b[0m\u001b[0mverify_integrity\u001b[0m\u001b[0;34m,\u001b[0m\u001b[0;34m\u001b[0m\u001b[0;34m\u001b[0m\u001b[0m\n\u001b[0;32m--> 228\u001b[0;31m                        copy=copy, sort=sort)\n\u001b[0m\u001b[1;32m    229\u001b[0m     \u001b[0;32mreturn\u001b[0m \u001b[0mop\u001b[0m\u001b[0;34m.\u001b[0m\u001b[0mget_result\u001b[0m\u001b[0;34m(\u001b[0m\u001b[0;34m)\u001b[0m\u001b[0;34m\u001b[0m\u001b[0;34m\u001b[0m\u001b[0m\n\u001b[1;32m    230\u001b[0m \u001b[0;34m\u001b[0m\u001b[0m\n",
      "\u001b[0;32m/anaconda3/lib/python3.7/site-packages/pandas/core/reshape/concat.py\u001b[0m in \u001b[0;36m__init__\u001b[0;34m(self, objs, axis, join, join_axes, keys, levels, names, ignore_index, verify_integrity, copy, sort)\u001b[0m\n\u001b[1;32m    287\u001b[0m                        \u001b[0;34m' only pd.Series, pd.DataFrame, and pd.Panel'\u001b[0m\u001b[0;34m\u001b[0m\u001b[0;34m\u001b[0m\u001b[0m\n\u001b[1;32m    288\u001b[0m                        ' (deprecated) objs are valid'.format(type(obj)))\n\u001b[0;32m--> 289\u001b[0;31m                 \u001b[0;32mraise\u001b[0m \u001b[0mTypeError\u001b[0m\u001b[0;34m(\u001b[0m\u001b[0mmsg\u001b[0m\u001b[0;34m)\u001b[0m\u001b[0;34m\u001b[0m\u001b[0;34m\u001b[0m\u001b[0m\n\u001b[0m\u001b[1;32m    290\u001b[0m \u001b[0;34m\u001b[0m\u001b[0m\n\u001b[1;32m    291\u001b[0m             \u001b[0;31m# consolidate\u001b[0m\u001b[0;34m\u001b[0m\u001b[0;34m\u001b[0m\u001b[0;34m\u001b[0m\u001b[0m\n",
      "\u001b[0;31mTypeError\u001b[0m: cannot concatenate object of type \"<class 'numpy.ndarray'>\"; only pd.Series, pd.DataFrame, and pd.Panel (deprecated) objs are valid"
     ]
    }
   ],
   "source": [
    "ovr_preds_df = pd.DataFrame(ovr_test_preds, columns=['pred_anger_label', 'pred_disgust_label', 'pred_fear_label', 'pred_joy_label', 'pred_sadness_label', 'pred_surprise_label'])\n",
    "# y_reindex = y_test.reset_index(drop=True)\n",
    "ovr_preds_df = pd.concat([ovr_preds_df, y_test[:,0]], axis=1)"
   ]
  },
  {
   "cell_type": "code",
   "execution_count": 59,
   "metadata": {},
   "outputs": [
    {
     "ename": "KeyError",
     "evalue": "'anger_label'",
     "output_type": "error",
     "traceback": [
      "\u001b[0;31m---------------------------------------------------------------------------\u001b[0m",
      "\u001b[0;31mKeyError\u001b[0m                                  Traceback (most recent call last)",
      "\u001b[0;32m/anaconda3/lib/python3.7/site-packages/pandas/core/indexes/base.py\u001b[0m in \u001b[0;36mget_loc\u001b[0;34m(self, key, method, tolerance)\u001b[0m\n\u001b[1;32m   2656\u001b[0m             \u001b[0;32mtry\u001b[0m\u001b[0;34m:\u001b[0m\u001b[0;34m\u001b[0m\u001b[0;34m\u001b[0m\u001b[0m\n\u001b[0;32m-> 2657\u001b[0;31m                 \u001b[0;32mreturn\u001b[0m \u001b[0mself\u001b[0m\u001b[0;34m.\u001b[0m\u001b[0m_engine\u001b[0m\u001b[0;34m.\u001b[0m\u001b[0mget_loc\u001b[0m\u001b[0;34m(\u001b[0m\u001b[0mkey\u001b[0m\u001b[0;34m)\u001b[0m\u001b[0;34m\u001b[0m\u001b[0;34m\u001b[0m\u001b[0m\n\u001b[0m\u001b[1;32m   2658\u001b[0m             \u001b[0;32mexcept\u001b[0m \u001b[0mKeyError\u001b[0m\u001b[0;34m:\u001b[0m\u001b[0;34m\u001b[0m\u001b[0;34m\u001b[0m\u001b[0m\n",
      "\u001b[0;32mpandas/_libs/index.pyx\u001b[0m in \u001b[0;36mpandas._libs.index.IndexEngine.get_loc\u001b[0;34m()\u001b[0m\n",
      "\u001b[0;32mpandas/_libs/index.pyx\u001b[0m in \u001b[0;36mpandas._libs.index.IndexEngine.get_loc\u001b[0;34m()\u001b[0m\n",
      "\u001b[0;32mpandas/_libs/hashtable_class_helper.pxi\u001b[0m in \u001b[0;36mpandas._libs.hashtable.PyObjectHashTable.get_item\u001b[0;34m()\u001b[0m\n",
      "\u001b[0;32mpandas/_libs/hashtable_class_helper.pxi\u001b[0m in \u001b[0;36mpandas._libs.hashtable.PyObjectHashTable.get_item\u001b[0;34m()\u001b[0m\n",
      "\u001b[0;31mKeyError\u001b[0m: 'anger_label'",
      "\nDuring handling of the above exception, another exception occurred:\n",
      "\u001b[0;31mKeyError\u001b[0m                                  Traceback (most recent call last)",
      "\u001b[0;32m<ipython-input-59-dff3964d9a16>\u001b[0m in \u001b[0;36m<module>\u001b[0;34m\u001b[0m\n\u001b[0;32m----> 1\u001b[0;31m \u001b[0mlabel_confusion_matrices\u001b[0m\u001b[0;34m(\u001b[0m\u001b[0;34m[\u001b[0m\u001b[0;34m'anger_label'\u001b[0m\u001b[0;34m,\u001b[0m \u001b[0;34m'disgust_label'\u001b[0m\u001b[0;34m,\u001b[0m \u001b[0;34m'fear_label'\u001b[0m\u001b[0;34m,\u001b[0m \u001b[0;34m'joy_label'\u001b[0m\u001b[0;34m,\u001b[0m \u001b[0;34m'sadness_label'\u001b[0m\u001b[0;34m,\u001b[0m \u001b[0;34m'surprise_label'\u001b[0m\u001b[0;34m]\u001b[0m\u001b[0;34m,\u001b[0m \u001b[0movr_preds_df\u001b[0m\u001b[0;34m)\u001b[0m\u001b[0;34m\u001b[0m\u001b[0;34m\u001b[0m\u001b[0m\n\u001b[0m",
      "\u001b[0;32m<ipython-input-6-cdc4f55925e7>\u001b[0m in \u001b[0;36mlabel_confusion_matrices\u001b[0;34m(lst, df, RNN)\u001b[0m\n\u001b[1;32m     11\u001b[0m         \u001b[0;32mif\u001b[0m \u001b[0mRNN\u001b[0m\u001b[0;34m==\u001b[0m\u001b[0;32mFalse\u001b[0m\u001b[0;34m:\u001b[0m\u001b[0;34m\u001b[0m\u001b[0;34m\u001b[0m\u001b[0m\n\u001b[1;32m     12\u001b[0m \u001b[0;34m\u001b[0m\u001b[0m\n\u001b[0;32m---> 13\u001b[0;31m             \u001b[0mtp\u001b[0m \u001b[0;34m=\u001b[0m \u001b[0mlen\u001b[0m\u001b[0;34m(\u001b[0m\u001b[0mdf\u001b[0m\u001b[0;34m.\u001b[0m\u001b[0mloc\u001b[0m\u001b[0;34m[\u001b[0m\u001b[0;34m(\u001b[0m\u001b[0mdf\u001b[0m\u001b[0;34m[\u001b[0m\u001b[0;34m'pred_'\u001b[0m \u001b[0;34m+\u001b[0m \u001b[0mi\u001b[0m\u001b[0;34m]\u001b[0m\u001b[0;34m==\u001b[0m\u001b[0;36m1\u001b[0m\u001b[0;34m)\u001b[0m \u001b[0;34m&\u001b[0m \u001b[0;34m(\u001b[0m\u001b[0mdf\u001b[0m\u001b[0;34m[\u001b[0m\u001b[0mi\u001b[0m\u001b[0;34m]\u001b[0m\u001b[0;34m==\u001b[0m\u001b[0;36m1\u001b[0m\u001b[0;34m)\u001b[0m\u001b[0;34m]\u001b[0m\u001b[0;34m)\u001b[0m\u001b[0;34m\u001b[0m\u001b[0;34m\u001b[0m\u001b[0m\n\u001b[0m\u001b[1;32m     14\u001b[0m             \u001b[0mfp\u001b[0m \u001b[0;34m=\u001b[0m \u001b[0mlen\u001b[0m\u001b[0;34m(\u001b[0m\u001b[0mdf\u001b[0m\u001b[0;34m.\u001b[0m\u001b[0mloc\u001b[0m\u001b[0;34m[\u001b[0m\u001b[0;34m(\u001b[0m\u001b[0mdf\u001b[0m\u001b[0;34m[\u001b[0m\u001b[0;34m'pred_'\u001b[0m \u001b[0;34m+\u001b[0m \u001b[0mi\u001b[0m\u001b[0;34m]\u001b[0m\u001b[0;34m==\u001b[0m\u001b[0;36m1\u001b[0m\u001b[0;34m)\u001b[0m \u001b[0;34m&\u001b[0m \u001b[0;34m(\u001b[0m\u001b[0mdf\u001b[0m\u001b[0;34m[\u001b[0m\u001b[0mi\u001b[0m\u001b[0;34m]\u001b[0m\u001b[0;34m==\u001b[0m\u001b[0;36m0\u001b[0m\u001b[0;34m)\u001b[0m\u001b[0;34m]\u001b[0m\u001b[0;34m)\u001b[0m\u001b[0;34m\u001b[0m\u001b[0;34m\u001b[0m\u001b[0m\n\u001b[1;32m     15\u001b[0m             \u001b[0mfn\u001b[0m \u001b[0;34m=\u001b[0m \u001b[0mlen\u001b[0m\u001b[0;34m(\u001b[0m\u001b[0mdf\u001b[0m\u001b[0;34m.\u001b[0m\u001b[0mloc\u001b[0m\u001b[0;34m[\u001b[0m\u001b[0;34m(\u001b[0m\u001b[0mdf\u001b[0m\u001b[0;34m[\u001b[0m\u001b[0;34m'pred_'\u001b[0m \u001b[0;34m+\u001b[0m \u001b[0mi\u001b[0m\u001b[0;34m]\u001b[0m\u001b[0;34m==\u001b[0m\u001b[0;36m0\u001b[0m\u001b[0;34m)\u001b[0m \u001b[0;34m&\u001b[0m \u001b[0;34m(\u001b[0m\u001b[0mdf\u001b[0m\u001b[0;34m[\u001b[0m\u001b[0mi\u001b[0m\u001b[0;34m]\u001b[0m\u001b[0;34m==\u001b[0m\u001b[0;36m1\u001b[0m\u001b[0;34m)\u001b[0m\u001b[0;34m]\u001b[0m\u001b[0;34m)\u001b[0m\u001b[0;34m\u001b[0m\u001b[0;34m\u001b[0m\u001b[0m\n",
      "\u001b[0;32m/anaconda3/lib/python3.7/site-packages/pandas/core/frame.py\u001b[0m in \u001b[0;36m__getitem__\u001b[0;34m(self, key)\u001b[0m\n\u001b[1;32m   2925\u001b[0m             \u001b[0;32mif\u001b[0m \u001b[0mself\u001b[0m\u001b[0;34m.\u001b[0m\u001b[0mcolumns\u001b[0m\u001b[0;34m.\u001b[0m\u001b[0mnlevels\u001b[0m \u001b[0;34m>\u001b[0m \u001b[0;36m1\u001b[0m\u001b[0;34m:\u001b[0m\u001b[0;34m\u001b[0m\u001b[0;34m\u001b[0m\u001b[0m\n\u001b[1;32m   2926\u001b[0m                 \u001b[0;32mreturn\u001b[0m \u001b[0mself\u001b[0m\u001b[0;34m.\u001b[0m\u001b[0m_getitem_multilevel\u001b[0m\u001b[0;34m(\u001b[0m\u001b[0mkey\u001b[0m\u001b[0;34m)\u001b[0m\u001b[0;34m\u001b[0m\u001b[0;34m\u001b[0m\u001b[0m\n\u001b[0;32m-> 2927\u001b[0;31m             \u001b[0mindexer\u001b[0m \u001b[0;34m=\u001b[0m \u001b[0mself\u001b[0m\u001b[0;34m.\u001b[0m\u001b[0mcolumns\u001b[0m\u001b[0;34m.\u001b[0m\u001b[0mget_loc\u001b[0m\u001b[0;34m(\u001b[0m\u001b[0mkey\u001b[0m\u001b[0;34m)\u001b[0m\u001b[0;34m\u001b[0m\u001b[0;34m\u001b[0m\u001b[0m\n\u001b[0m\u001b[1;32m   2928\u001b[0m             \u001b[0;32mif\u001b[0m \u001b[0mis_integer\u001b[0m\u001b[0;34m(\u001b[0m\u001b[0mindexer\u001b[0m\u001b[0;34m)\u001b[0m\u001b[0;34m:\u001b[0m\u001b[0;34m\u001b[0m\u001b[0;34m\u001b[0m\u001b[0m\n\u001b[1;32m   2929\u001b[0m                 \u001b[0mindexer\u001b[0m \u001b[0;34m=\u001b[0m \u001b[0;34m[\u001b[0m\u001b[0mindexer\u001b[0m\u001b[0;34m]\u001b[0m\u001b[0;34m\u001b[0m\u001b[0;34m\u001b[0m\u001b[0m\n",
      "\u001b[0;32m/anaconda3/lib/python3.7/site-packages/pandas/core/indexes/base.py\u001b[0m in \u001b[0;36mget_loc\u001b[0;34m(self, key, method, tolerance)\u001b[0m\n\u001b[1;32m   2657\u001b[0m                 \u001b[0;32mreturn\u001b[0m \u001b[0mself\u001b[0m\u001b[0;34m.\u001b[0m\u001b[0m_engine\u001b[0m\u001b[0;34m.\u001b[0m\u001b[0mget_loc\u001b[0m\u001b[0;34m(\u001b[0m\u001b[0mkey\u001b[0m\u001b[0;34m)\u001b[0m\u001b[0;34m\u001b[0m\u001b[0;34m\u001b[0m\u001b[0m\n\u001b[1;32m   2658\u001b[0m             \u001b[0;32mexcept\u001b[0m \u001b[0mKeyError\u001b[0m\u001b[0;34m:\u001b[0m\u001b[0;34m\u001b[0m\u001b[0;34m\u001b[0m\u001b[0m\n\u001b[0;32m-> 2659\u001b[0;31m                 \u001b[0;32mreturn\u001b[0m \u001b[0mself\u001b[0m\u001b[0;34m.\u001b[0m\u001b[0m_engine\u001b[0m\u001b[0;34m.\u001b[0m\u001b[0mget_loc\u001b[0m\u001b[0;34m(\u001b[0m\u001b[0mself\u001b[0m\u001b[0;34m.\u001b[0m\u001b[0m_maybe_cast_indexer\u001b[0m\u001b[0;34m(\u001b[0m\u001b[0mkey\u001b[0m\u001b[0;34m)\u001b[0m\u001b[0;34m)\u001b[0m\u001b[0;34m\u001b[0m\u001b[0;34m\u001b[0m\u001b[0m\n\u001b[0m\u001b[1;32m   2660\u001b[0m         \u001b[0mindexer\u001b[0m \u001b[0;34m=\u001b[0m \u001b[0mself\u001b[0m\u001b[0;34m.\u001b[0m\u001b[0mget_indexer\u001b[0m\u001b[0;34m(\u001b[0m\u001b[0;34m[\u001b[0m\u001b[0mkey\u001b[0m\u001b[0;34m]\u001b[0m\u001b[0;34m,\u001b[0m \u001b[0mmethod\u001b[0m\u001b[0;34m=\u001b[0m\u001b[0mmethod\u001b[0m\u001b[0;34m,\u001b[0m \u001b[0mtolerance\u001b[0m\u001b[0;34m=\u001b[0m\u001b[0mtolerance\u001b[0m\u001b[0;34m)\u001b[0m\u001b[0;34m\u001b[0m\u001b[0;34m\u001b[0m\u001b[0m\n\u001b[1;32m   2661\u001b[0m         \u001b[0;32mif\u001b[0m \u001b[0mindexer\u001b[0m\u001b[0;34m.\u001b[0m\u001b[0mndim\u001b[0m \u001b[0;34m>\u001b[0m \u001b[0;36m1\u001b[0m \u001b[0;32mor\u001b[0m \u001b[0mindexer\u001b[0m\u001b[0;34m.\u001b[0m\u001b[0msize\u001b[0m \u001b[0;34m>\u001b[0m \u001b[0;36m1\u001b[0m\u001b[0;34m:\u001b[0m\u001b[0;34m\u001b[0m\u001b[0;34m\u001b[0m\u001b[0m\n",
      "\u001b[0;32mpandas/_libs/index.pyx\u001b[0m in \u001b[0;36mpandas._libs.index.IndexEngine.get_loc\u001b[0;34m()\u001b[0m\n",
      "\u001b[0;32mpandas/_libs/index.pyx\u001b[0m in \u001b[0;36mpandas._libs.index.IndexEngine.get_loc\u001b[0;34m()\u001b[0m\n",
      "\u001b[0;32mpandas/_libs/hashtable_class_helper.pxi\u001b[0m in \u001b[0;36mpandas._libs.hashtable.PyObjectHashTable.get_item\u001b[0;34m()\u001b[0m\n",
      "\u001b[0;32mpandas/_libs/hashtable_class_helper.pxi\u001b[0m in \u001b[0;36mpandas._libs.hashtable.PyObjectHashTable.get_item\u001b[0;34m()\u001b[0m\n",
      "\u001b[0;31mKeyError\u001b[0m: 'anger_label'"
     ]
    },
    {
     "data": {
      "text/plain": [
       "<Figure size 720x1080 with 0 Axes>"
      ]
     },
     "metadata": {},
     "output_type": "display_data"
    }
   ],
   "source": [
    "label_confusion_matrices(['anger_label', 'disgust_label', 'fear_label', 'joy_label', 'sadness_label', 'surprise_label'], ovr_preds_df)\n"
   ]
  },
  {
   "cell_type": "code",
   "execution_count": 12,
   "metadata": {},
   "outputs": [
    {
     "name": "stdout",
     "output_type": "stream",
     "text": [
      "jaccard score average: 0.685\n",
      "hamming loss: 0.25\n",
      "f1 macro: 0.791\n"
     ]
    }
   ],
   "source": [
    "suite_of_scores(y_test, ovr_test_preds)\n"
   ]
  },
  {
   "cell_type": "markdown",
   "metadata": {},
   "source": [
    "## Classifier Chain"
   ]
  },
  {
   "cell_type": "code",
   "execution_count": 13,
   "metadata": {},
   "outputs": [],
   "source": [
    "svc = LinearSVC(class_weight='balanced')\n",
    "\n",
    "perms = list(itertools.permutations([0,1,2,3,4,5]))\n",
    "\n",
    "chains = [ClassifierChain(svc, order=perms[i]) for i in range(720)]\n",
    "\n",
    "results_jaccard = []\n",
    "preds = []\n",
    "for chain in chains:\n",
    "    chain.fit(tf_idf_X_train, y_train)\n",
    "    test_preds = chain.predict(tf_idf_X_test)\n",
    "    preds.append(test_preds)\n",
    "    results_jaccard.append(jaccard_score(y_test, test_preds, average='samples'))\n"
   ]
  },
  {
   "cell_type": "code",
   "execution_count": 14,
   "metadata": {},
   "outputs": [
    {
     "data": {
      "text/plain": [
       "0.703248136315229"
      ]
     },
     "execution_count": 14,
     "metadata": {},
     "output_type": "execute_result"
    }
   ],
   "source": [
    "cc_test_preds = preds[results_jaccard.index(max(results_jaccard))]\n",
    "max(results_jaccard)"
   ]
  },
  {
   "cell_type": "code",
   "execution_count": 15,
   "metadata": {},
   "outputs": [],
   "source": [
    "cc_preds_df = pd.DataFrame(cc_test_preds.toarray(), columns=['pred_anger_label', 'pred_disgust_label', 'pred_fear_label', 'pred_joy_label', 'pred_sadness_label', 'pred_surprise_label'])\n",
    "# y_reindex = y_test.reset_index(drop=True)\n",
    "cc_preds_df = pd.concat([cc_preds_df, y_reindex], axis=1)"
   ]
  },
  {
   "cell_type": "code",
   "execution_count": 16,
   "metadata": {},
   "outputs": [
    {
     "name": "stdout",
     "output_type": "stream",
     "text": [
      "anger_label accuracy: 0.5\n",
      "anger_label precision: 0.8273809523809523\n",
      "anger_label recall 0.7988505747126436\n",
      "anger_label f1 0.8128654970760233\n",
      "\n",
      "\n",
      "disgust_label accuracy: 0.3619402985074627\n",
      "disgust_label precision: 0.6879432624113475\n",
      "disgust_label recall 0.6830985915492958\n",
      "disgust_label f1 0.6855123674911661\n",
      "\n",
      "\n",
      "fear_label accuracy: 0.6254681647940075\n",
      "fear_label precision: 0.8608247422680413\n",
      "fear_label recall 0.784037558685446\n",
      "fear_label f1 0.8206388206388207\n",
      "\n",
      "\n",
      "joy_label accuracy: 0.5402298850574713\n",
      "joy_label precision: 0.7580645161290323\n",
      "joy_label recall 0.7305699481865285\n",
      "joy_label f1 0.7440633245382585\n",
      "\n",
      "\n",
      "sadness_label accuracy: 0.6590909090909091\n",
      "sadness_label precision: 0.87\n",
      "sadness_label recall 0.7802690582959642\n",
      "sadness_label f1 0.8226950354609929\n",
      "\n",
      "\n",
      "surprise_label accuracy: 0.8885017421602788\n",
      "surprise_label precision: 0.9172661870503597\n",
      "surprise_label recall 0.9074733096085409\n",
      "surprise_label f1 0.9123434704830053\n",
      "\n",
      "\n"
     ]
    },
    {
     "data": {
      "image/png": "[encoded data removed]",
      "text/plain": [
       "<Figure size 720x1080 with 12 Axes>"
      ]
     },
     "metadata": {
      "needs_background": "light"
     },
     "output_type": "display_data"
    }
   ],
   "source": [
    "label_confusion_matrices(['anger_label', 'disgust_label', 'fear_label', 'joy_label', 'sadness_label', 'surprise_label'], cc_preds_df)\n",
    "\n"
   ]
  },
  {
   "cell_type": "code",
   "execution_count": 17,
   "metadata": {},
   "outputs": [
    {
     "name": "stdout",
     "output_type": "stream",
     "text": [
      "jaccard score average: 0.703\n",
      "hamming loss: 0.238\n",
      "f1 macro: 0.8\n"
     ]
    }
   ],
   "source": [
    "suite_of_scores(y_test, cc_test_preds.toarray())\n"
   ]
  },
  {
   "cell_type": "code",
   "execution_count": 18,
   "metadata": {},
   "outputs": [
    {
     "data": {
      "text/plain": [
       "array([[0., 0., 1., 1., 0., 1.],\n",
       "       [0., 0., 1., 1., 1., 1.],\n",
       "       [1., 1., 1., 0., 1., 1.],\n",
       "       [1., 0., 1., 0., 1., 1.],\n",
       "       [0., 0., 0., 1., 0., 1.],\n",
       "       [1., 0., 1., 1., 1., 1.],\n",
       "       [1., 0., 1., 0., 1., 1.],\n",
       "       [1., 1., 1., 1., 1., 1.]])"
      ]
     },
     "execution_count": 18,
     "metadata": {},
     "output_type": "execute_result"
    }
   ],
   "source": [
    "new = pd.DataFrame({\"text\":['meuller on russian election interference theyre doing it as we sit here', \n",
    "                                             'justice ginsburg i am very much alive',\n",
    "                                             'photo of mother pleading with mexican soldier draws attention to migrant patrol',\n",
    "                                             'how a perfect storm cut off water from this colorado town',\n",
    "                                             'a requiem for audiogalaxy the digital wild wests best outlaw store',\n",
    "                                             'rapper meek mill is granted retrial after years long legal fight',\n",
    "                                             'how to help your anxious partner and yourself',\n",
    "                                             'travelling together 7 tips to help keep the peace']})\n",
    "processor = Process_Text_Data()\n",
    "processor.transform(new)\n",
    "tf_idf_new = vectorizer.transform(new['text'])\n",
    "\n",
    "best_chain = chains[results_jaccard.index(max(results_jaccard))]\n",
    "best_chain.fit(tf_idf_X_train, y_train)\n",
    "best_chain.predict(tf_idf_new).toarray()"
   ]
  },
  {
   "cell_type": "markdown",
   "metadata": {},
   "source": [
    "## RNN for Multilabel Classification"
   ]
  },
  {
   "cell_type": "code",
   "execution_count": 49,
   "metadata": {},
   "outputs": [],
   "source": [
    "# use custom function to get the corpus df and labels \n",
    "corpus_df_RNN, _, _ = get_labeled_dfs()\n",
    "\n",
    "# use custom class method to process data\n",
    "processor = Process_Text_Data()\n",
    "processor.transform(corpus_df_RNN, RNN=True)\n"
   ]
  },
  {
   "cell_type": "code",
   "execution_count": 50,
   "metadata": {},
   "outputs": [],
   "source": [
    "# create a set of unique words in the corpus\n",
    "vocab = set()\n",
    "for headline in corpus_df_RNN['text']:\n",
    "    for word in headline.split():\n",
    "        vocab.add(word)\n",
    "\n",
    "# get vectors from the pretrained vocab and create a dictionary with the words from the set as keys\n",
    "glove_embeddings = {}\n",
    "with open('/Users/flatironschool/Desktop/glove/glove.6B.300d.txt', 'rb') as f:\n",
    "    for i in f:\n",
    "        key_vec = i.split()\n",
    "        word = key_vec[0].decode('utf-8')\n",
    "        if word in vocab:\n",
    "            glove_embeddings[word] = np.array(key_vec[1:], dtype=np.float32)\n",
    "            "
   ]
  },
  {
   "cell_type": "code",
   "execution_count": 51,
   "metadata": {},
   "outputs": [],
   "source": [
    "tokenizer = text.Tokenizer()\n",
    "tokenizer.fit_on_texts(list(corpus_df_RNN['text']))\n",
    "\n",
    "# assign a unique number to each word in the corpus and represents texts via these numbers\n",
    "sequences = tokenizer.texts_to_sequences(corpus_df_RNN['text'])\n",
    "\n",
    "# add zeros to the front of each sequence as necessary to make them all the same length\n",
    "padded_X = sequence.pad_sequences(sequences, maxlen=15, padding='post')\n"
   ]
  },
  {
   "cell_type": "code",
   "execution_count": 52,
   "metadata": {},
   "outputs": [],
   "source": [
    "# create an array of zeros the size of the vocabulary by the size of the word vectors\n",
    "num_words = len(tokenizer.word_index) + 1\n",
    "embedding_matrix = np.zeros((num_words, 300))\n",
    "\n",
    "# fill the array so that the word vectors that fill the array correspond to their sequence numbers\n",
    "for ind, word in enumerate(tokenizer.word_index.keys()):\n",
    "    if word in glove_embeddings.keys():\n",
    "        embedding_matrix[ind + 1, :] = glove_embeddings[word]\n",
    "        "
   ]
  },
  {
   "cell_type": "code",
   "execution_count": 53,
   "metadata": {},
   "outputs": [],
   "source": [
    "X_train, X_test, y_train, y_test = train_test_split(padded_X, emotion_df[['anger_label', 'disgust_label', 'fear_label', 'joy_label', 'sadness_label', 'surprise_label']], test_size=0.25, random_state=10)\n",
    "\n",
    "# labels multihot encoded\n",
    "y_train_multihot = y_train.values\n",
    "y_test_multihot = y_test.values\n"
   ]
  },
  {
   "cell_type": "code",
   "execution_count": 54,
   "metadata": {},
   "outputs": [
    {
     "name": "stdout",
     "output_type": "stream",
     "text": [
      "Train on 937 samples, validate on 313 samples\n",
      "Epoch 1/30\n",
      "937/937 [==============================] - 5s 5ms/step - loss: 0.6857 - acc: 0.5994 - val_loss: 0.6022 - val_acc: 0.6874\n",
      "Epoch 2/30\n",
      "937/937 [==============================] - 0s 483us/step - loss: 0.5320 - acc: 0.7440 - val_loss: 0.5659 - val_acc: 0.7524\n",
      "Epoch 3/30\n",
      "937/937 [==============================] - 0s 498us/step - loss: 0.4637 - acc: 0.8004 - val_loss: 0.5796 - val_acc: 0.7476\n",
      "Epoch 4/30\n",
      "937/937 [==============================] - 0s 489us/step - loss: 0.4071 - acc: 0.8388 - val_loss: 0.6935 - val_acc: 0.6645\n",
      "Epoch 5/30\n",
      "937/937 [==============================] - 0s 524us/step - loss: 0.3757 - acc: 0.8605 - val_loss: 0.5601 - val_acc: 0.7497\n",
      "Epoch 6/30\n",
      "937/937 [==============================] - 1s 596us/step - loss: 0.3478 - acc: 0.8778 - val_loss: 0.5462 - val_acc: 0.7689\n",
      "Epoch 7/30\n",
      "937/937 [==============================] - 1s 687us/step - loss: 0.3329 - acc: 0.8858 - val_loss: 0.5486 - val_acc: 0.7630\n",
      "Epoch 8/30\n",
      "937/937 [==============================] - 1s 653us/step - loss: 0.3242 - acc: 0.8887 - val_loss: 0.5478 - val_acc: 0.7678\n",
      "Epoch 9/30\n",
      "937/937 [==============================] - 1s 614us/step - loss: 0.3161 - acc: 0.8940 - val_loss: 0.5478 - val_acc: 0.7694\n",
      "Epoch 10/30\n",
      "937/937 [==============================] - 1s 772us/step - loss: 0.3165 - acc: 0.8952 - val_loss: 0.5482 - val_acc: 0.7705\n",
      "Epoch 11/30\n",
      "937/937 [==============================] - 1s 743us/step - loss: 0.3134 - acc: 0.8938 - val_loss: 0.5485 - val_acc: 0.7705\n"
     ]
    }
   ],
   "source": [
    "model = Sequential()\n",
    "\n",
    "callbacks = [EarlyStopping(monitor='val_loss', patience=5),\n",
    "             ReduceLROnPlateau(monitor='val_loss', factor=0.1, patience=2)]\n",
    "\n",
    "model.add(Embedding(num_words, 300, weights=[embedding_matrix], input_length=15, trainable=False))\n",
    "model.add(LSTM(64, activation='relu', return_sequences=True))\n",
    "model.add(BatchNormalization())\n",
    "# model.add(Dropout(0.5))\n",
    "model.add(LSTM(32, activation='relu'))\n",
    "model.add(BatchNormalization())\n",
    "# model.add(Dropout(0.5))\n",
    "model.add(Dense(6, activation='sigmoid'))\n",
    "\n",
    "model.compile(loss='binary_crossentropy',\n",
    "              optimizer=rmsprop(lr=.002, decay=.00001),\n",
    "              metrics=['accuracy'])\n",
    "\n",
    "\n",
    "history = model.fit(X_train, \n",
    "                    y_train_multihot,\n",
    "                    epochs=30,\n",
    "                    batch_size=100,\n",
    "                    callbacks=callbacks,\n",
    "                    class_weight=[{0: 8, 1: 1}, {0: 10, 1: 1}, {0: 1, 1: 1}, {0: 1, 1: 1}, {0: 1, 1: 1}, {0: 1, 1: 1}],\n",
    "                    validation_data=(X_test, y_test_multihot))"
   ]
  },
  {
   "cell_type": "code",
   "execution_count": 55,
   "metadata": {},
   "outputs": [
    {
     "name": "stdout",
     "output_type": "stream",
     "text": [
      "313/313 [==============================] - 0s 309us/step\n"
     ]
    },
    {
     "data": {
      "text/plain": [
       "[0.5484788173113387, 0.7705005300692476]"
      ]
     },
     "execution_count": 55,
     "metadata": {},
     "output_type": "execute_result"
    },
    {
     "data": {
      "image/png": "[encoded data removed]",
      "text/plain": [
       "<Figure size 864x360 with 2 Axes>"
      ]
     },
     "metadata": {
      "needs_background": "light"
     },
     "output_type": "display_data"
    }
   ],
   "source": [
    "plt.figure(figsize=(12,5))\n",
    "\n",
    "plt.subplot(1,2,1)\n",
    "plt.plot(model.history.history['acc'], color='blue', label='acc')\n",
    "plt.plot(model.history.history['loss'], label='loss')\n",
    "plt.title(\"Training\")\n",
    "plt.legend()\n",
    "\n",
    "plt.subplot(1,2,2)\n",
    "plt.plot(model.history.history['val_acc'], color='blue', label='val_acc')\n",
    "plt.plot(model.history.history['val_loss'], label='val_loss')\n",
    "plt.title(\"Validation\")\n",
    "plt.legend()\n",
    "\n",
    "model.evaluate(X_test, y_test_multihot)\n"
   ]
  },
  {
   "cell_type": "code",
   "execution_count": 57,
   "metadata": {},
   "outputs": [],
   "source": [
    "model.save('RNN_multiclass_emotion.h5')\n",
    "\n",
    "RNN_preds = model.predict_on_batch(X_test)\n",
    "\n",
    "RNN_preds_df = pd.DataFrame({\"pred_anger\":RNN_preds[:,0], \"pred_disgust\":RNN_preds[:,1], \"pred_fear\":RNN_preds[:,2], \"pred_joy\":RNN_preds[:,3], \"pred_sadness\":RNN_preds[:,4], \"pred_surprise\":RNN_preds[:,5], \"anger\":y_test_multihot[:,0], \"disgust\":y_test_multihot[:,1], \"fear\": y_test_multihot[:,2], \"joy\": y_test_multihot[:,3], \"sadness\": y_test_multihot[:,4], \"surprise\": y_test_multihot[:,5]})\n"
   ]
  },
  {
   "cell_type": "code",
   "execution_count": 58,
   "metadata": {},
   "outputs": [
    {
     "name": "stdout",
     "output_type": "stream",
     "text": [
      "anger accuracy: 0.45263157894736844\n",
      "anger precision: 0.7771084337349398\n",
      "anger recall 0.821656050955414\n",
      "anger f1 0.7987616099071208\n",
      "\n",
      "\n",
      "disgust accuracy: 0.3263157894736842\n",
      "disgust precision: 0.6413793103448275\n",
      "disgust recall 0.768595041322314\n",
      "disgust f1 0.6992481203007518\n",
      "\n",
      "\n",
      "fear accuracy: 0.5620437956204379\n",
      "fear precision: 0.8148148148148148\n",
      "fear recall 0.7979274611398963\n",
      "fear f1 0.8062827225130891\n",
      "\n",
      "\n",
      "joy accuracy: 0.569811320754717\n",
      "joy precision: 0.755\n",
      "joy recall 0.7587939698492462\n",
      "joy f1 0.7568922305764411\n",
      "\n",
      "\n",
      "sadness accuracy: 0.6272401433691757\n",
      "sadness precision: 0.8177570093457944\n",
      "sadness recall 0.8373205741626795\n",
      "sadness f1 0.8274231678486997\n",
      "\n",
      "\n",
      "surprise accuracy: 0.8844884488448845\n",
      "surprise precision: 0.8933333333333333\n",
      "surprise recall 0.9640287769784173\n",
      "surprise f1 0.9273356401384083\n",
      "\n",
      "\n"
     ]
    },
    {
     "data": {
      "image/png": "[encoded data removed]",
      "text/plain": [
       "<Figure size 720x1080 with 12 Axes>"
      ]
     },
     "metadata": {
      "needs_background": "light"
     },
     "output_type": "display_data"
    }
   ],
   "source": [
    "label_confusion_matrices(['anger', 'disgust', 'fear', 'joy', 'sadness', 'surprise'], RNN_preds_df, RNN=True)"
   ]
  },
  {
   "cell_type": "code",
   "execution_count": 59,
   "metadata": {},
   "outputs": [
    {
     "name": "stdout",
     "output_type": "stream",
     "text": [
      "jaccard score average: 0.709\n",
      "hamming loss: 0.229\n",
      "f1 macro: 0.803\n"
     ]
    }
   ],
   "source": [
    "suite_of_scores(y_test, RNN_preds>.5)\n"
   ]
  }
 ],
 "metadata": {
  "kernelspec": {
   "display_name": "Python 3",
   "language": "python",
   "name": "python3"
  },
  "language_info": {
   "codemirror_mode": {
    "name": "ipython",
    "version": 3
   },
   "file_extension": ".py",
   "mimetype": "text/x-python",
   "name": "python",
   "nbconvert_exporter": "python",
   "pygments_lexer": "ipython3",
   "version": "3.7.3"
  }
 },
 "nbformat": 4,
 "nbformat_minor": 2
}
